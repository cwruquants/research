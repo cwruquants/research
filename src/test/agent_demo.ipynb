{
 "cells": [
  {
   "cell_type": "markdown",
   "metadata": {},
   "source": [
    "# Run Instructions\n",
    "\n",
    "1. Make sure conda is installed\n",
    "2. In terminal, run 'conda create -n myproject'\n",
    "3. Activate your environment by running 'conda activate myproject'\n",
    "4. run 'conda install pip'\n",
    "5. to get dependencies, run 'pip install -r requirements.txt'\n",
    "\n",
    "If you are still getting dependency issues, run \n",
    "'pip install word_forms sentence_transformers'\n",
    "\n",
    "After these steps, you should be good to run these! You can select your environment in the upper right hand corner of the jupyter notebook. "
   ]
  },
  {
   "cell_type": "code",
   "execution_count": 1,
   "metadata": {},
   "outputs": [
    {
     "name": "stdout",
     "output_type": "stream",
     "text": [
      "/Users/efang/Desktop/coding/research\n"
     ]
    }
   ],
   "source": [
    "%cd ../../"
   ]
  },
  {
   "cell_type": "code",
   "execution_count": 2,
   "metadata": {},
   "outputs": [
    {
     "name": "stderr",
     "output_type": "stream",
     "text": [
      "/Users/efang/anaconda3/envs/r2/lib/python3.13/site-packages/tqdm/auto.py:21: TqdmWarning: IProgress not found. Please update jupyter and ipywidgets. See https://ipywidgets.readthedocs.io/en/stable/user_install.html\n",
      "  from .autonotebook import tqdm as notebook_tqdm\n",
      "[nltk_data] Downloading package punkt to /Users/efang/nltk_data...\n",
      "[nltk_data]   Package punkt is already up-to-date!\n"
     ]
    }
   ],
   "source": [
    "from src.functions.matching.matching_agent import MatchingAgent\n",
    "from src.abstract_classes.attribute import DocumentAttr\n",
    "from src.functions.decompose_transcript import extract_presentation_section, extract_qa_section, clean_spoken_content\n"
   ]
  },
  {
   "cell_type": "code",
   "execution_count": 3,
   "metadata": {},
   "outputs": [],
   "source": [
    "# Function to load an xml file into a DocumentAttr object\n",
    "\n",
    "def load_sample_document(file_path: str) -> DocumentAttr:\n",
    "    \"\"\"\n",
    "    Load a sample XML earnings call transcript and extract its text content\n",
    "    using the decompose_transcript functions.\n",
    "    Returns a DocumentAttr object with the text.\n",
    "    \"\"\"\n",
    "    try:\n",
    "        # Extract presentation and Q&A sections\n",
    "        presentation_text = extract_presentation_section(file_path)\n",
    "        qa_text = extract_qa_section(file_path)\n",
    "        \n",
    "        # Combine sections\n",
    "        full_text = presentation_text + \"\\n\\n\" + qa_text\n",
    "        \n",
    "        # Clean spoken content to remove speaker tags and separators\n",
    "        cleaned_text = clean_spoken_content(full_text)\n",
    "        \n",
    "        return DocumentAttr(document=cleaned_text)\n",
    "    except Exception as e:\n",
    "        print(f\"Error loading document: {e}\")\n",
    "        return DocumentAttr(document=\"\")"
   ]
  },
  {
   "cell_type": "code",
   "execution_count": 4,
   "metadata": {},
   "outputs": [
    {
     "name": "stdout",
     "output_type": "stream",
     "text": [
      "Using device: cpu\n"
     ]
    }
   ],
   "source": [
    "# Initialize Matching Agent\n",
    "\n",
    "agent = MatchingAgent(\n",
    "    keywords_file=\"src/functions/matching/test_keywords.csv\",\n",
    "    document=load_sample_document(\"data/earnings_calls/ex1.xml\")\n",
    ")"
   ]
  },
  {
   "cell_type": "code",
   "execution_count": 5,
   "metadata": {},
   "outputs": [],
   "source": [
    "# perform cosine similarity\n",
    "\n",
    "matches = agent.cos_similarity(match_type=\"hybrid\", exclude_duplicates=True)\n",
    "matches2 = agent.cos_similarity(match_type=\"hybrid\", exclude_duplicates=False)"
   ]
  },
  {
   "cell_type": "code",
   "execution_count": 6,
   "metadata": {},
   "outputs": [
    {
     "name": "stdout",
     "output_type": "stream",
     "text": [
      "========================= Exposure Analysis Results =========================\n",
      "Cosine Similarity Threshold: 0.7\n",
      "\n",
      "-------------------- Summary --------------------\n",
      "Total keywords searched: 4\n",
      "Total keywords with matches: 2\n",
      "Total direct matches: 19\n",
      "Total cosine matches: 13\n",
      "Total unique matches: 6\n",
      "Unique matches: ['uncertain', 'impacted', 'impact', 'uncertainty', 'impacting', 'impacts']\n",
      "\n",
      "==================== Matches by Keyword ====================\n",
      "\n",
      "Keyword: 'uncertainty' (6 total matches)\n",
      "  Direct Matches (4):\n",
      "    - Text: 'uncertainty', Context: 'There's a lot more uncertainty.', Position: 5948\n",
      "    - Text: 'uncertainty', Context: 'And just given the uncertainty, could you talk about the month-to-month trends that you saw in rental?', Position: 6696\n",
      "    - Text: 'uncertainty', Context: 'These statements are based on Management's current expectations and are subject to uncertainty and changes in circumstances.', Position: 116\n",
      "    - Text: 'uncertainty', Context: 'Although commercial rental delivered solid growth, due to a high level of uncertainty regarding the macro environment and somewhat less robust demand conditions with rental tractors, we made a decision to downsize our fleet during the quarter in order to more conservatively position our fleet for 2016.', Position: 1093\n",
      "  Cosine Similarity Matches (2):\n",
      "    - Text: 'uncertain', Context: 'As I mentioned earlier, we took actions during the fourth quarter to more conservatively position our fleet in light of a softer and uncertain market condition.', Score: 0.8310, Position: 2534\n",
      "    - Text: 'uncertain', Context: 'As you know, the economic and freight environments are highly uncertain at the moment, which makes forecasting challenging.', Score: 0.8310, Position: 2207\n",
      "\n",
      "Keyword: 'impact' (26 total matches)\n",
      "  Direct Matches (15):\n",
      "    - Text: 'impact', Context: 'SCS operating revenue grew 7%, including the impact of foreign exchange.', Position: 1384\n",
      "    - Text: 'impact', Context: 'Despite this modest increase in share -- despite this, a modest increase in share count will negatively impact earnings since repurchases have been paused since early 2015.', Position: 2838\n",
      "    - Text: 'impact', Context: 'Excluding the impact of foreign exchange, FMS operating revenue was up by 9%.', Position: 746\n",
      "    - Text: 'impact', Context: 'FX is expected to negatively impact revenue growth by 2 percentage points.', Position: 3085\n",
      "    - Text: 'impact', Context: 'The lease fleet grew organically by 6,800 vehicles year-over-year, excluding the impact from planned reductions of UK trailers.', Position: 799\n",
      "    - Text: 'impact', Context: 'Weaker market conditions in used vehicle sales are expected to impact earnings by $0.62.', Position: 3246\n",
      "    - Text: 'impact', Context: 'Higher compensation expenses is expected to impact earnings by $0.25 per share this year.', Position: 3331\n",
      "    - Text: 'impact', Context: 'The net impact of the operational items I've mentioned so far will result in an EPS of $6.54.', Position: 3528\n",
      "    - Text: 'impact', Context: 'In addition, however, we are forecasting a negative $0.24 impact from higher tax rate, increased share count, and impacts from foreign exchange.', Position: 3556\n",
      "    - Text: 'impact', Context: 'Excluding the impact of foreign exchange, operating revenue grew by 9%.', Position: 450\n",
      "    - Text: 'impact', Context: 'We've talked in recent years about the impact that higher growth capital spending has on the business.', Position: 3856\n",
      "    - Text: 'impact', Context: 'Page 24 highlights the amount of growth capital spending we've had by year, driven from both fleet growth and higher vehicle investment costs per unit, and its impact on cash flow.', Position: 3894\n",
      "    - Text: 'impact', Context: 'This improvement is despite a $0.24 negative impact a from higher tax rate, share count, and negative foreign exchange.', Position: 4080\n",
      "    - Text: 'impact', Context: 'Our approach to the forecast was to assume a significant negative impact in used vehicle sales and a weaker commercial rental environment, as well as some headwinds in new lease sales.', Position: 2226\n",
      "    - Text: 'impact', Context: 'We're assuming foreign exchange rates remain stable at their current levels, which will result in a negative year-over-year impact to both revenue and earnings.', Position: 2347\n",
      "  Cosine Similarity Matches (11):\n",
      "    - Text: 'impacting', Context: 'The restructuring costs during the quarter are related to workforce reductions impacting approximately 250 employees, and to a lesser extent, the pending divestiture of a small logistics operation in Canada.', Score: 0.9353, Position: 386\n",
      "    - Text: 'impacts', Context: 'In supply chain, we expect revenue growth driven by new sales, partially offset by foreign exchange impacts.', Score: 0.9164, Position: 2768\n",
      "    - Text: 'impacts', Context: 'In addition, however, we are forecasting a negative $0.24 impact from higher tax rate, increased share count, and impacts from foreign exchange.', Score: 0.9164, Position: 3565\n",
      "    - Text: 'impacted', Context: 'Comparable results were below our forecast range of $1.72 to $1.82, but were impacted by $0.06 of unusual insurance-related items.', Score: 0.7449, Position: 326\n",
      "    - Text: 'impacted', Context: 'The bankruptcy charge negatively impacted EBT margins by approximately 80 basis points.', Score: 0.7449, Position: 1345\n",
      "    - Text: 'impacted', Context: 'The large medical claim negatively impacted EBT percent by nearly 70 basis points.', Score: 0.7449, Position: 1476\n",
      "    - Text: 'impacted', Context: 'Total revenue increased by 1% and was impacted by lower fuel costs passed through to customers, and foreign exchange.', Score: 0.7449, Position: 466\n",
      "    - Text: 'impacted', Context: 'So first, make sure that you're working off the dry revenue number, because the total revenue number is impacted by fuel changes and the price of fuel is down 30%.', Score: 0.7449, Position: 7939\n",
      "    - Text: 'impacted', Context: 'Free cash flow is favorably impacted by reduced capital expenditures, demonstrating the counter-cyclical nature of our business model.', Score: 0.7449, Position: 3978\n",
      "    - Text: 'impacted', Context: 'So that's what impacted fourth quarter, if you look at the sales in the prior fleet conversions we saw during the quarter.', Score: 0.7449, Position: 8004\n",
      "    - Text: 'impacted', Context: 'Used vehicle results were negatively impacted primarily by lower pricing on tractors.', Score: 0.7449, Position: 1147\n"
     ]
    }
   ],
   "source": [
    "print(matches)"
   ]
  },
  {
   "cell_type": "code",
   "execution_count": 7,
   "metadata": {},
   "outputs": [
    {
     "name": "stdout",
     "output_type": "stream",
     "text": [
      "========================= Exposure Analysis Results =========================\n",
      "Cosine Similarity Threshold: 0.7\n",
      "\n",
      "-------------------- Summary --------------------\n",
      "Total keywords searched: 4\n",
      "Total keywords with matches: 2\n",
      "Total direct matches: 19\n",
      "Total cosine matches: 54\n",
      "Total unique matches: 36\n",
      "Unique matches: ['more uncertainty', 'and uncertain', 'highly uncertain', 'impact that', 'uncertain at', 'uncertainty', 'impacting', 'what impacted', 'its impact', 'the uncertainty', 'negatively impact', 'impacted primarily', 'impacts we', 'of uncertainty', 'impact from', 'impacts from', 'impacting approximately', 'impact', 'and impacts', 'to impact', 'impact on', 'uncertainty you', 'the impact', 'impacted', 'negative impact', 'is impacted', 'impact a', 'uncertain', 'impact in', 'uncertainty and', 'impact of', 'uncertainty could', 'impact to', 'uncertainty regarding', 'to uncertainty', 'impacts']\n",
      "\n",
      "==================== Matches by Keyword ====================\n",
      "\n",
      "Keyword: 'uncertainty' (17 total matches)\n",
      "  Direct Matches (4):\n",
      "    - Text: 'uncertainty', Context: 'There's a lot more uncertainty.', Position: 5948\n",
      "    - Text: 'uncertainty', Context: 'And just given the uncertainty, could you talk about the month-to-month trends that you saw in rental?', Position: 6696\n",
      "    - Text: 'uncertainty', Context: 'These statements are based on Management's current expectations and are subject to uncertainty and changes in circumstances.', Position: 116\n",
      "    - Text: 'uncertainty', Context: 'Although commercial rental delivered solid growth, due to a high level of uncertainty regarding the macro environment and somewhat less robust demand conditions with rental tractors, we made a decision to downsize our fleet during the quarter in order to more conservatively position our fleet for 2016.', Position: 1093\n",
      "  Cosine Similarity Matches (13):\n",
      "    - Text: 'the uncertainty', Context: 'And just given the uncertainty, could you talk about the month-to-month trends that you saw in rental?', Score: 0.9620, Position: 6695\n",
      "    - Text: 'uncertainty and', Context: 'These statements are based on Management's current expectations and are subject to uncertainty and changes in circumstances.', Score: 0.9620, Position: 116\n",
      "    - Text: 'uncertainty regarding', Context: 'Although commercial rental delivered solid growth, due to a high level of uncertainty regarding the macro environment and somewhat less robust demand conditions with rental tractors, we made a decision to downsize our fleet during the quarter in order to more conservatively position our fleet for 2016.', Score: 0.9582, Position: 1093\n",
      "    - Text: 'of uncertainty', Context: 'Although commercial rental delivered solid growth, due to a high level of uncertainty regarding the macro environment and somewhat less robust demand conditions with rental tractors, we made a decision to downsize our fleet during the quarter in order to more conservatively position our fleet for 2016.', Score: 0.9509, Position: 1092\n",
      "    - Text: 'to uncertainty', Context: 'These statements are based on Management's current expectations and are subject to uncertainty and changes in circumstances.', Score: 0.9223, Position: 115\n",
      "    - Text: 'more uncertainty', Context: 'There's a lot more uncertainty.', Score: 0.8927, Position: 5947\n",
      "    - Text: 'uncertainty You', Context: 'There's a lot more uncertainty.', Score: 0.8852, Position: 5948\n",
      "    - Text: 'uncertainty could', Context: 'And just given the uncertainty, could you talk about the month-to-month trends that you saw in rental?', Score: 0.8514, Position: 6696\n",
      "    - Text: 'uncertain', Context: 'As I mentioned earlier, we took actions during the fourth quarter to more conservatively position our fleet in light of a softer and uncertain market condition.', Score: 0.8310, Position: 2534\n",
      "    - Text: 'uncertain', Context: 'As you know, the economic and freight environments are highly uncertain at the moment, which makes forecasting challenging.', Score: 0.8310, Position: 2207\n",
      "    - Text: 'uncertain at', Context: 'As you know, the economic and freight environments are highly uncertain at the moment, which makes forecasting challenging.', Score: 0.7554, Position: 2207\n",
      "    - Text: 'and uncertain', Context: 'As I mentioned earlier, we took actions during the fourth quarter to more conservatively position our fleet in light of a softer and uncertain market condition.', Score: 0.7459, Position: 2533\n",
      "    - Text: 'highly uncertain', Context: 'As you know, the economic and freight environments are highly uncertain at the moment, which makes forecasting challenging.', Score: 0.7023, Position: 2206\n",
      "\n",
      "Keyword: 'impact' (56 total matches)\n",
      "  Direct Matches (15):\n",
      "    - Text: 'impact', Context: 'SCS operating revenue grew 7%, including the impact of foreign exchange.', Position: 1384\n",
      "    - Text: 'impact', Context: 'Despite this modest increase in share -- despite this, a modest increase in share count will negatively impact earnings since repurchases have been paused since early 2015.', Position: 2838\n",
      "    - Text: 'impact', Context: 'Excluding the impact of foreign exchange, FMS operating revenue was up by 9%.', Position: 746\n",
      "    - Text: 'impact', Context: 'FX is expected to negatively impact revenue growth by 2 percentage points.', Position: 3085\n",
      "    - Text: 'impact', Context: 'The lease fleet grew organically by 6,800 vehicles year-over-year, excluding the impact from planned reductions of UK trailers.', Position: 799\n",
      "    - Text: 'impact', Context: 'Weaker market conditions in used vehicle sales are expected to impact earnings by $0.62.', Position: 3246\n",
      "    - Text: 'impact', Context: 'Higher compensation expenses is expected to impact earnings by $0.25 per share this year.', Position: 3331\n",
      "    - Text: 'impact', Context: 'The net impact of the operational items I've mentioned so far will result in an EPS of $6.54.', Position: 3528\n",
      "    - Text: 'impact', Context: 'In addition, however, we are forecasting a negative $0.24 impact from higher tax rate, increased share count, and impacts from foreign exchange.', Position: 3556\n",
      "    - Text: 'impact', Context: 'Excluding the impact of foreign exchange, operating revenue grew by 9%.', Position: 450\n",
      "    - Text: 'impact', Context: 'We've talked in recent years about the impact that higher growth capital spending has on the business.', Position: 3856\n",
      "    - Text: 'impact', Context: 'Page 24 highlights the amount of growth capital spending we've had by year, driven from both fleet growth and higher vehicle investment costs per unit, and its impact on cash flow.', Position: 3894\n",
      "    - Text: 'impact', Context: 'This improvement is despite a $0.24 negative impact a from higher tax rate, share count, and negative foreign exchange.', Position: 4080\n",
      "    - Text: 'impact', Context: 'Our approach to the forecast was to assume a significant negative impact in used vehicle sales and a weaker commercial rental environment, as well as some headwinds in new lease sales.', Position: 2226\n",
      "    - Text: 'impact', Context: 'We're assuming foreign exchange rates remain stable at their current levels, which will result in a negative year-over-year impact to both revenue and earnings.', Position: 2347\n",
      "  Cosine Similarity Matches (41):\n",
      "    - Text: 'the impact', Context: 'Excluding the impact of foreign exchange, operating revenue grew by 9%.', Score: 0.9383, Position: 449\n",
      "    - Text: 'the impact', Context: 'Excluding the impact of foreign exchange, FMS operating revenue was up by 9%.', Score: 0.9383, Position: 745\n",
      "    - Text: 'the impact', Context: 'The lease fleet grew organically by 6,800 vehicles year-over-year, excluding the impact from planned reductions of UK trailers.', Score: 0.9383, Position: 798\n",
      "    - Text: 'the impact', Context: 'SCS operating revenue grew 7%, including the impact of foreign exchange.', Score: 0.9383, Position: 1383\n",
      "    - Text: 'the impact', Context: 'We've talked in recent years about the impact that higher growth capital spending has on the business.', Score: 0.9383, Position: 3855\n",
      "    - Text: 'impacting', Context: 'The restructuring costs during the quarter are related to workforce reductions impacting approximately 250 employees, and to a lesser extent, the pending divestiture of a small logistics operation in Canada.', Score: 0.9353, Position: 386\n",
      "    - Text: 'impact from', Context: 'The lease fleet grew organically by 6,800 vehicles year-over-year, excluding the impact from planned reductions of UK trailers.', Score: 0.9306, Position: 799\n",
      "    - Text: 'impact from', Context: 'In addition, however, we are forecasting a negative $0.24 impact from higher tax rate, increased share count, and impacts from foreign exchange.', Score: 0.9306, Position: 3556\n",
      "    - Text: 'impacts', Context: 'In supply chain, we expect revenue growth driven by new sales, partially offset by foreign exchange impacts.', Score: 0.9164, Position: 2768\n",
      "    - Text: 'impacts', Context: 'In addition, however, we are forecasting a negative $0.24 impact from higher tax rate, increased share count, and impacts from foreign exchange.', Score: 0.9164, Position: 3565\n",
      "    - Text: 'impact in', Context: 'Our approach to the forecast was to assume a significant negative impact in used vehicle sales and a weaker commercial rental environment, as well as some headwinds in new lease sales.', Score: 0.9102, Position: 2226\n",
      "    - Text: 'to impact', Context: 'Weaker market conditions in used vehicle sales are expected to impact earnings by $0.62.', Score: 0.8776, Position: 3245\n",
      "    - Text: 'to impact', Context: 'Higher compensation expenses is expected to impact earnings by $0.25 per share this year.', Score: 0.8776, Position: 3330\n",
      "    - Text: 'impacts from', Context: 'In addition, however, we are forecasting a negative $0.24 impact from higher tax rate, increased share count, and impacts from foreign exchange.', Score: 0.8644, Position: 3565\n",
      "    - Text: 'impact to', Context: 'We're assuming foreign exchange rates remain stable at their current levels, which will result in a negative year-over-year impact to both revenue and earnings.', Score: 0.8586, Position: 2347\n",
      "    - Text: 'impact a', Context: 'This improvement is despite a $0.24 negative impact a from higher tax rate, share count, and negative foreign exchange.', Score: 0.8573, Position: 4080\n",
      "    - Text: 'impact of', Context: 'SCS operating revenue grew 7%, including the impact of foreign exchange.', Score: 0.8464, Position: 1384\n",
      "    - Text: 'impact of', Context: 'The net impact of the operational items I've mentioned so far will result in an EPS of $6.54.', Score: 0.8464, Position: 3528\n",
      "    - Text: 'impact of', Context: 'Excluding the impact of foreign exchange, operating revenue grew by 9%.', Score: 0.8464, Position: 450\n",
      "    - Text: 'impact of', Context: 'Excluding the impact of foreign exchange, FMS operating revenue was up by 9%.', Score: 0.8464, Position: 746\n",
      "    - Text: 'impact on', Context: 'Page 24 highlights the amount of growth capital spending we've had by year, driven from both fleet growth and higher vehicle investment costs per unit, and its impact on cash flow.', Score: 0.8274, Position: 3894\n",
      "    - Text: 'its impact', Context: 'Page 24 highlights the amount of growth capital spending we've had by year, driven from both fleet growth and higher vehicle investment costs per unit, and its impact on cash flow.', Score: 0.8235, Position: 3893\n",
      "    - Text: 'impact that', Context: 'We've talked in recent years about the impact that higher growth capital spending has on the business.', Score: 0.7809, Position: 3856\n",
      "    - Text: 'negative impact', Context: 'Our approach to the forecast was to assume a significant negative impact in used vehicle sales and a weaker commercial rental environment, as well as some headwinds in new lease sales.', Score: 0.7664, Position: 2225\n",
      "    - Text: 'negative impact', Context: 'This improvement is despite a $0.24 negative impact a from higher tax rate, share count, and negative foreign exchange.', Score: 0.7664, Position: 4079\n",
      "    - Text: 'impacts We', Context: 'In supply chain, we expect revenue growth driven by new sales, partially offset by foreign exchange impacts.', Score: 0.7654, Position: 2768\n",
      "    - Text: 'negatively impact', Context: 'Despite this modest increase in share -- despite this, a modest increase in share count will negatively impact earnings since repurchases have been paused since early 2015.', Score: 0.7587, Position: 2837\n",
      "    - Text: 'negatively impact', Context: 'FX is expected to negatively impact revenue growth by 2 percentage points.', Score: 0.7587, Position: 3084\n",
      "    - Text: 'what impacted', Context: 'So that's what impacted fourth quarter, if you look at the sales in the prior fleet conversions we saw during the quarter.', Score: 0.7546, Position: 8003\n",
      "    - Text: 'is impacted', Context: 'So first, make sure that you're working off the dry revenue number, because the total revenue number is impacted by fuel changes and the price of fuel is down 30%.', Score: 0.7450, Position: 7938\n",
      "    - Text: 'impacted', Context: 'Comparable results were below our forecast range of $1.72 to $1.82, but were impacted by $0.06 of unusual insurance-related items.', Score: 0.7449, Position: 326\n",
      "    - Text: 'impacted', Context: 'The bankruptcy charge negatively impacted EBT margins by approximately 80 basis points.', Score: 0.7449, Position: 1345\n",
      "    - Text: 'impacted', Context: 'The large medical claim negatively impacted EBT percent by nearly 70 basis points.', Score: 0.7449, Position: 1476\n",
      "    - Text: 'impacted', Context: 'Total revenue increased by 1% and was impacted by lower fuel costs passed through to customers, and foreign exchange.', Score: 0.7449, Position: 466\n",
      "    - Text: 'impacted', Context: 'So first, make sure that you're working off the dry revenue number, because the total revenue number is impacted by fuel changes and the price of fuel is down 30%.', Score: 0.7449, Position: 7939\n",
      "    - Text: 'impacted', Context: 'Free cash flow is favorably impacted by reduced capital expenditures, demonstrating the counter-cyclical nature of our business model.', Score: 0.7449, Position: 3978\n",
      "    - Text: 'impacted', Context: 'So that's what impacted fourth quarter, if you look at the sales in the prior fleet conversions we saw during the quarter.', Score: 0.7449, Position: 8004\n",
      "    - Text: 'impacted', Context: 'Used vehicle results were negatively impacted primarily by lower pricing on tractors.', Score: 0.7449, Position: 1147\n",
      "    - Text: 'and impacts', Context: 'In addition, however, we are forecasting a negative $0.24 impact from higher tax rate, increased share count, and impacts from foreign exchange.', Score: 0.7312, Position: 3564\n",
      "    - Text: 'impacted primarily', Context: 'Used vehicle results were negatively impacted primarily by lower pricing on tractors.', Score: 0.7133, Position: 1147\n",
      "    - Text: 'impacting approximately', Context: 'The restructuring costs during the quarter are related to workforce reductions impacting approximately 250 employees, and to a lesser extent, the pending divestiture of a small logistics operation in Canada.', Score: 0.7060, Position: 386\n"
     ]
    }
   ],
   "source": [
    "print(matches2)"
   ]
  },
  {
   "cell_type": "code",
   "execution_count": 8,
   "metadata": {},
   "outputs": [
    {
     "name": "stdout",
     "output_type": "stream",
     "text": [
      "Using device: cpu\n"
     ]
    }
   ],
   "source": [
    "agent2 = MatchingAgent(\n",
    "    keywords_file=\"data/paper_word_sets/political_words.csv\",\n",
    "    document=load_sample_document(\"data/earnings_calls/ex1.xml\")\n",
    ")"
   ]
  },
  {
   "cell_type": "code",
   "execution_count": 9,
   "metadata": {},
   "outputs": [],
   "source": [
    "matches = agent2.cos_similarity(match_type=\"hybrid\")"
   ]
  },
  {
   "cell_type": "code",
   "execution_count": 18,
   "metadata": {},
   "outputs": [
    {
     "ename": "FileNotFoundError",
     "evalue": "[Errno 2] No such file or directory: 'research/results/tester.json'",
     "output_type": "error",
     "traceback": [
      "\u001b[31m---------------------------------------------------------------------------\u001b[39m",
      "\u001b[31mFileNotFoundError\u001b[39m                         Traceback (most recent call last)",
      "\u001b[36mCell\u001b[39m\u001b[36m \u001b[39m\u001b[32mIn[18]\u001b[39m\u001b[32m, line 1\u001b[39m\n\u001b[32m----> \u001b[39m\u001b[32m1\u001b[39m \u001b[43mmatches\u001b[49m\u001b[43m.\u001b[49m\u001b[43mexport_to_json\u001b[49m\u001b[43m(\u001b[49m\u001b[33;43m\"\u001b[39;49m\u001b[33;43mresearch/results/tester.json\u001b[39;49m\u001b[33;43m\"\u001b[39;49m\u001b[43m)\u001b[49m\n",
      "\u001b[36mFile \u001b[39m\u001b[32m~/Desktop/coding/research/src/functions/matching/exposure_results.py:248\u001b[39m, in \u001b[36mExposureResults.export_to_json\u001b[39m\u001b[34m(self, path)\u001b[39m\n\u001b[32m    245\u001b[39m     os.makedirs(output_dir, exist_ok=\u001b[38;5;28;01mTrue\u001b[39;00m)\n\u001b[32m    246\u001b[39m     path = os.path.join(output_dir, \u001b[33mf\u001b[39m\u001b[33m\"\u001b[39m\u001b[33mexposure_results_\u001b[39m\u001b[38;5;132;01m{\u001b[39;00mtimestamp\u001b[38;5;132;01m}\u001b[39;00m\u001b[33m.json\u001b[39m\u001b[33m\"\u001b[39m)\n\u001b[32m--> \u001b[39m\u001b[32m248\u001b[39m \u001b[38;5;28;01mwith\u001b[39;00m \u001b[38;5;28;43mopen\u001b[39;49m\u001b[43m(\u001b[49m\u001b[43mpath\u001b[49m\u001b[43m,\u001b[49m\u001b[43m \u001b[49m\u001b[33;43m\"\u001b[39;49m\u001b[33;43mw\u001b[39;49m\u001b[33;43m\"\u001b[39;49m\u001b[43m,\u001b[49m\u001b[43m \u001b[49m\u001b[43mencoding\u001b[49m\u001b[43m=\u001b[49m\u001b[33;43m\"\u001b[39;49m\u001b[33;43mutf-8\u001b[39;49m\u001b[33;43m\"\u001b[39;49m\u001b[43m)\u001b[49m \u001b[38;5;28;01mas\u001b[39;00m f:\n\u001b[32m    249\u001b[39m     json.dump(\u001b[38;5;28mself\u001b[39m.export_to_dict(), f, indent=\u001b[32m4\u001b[39m)\n",
      "\u001b[31mFileNotFoundError\u001b[39m: [Errno 2] No such file or directory: 'research/results/tester.json'"
     ]
    }
   ],
   "source": [
    "matches.export_to_json(\"research/results/tester.json\")"
   ]
  },
  {
   "cell_type": "code",
   "execution_count": 19,
   "metadata": {},
   "outputs": [],
   "source": [
    "from src.functions.matching.exposure_results import ExposureResults\n",
    "\n",
    "test_json = ExposureResults.load_json(\"results/tester.json\")"
   ]
  },
  {
   "cell_type": "code",
   "execution_count": null,
   "metadata": {},
   "outputs": [
    {
     "name": "stdout",
     "output_type": "stream",
     "text": [
      "========================= Exposure Analysis Results =========================\n",
      "Cosine Similarity Threshold: 0.7\n",
      "\n",
      "-------------------- Summary --------------------\n",
      "Total keywords searched: 57\n",
      "Total keywords with matches: 7\n",
      "Total direct matches: 5\n",
      "Total cosine matches: 11\n",
      "Total unique matches: 9\n",
      "Unique matches: ['congress', 'conservatively', 'economy', 'policy', 'conservative', 'economic', 'executive', 'political', 'balance']\n",
      "\n",
      "==================== Matches by Keyword ====================\n",
      "\n",
      "Keyword: 'Checks and balances' (2 total matches)\n",
      "  Cosine Similarity Matches (2):\n",
      "    - Text: 'balance', Context: 'This will provide us with additional balance sheet flexibility going forward and will be the key driver in restarting anti-dilutive share repurchases.', Score: 0.7201, Position: 3831\n",
      "    - Text: 'balance', Context: 'We expect to begin repurchases in midyear 2016, but we'll continue to evaluate the appropriate timing, primarily based on our declining balance sheet leverage.', Score: 0.7201, Position: 599\n",
      "\n",
      "Keyword: 'Congress' (1 total matches)\n",
      "  Direct Matches (1):\n",
      "    - Text: 'congress', Context: 'Good morning, and welcome to in congress Ryder System, Incorporated fourth-quarter 2015 earnings release conference call.', Position: 6\n",
      "\n",
      "Keyword: 'Conservative' (4 total matches)\n",
      "  Direct Matches (1):\n",
      "    - Text: 'conservative', Context: 'We felt it was the right thing to do to start to get the rental fleet down further, to be more conservative in our fleeting.', Position: 7372\n",
      "  Cosine Similarity Matches (3):\n",
      "    - Text: 'conservatively', Context: 'As I mentioned earlier, we took actions during the fourth quarter to more conservatively position our fleet in light of a softer and uncertain market condition.', Score: 0.8295, Position: 2524\n",
      "    - Text: 'conservatively', Context: 'The increased inventory reflects our decision during the fourth quarter to downsize rental fleet in order to position it more conservatively for 2016.', Score: 0.8295, Position: 1943\n",
      "    - Text: 'conservatively', Context: 'Although commercial rental delivered solid growth, due to a high level of uncertainty regarding the macro environment and somewhat less robust demand conditions with rental tractors, we made a decision to downsize our fleet during the quarter in order to more conservatively position our fleet for 2016.', Score: 0.8295, Position: 1122\n",
      "\n",
      "Keyword: 'Domestic policy' (2 total matches)\n",
      "  Cosine Similarity Matches (2):\n",
      "    - Text: 'policy', Context: 'So there wouldn't be depreciation policy movement one way or the other.', Score: 0.7722, Position: 8967\n",
      "    - Text: 'policy', Context: 'I think as we considered the depreciation policy, we did look at that also.', Score: 0.7722, Position: 8919\n",
      "\n",
      "Keyword: 'Economy' (4 total matches)\n",
      "  Direct Matches (1):\n",
      "    - Text: 'economy', Context: 'In -- our 2016 forecast anticipates slow to moderate growth for the overall economy.', Position: 2303\n",
      "  Cosine Similarity Matches (3):\n",
      "    - Text: 'economic', Context: 'Or did you see more hesitancy from customers to make structural changes to their network in a weak economic environment?', Score: 0.8875, Position: 6529\n",
      "    - Text: 'economic', Context: 'Actual results may differ materially from these expectations due to changes in economic, business, competitive, market, political and regulatory factors.', Score: 0.8875, Position: 133\n",
      "    - Text: 'economic', Context: 'As you know, the economic and freight environments are highly uncertain at the moment, which makes forecasting challenging.', Score: 0.8875, Position: 2201\n",
      "\n",
      "Keyword: 'Election' (1 total matches)\n",
      "  Cosine Similarity Matches (1):\n",
      "    - Text: 'political', Context: 'Actual results may differ materially from these expectations due to changes in economic, business, competitive, market, political and regulatory factors.', Score: 0.7080, Position: 137\n",
      "\n",
      "Keyword: 'Executive' (2 total matches)\n",
      "  Direct Matches (2):\n",
      "    - Text: 'Executive', Context: 'Presenting on today's call are Robert Sanchez, Chairman and Chief Executive Officer; and Art Garcia, Executive Vice President and Chief Financial Officer.', Position: 177\n",
      "    - Text: 'Executive', Context: 'Presenting on today's call are Robert Sanchez, Chairman and Chief Executive Officer; and Art Garcia, Executive Vice President and Chief Financial Officer.', Position: 182\n"
     ]
    }
   ],
   "source": [
    "print(test_json)"
   ]
  }
 ],
 "metadata": {
  "kernelspec": {
   "display_name": "r2",
   "language": "python",
   "name": "python3"
  },
  "language_info": {
   "codemirror_mode": {
    "name": "ipython",
    "version": 3
   },
   "file_extension": ".py",
   "mimetype": "text/x-python",
   "name": "python",
   "nbconvert_exporter": "python",
   "pygments_lexer": "ipython3",
   "version": "3.13.5"
  }
 },
 "nbformat": 4,
 "nbformat_minor": 2
}
