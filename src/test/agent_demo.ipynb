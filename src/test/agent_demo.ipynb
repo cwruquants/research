{
 "cells": [
  {
   "cell_type": "markdown",
   "metadata": {},
   "source": [
    "# Run Instructions\n",
    "\n",
    "1. Make sure conda is installed\n",
    "2. In terminal, run 'conda create -n myproject'\n",
    "3. Activate your environment by running 'conda activate myproject'\n",
    "4. run 'conda install pip'\n",
    "5. to get dependencies, run 'pip install -r requirements.txt'\n",
    "\n",
    "If you are still getting dependency issues, run \n",
    "'pip install word_forms sentence_transformers'\n",
    "\n",
    "After these steps, you should be good to run these! You can select your environment in the upper right hand corner of the jupyter notebook. "
   ]
  },
  {
   "cell_type": "code",
   "execution_count": 2,
   "metadata": {},
   "outputs": [
    {
     "name": "stdout",
     "output_type": "stream",
     "text": [
      "/Users/efang/Desktop/coding/research\n"
     ]
    }
   ],
   "source": [
    "%cd ../../"
   ]
  },
  {
   "cell_type": "code",
   "execution_count": 2,
   "metadata": {},
   "outputs": [
    {
     "name": "stderr",
     "output_type": "stream",
     "text": [
      "/Users/efang/anaconda3/envs/r2/lib/python3.13/site-packages/tqdm/auto.py:21: TqdmWarning: IProgress not found. Please update jupyter and ipywidgets. See https://ipywidgets.readthedocs.io/en/stable/user_install.html\n",
      "  from .autonotebook import tqdm as notebook_tqdm\n"
     ]
    }
   ],
   "source": [
    "from src.functions.matching.matching_agent import MatchingAgent\n",
    "from src.abstract_classes.attribute import DocumentAttr\n",
    "from src.functions.decompose_transcript import extract_presentation_section, extract_qa_section, clean_spoken_content\n"
   ]
  },
  {
   "cell_type": "code",
   "execution_count": 3,
   "metadata": {},
   "outputs": [
    {
     "name": "stdout",
     "output_type": "stream",
     "text": [
      "Using device: cpu\n",
      "Using device: cpu\n"
     ]
    }
   ],
   "source": [
    "agent = MatchingAgent(\n",
    "    keywords_path=\"data/test_sets/politics.csv\",\n",
    "    document_path = \"data/earnings_calls/ex1.xml\"\n",
    ")\n",
    "agent2 = MatchingAgent(\n",
    "    keywords_path=\"data/test_sets/risk.csv\",\n",
    "    document_path = \"data/earnings_calls/ex1.xml\"\n",
    ")"
   ]
  },
  {
   "cell_type": "code",
   "execution_count": 7,
   "metadata": {},
   "outputs": [],
   "source": [
    "political_matches = agent.cos_similarity(match_type=\"hybrid\", exclude_duplicates=True)\n",
    "risk_matches = agent2.cos_similarity(match_type=\"hybrid\", exclude_duplicates=True)"
   ]
  },
  {
   "cell_type": "code",
   "execution_count": 8,
   "metadata": {},
   "outputs": [
    {
     "name": "stdout",
     "output_type": "stream",
     "text": [
      "File saved to:  results/exposure_results_20250804_195223.json\n"
     ]
    }
   ],
   "source": [
    "political_matches.export_to_json(output_dir=\"results\", export_format=\"sentence\")"
   ]
  },
  {
   "cell_type": "code",
   "execution_count": 9,
   "metadata": {},
   "outputs": [
    {
     "name": "stdout",
     "output_type": "stream",
     "text": [
      "File saved to:  results/exposure_results_20250804_195226.json\n"
     ]
    }
   ],
   "source": [
    "risk_matches.export_to_json(output_dir=\"results\", export_format=\"sentence\")"
   ]
  },
  {
   "cell_type": "code",
   "execution_count": 3,
   "metadata": {},
   "outputs": [
    {
     "name": "stdout",
     "output_type": "stream",
     "text": [
      "File saved to:  results/analysis_results_20250804_195427.json\n"
     ]
    },
    {
     "data": {
      "text/plain": [
       "{'metadata': {'file1_name': 'results/exposure_results_20250804_195223.json',\n",
       "  'file2_name': 'results/exposure_results_20250804_195226.json',\n",
       "  'sentences_with_matches_file1': 11,\n",
       "  'sentences_with_matches_file2': 31,\n",
       "  'union_sentences_with_matches': 40,\n",
       "  'common_sentences_with_matches': 2,\n",
       "  'pct_common_over_union': 5.0,\n",
       "  'pct_file1_sentences_overlapped': 18.1818,\n",
       "  'pct_file2_sentences_overlapped': 6.4516},\n",
       " 'by_sentence': {'In addition, however, we are forecasting a negative $0.24 impact from higher tax rate, increased share count, and impacts from foreign exchange.': {'file1': {'keywords': ['taxes'],\n",
       "    'matched_texts': ['tax']},\n",
       "   'file2': {'keywords': ['impact'], 'matched_texts': ['impact', 'impacts']}},\n",
       "  'This improvement is despite a $0.24 negative impact a from higher tax rate, share count, and negative foreign exchange.': {'file1': {'keywords': ['taxes'],\n",
       "    'matched_texts': ['tax']},\n",
       "   'file2': {'keywords': ['impact'], 'matched_texts': ['impact']}}}}"
      ]
     },
     "execution_count": 3,
     "metadata": {},
     "output_type": "execute_result"
    }
   ],
   "source": [
    "from src.functions.result_analysis import compare\n",
    "\n",
    "compare(\n",
    "    compare1=\"results/exposure_results_20250804_195223.json\", \n",
    "    compare2=\"results/exposure_results_20250804_195226.json\",\n",
    "    export=True,\n",
    "    output_dir=\"results\",\n",
    ")"
   ]
  }
 ],
 "metadata": {
  "kernelspec": {
   "display_name": "r2",
   "language": "python",
   "name": "python3"
  },
  "language_info": {
   "codemirror_mode": {
    "name": "ipython",
    "version": 3
   },
   "file_extension": ".py",
   "mimetype": "text/x-python",
   "name": "python",
   "nbconvert_exporter": "python",
   "pygments_lexer": "ipython3",
   "version": "3.13.5"
  }
 },
 "nbformat": 4,
 "nbformat_minor": 2
}
