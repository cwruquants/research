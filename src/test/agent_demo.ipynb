{
 "cells": [
  {
   "cell_type": "markdown",
   "metadata": {},
   "source": [
    "# Run Instructions\n",
    "\n",
    "1. Make sure conda is installed\n",
    "2. In terminal, run 'conda create -n myproject'\n",
    "3. Activate your environment by running 'conda activate myproject'\n",
    "4. run 'conda install pip'\n",
    "5. to get dependencies, run 'pip install -r requirements.txt'\n",
    "\n",
    "If you are still getting dependency issues, run \n",
    "'pip install word_forms sentence_transformers'\n",
    "\n",
    "After these steps, you should be good to run these! You can select your environment in the upper right hand corner of the jupyter notebook. "
   ]
  },
  {
   "cell_type": "code",
   "execution_count": null,
   "metadata": {},
   "outputs": [],
   "source": [
    "%cd ../../"
   ]
  },
  {
   "cell_type": "code",
   "execution_count": null,
   "metadata": {},
   "outputs": [],
   "source": [
    "from src.functions.matching.matching_agent import MatchingAgent\n",
    "from src.abstract_classes.attribute import DocumentAttr\n",
    "from src.functions.decompose_transcript import extract_presentation_section, extract_qa_section, clean_spoken_content\n"
   ]
  },
  {
   "cell_type": "code",
   "execution_count": null,
   "metadata": {},
   "outputs": [],
   "source": [
    "agent = MatchingAgent(\n",
    "    keywords_path=\"data/test_sets/politics.csv\",\n",
    "    document_path = \"data/earnings_calls/ex1.xml\"\n",
    ")\n",
    "agent = MatchingAgent(\n",
    "    keywords_path=\"data/test_sets/risk.csv\",\n",
    "    document_path = \"data/earnings_calls/ex1.xml\"\n",
    ")"
   ]
  },
  {
   "cell_type": "code",
   "execution_count": null,
   "metadata": {},
   "outputs": [],
   "source": [
    "matches = agent.cos_similarity(match_type=\"hybrid\", exclude_duplicates=True)"
   ]
  },
  {
   "cell_type": "code",
   "execution_count": null,
   "metadata": {},
   "outputs": [],
   "source": [
    "matches.export_to_json(output_dir=\"results\", export_format=\"sentence\")"
   ]
  }
 ],
 "metadata": {
  "kernelspec": {
   "display_name": "r2",
   "language": "python",
   "name": "python3"
  },
  "language_info": {
   "codemirror_mode": {
    "name": "ipython",
    "version": 3
   },
   "file_extension": ".py",
   "mimetype": "text/x-python",
   "name": "python",
   "nbconvert_exporter": "python",
   "pygments_lexer": "ipython3",
   "version": "3.13.5"
  }
 },
 "nbformat": 4,
 "nbformat_minor": 2
}
