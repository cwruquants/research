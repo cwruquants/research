{
 "cells": [
  {
   "cell_type": "markdown",
   "metadata": {},
   "source": [
    "# Run Instructions\n",
    "\n",
    "1. Make sure conda is installed\n",
    "2. In terminal, run 'conda create -n myproject'\n",
    "3. Activate your environment by running 'conda activate myproject'\n",
    "4. run 'conda install pip'\n",
    "5. to get dependencies, run 'pip install -r requirements.txt'\n",
    "\n",
    "After these steps, you should be good to run these! You can select your environment in the upper right hand corner of the jupyter notebook. "
   ]
  },
  {
   "cell_type": "code",
   "execution_count": 1,
   "metadata": {},
   "outputs": [
    {
     "name": "stdout",
     "output_type": "stream",
     "text": [
      "/Users/efang/Desktop/coding/research\n"
     ]
    }
   ],
   "source": [
    "%cd ../../"
   ]
  },
  {
   "cell_type": "code",
   "execution_count": 4,
   "metadata": {},
   "outputs": [
    {
     "name": "stderr",
     "output_type": "stream",
     "text": [
      "/Users/efang/anaconda3/envs/myproject/lib/python3.13/site-packages/tqdm/auto.py:21: TqdmWarning: IProgress not found. Please update jupyter and ipywidgets. See https://ipywidgets.readthedocs.io/en/stable/user_install.html\n",
      "  from .autonotebook import tqdm as notebook_tqdm\n",
      "[nltk_data] Downloading package punkt to /Users/efang/nltk_data...\n",
      "[nltk_data]   Package punkt is already up-to-date!\n"
     ]
    }
   ],
   "source": [
    "from src.functions.matching.matching_agent import MatchingAgent\n",
    "from src.abstract_classes.attribute import DocumentAttr\n",
    "from src.functions.decompose_transcript import extract_presentation_section, extract_qa_section, clean_spoken_content\n"
   ]
  },
  {
   "cell_type": "code",
   "execution_count": 5,
   "metadata": {},
   "outputs": [],
   "source": [
    "# Function to load an xml file into a DocumentAttr object\n",
    "\n",
    "def load_sample_document(file_path: str) -> DocumentAttr:\n",
    "    \"\"\"\n",
    "    Load a sample XML earnings call transcript and extract its text content\n",
    "    using the decompose_transcript functions.\n",
    "    Returns a DocumentAttr object with the text.\n",
    "    \"\"\"\n",
    "    try:\n",
    "        # Extract presentation and Q&A sections\n",
    "        presentation_text = extract_presentation_section(file_path)\n",
    "        qa_text = extract_qa_section(file_path)\n",
    "        \n",
    "        # Combine sections\n",
    "        full_text = presentation_text + \"\\n\\n\" + qa_text\n",
    "        \n",
    "        # Clean spoken content to remove speaker tags and separators\n",
    "        cleaned_text = clean_spoken_content(full_text)\n",
    "        \n",
    "        return DocumentAttr(document=cleaned_text)\n",
    "    except Exception as e:\n",
    "        print(f\"Error loading document: {e}\")\n",
    "        return DocumentAttr(document=\"\")"
   ]
  },
  {
   "cell_type": "code",
   "execution_count": 6,
   "metadata": {},
   "outputs": [
    {
     "name": "stdout",
     "output_type": "stream",
     "text": [
      "Using device: cpu\n"
     ]
    }
   ],
   "source": [
    "# Initialize Matching Agent\n",
    "\n",
    "agent = MatchingAgent(\n",
    "    keywords_file=\"src/functions/matching/test_keywords.csv\",\n",
    "    document=load_sample_document(\"data/earnings_calls/ex1.xml\")\n",
    ")"
   ]
  },
  {
   "cell_type": "code",
   "execution_count": 7,
   "metadata": {},
   "outputs": [],
   "source": [
    "# perform cosine similarity\n",
    "\n",
    "matches = agent.cos_similarity(match_type=\"word\")"
   ]
  },
  {
   "cell_type": "code",
   "execution_count": 8,
   "metadata": {},
   "outputs": [
    {
     "name": "stdout",
     "output_type": "stream",
     "text": [
      "========================= Exposure Analysis Results =========================\n",
      "Cosine Similarity Threshold: 0.7\n",
      "\n",
      "-------------------- Summary --------------------\n",
      "Total keywords searched: 2\n",
      "Total keywords with matches: 2\n",
      "Total direct matches: 19\n",
      "Total cosine matches: 13\n",
      "Total unique matches: 6\n",
      "Unique matches: ['impacts', 'uncertainty', 'impacting', 'uncertain', 'impact', 'impacted']\n",
      "\n",
      "==================== Matches by Keyword ====================\n",
      "\n",
      "Keyword: 'uncertainty' (6 total matches)\n",
      "  Direct Matches (4):\n",
      "    - Text: 'uncertainty', Context: 'There's a lot more uncertainty.', Position: 5948\n",
      "    - Text: 'uncertainty', Context: 'And just given the uncertainty, could you talk about the month-to-month trends that you saw in rental?', Position: 6696\n",
      "    - Text: 'uncertainty', Context: 'These statements are based on Management's current expectations and are subject to uncertainty and changes in circumstances.', Position: 116\n",
      "    - Text: 'uncertainty', Context: 'Although commercial rental delivered solid growth, due to a high level of uncertainty regarding the macro environment and somewhat less robust demand conditions with rental tractors, we made a decision to downsize our fleet during the quarter in order to more conservatively position our fleet for 2016.', Position: 1093\n",
      "  Cosine Similarity Matches (2):\n",
      "    - Text: 'uncertain', Context: 'As I mentioned earlier, we took actions during the fourth quarter to more conservatively position our fleet in light of a softer and uncertain market condition.', Score: 0.8310, Position: 2534\n",
      "    - Text: 'uncertain', Context: 'As you know, the economic and freight environments are highly uncertain at the moment, which makes forecasting challenging.', Score: 0.8310, Position: 2207\n",
      "\n",
      "Keyword: 'impact' (26 total matches)\n",
      "  Direct Matches (15):\n",
      "    - Text: 'impact', Context: 'SCS operating revenue grew 7%, including the impact of foreign exchange.', Position: 1384\n",
      "    - Text: 'impact', Context: 'Despite this modest increase in share -- despite this, a modest increase in share count will negatively impact earnings since repurchases have been paused since early 2015.', Position: 2838\n",
      "    - Text: 'impact', Context: 'Excluding the impact of foreign exchange, FMS operating revenue was up by 9%.', Position: 746\n",
      "    - Text: 'impact', Context: 'FX is expected to negatively impact revenue growth by 2 percentage points.', Position: 3085\n",
      "    - Text: 'impact', Context: 'The lease fleet grew organically by 6,800 vehicles year-over-year, excluding the impact from planned reductions of UK trailers.', Position: 799\n",
      "    - Text: 'impact', Context: 'Weaker market conditions in used vehicle sales are expected to impact earnings by $0.62.', Position: 3246\n",
      "    - Text: 'impact', Context: 'Higher compensation expenses is expected to impact earnings by $0.25 per share this year.', Position: 3331\n",
      "    - Text: 'impact', Context: 'The net impact of the operational items I've mentioned so far will result in an EPS of $6.54.', Position: 3528\n",
      "    - Text: 'impact', Context: 'In addition, however, we are forecasting a negative $0.24 impact from higher tax rate, increased share count, and impacts from foreign exchange.', Position: 3556\n",
      "    - Text: 'impact', Context: 'Excluding the impact of foreign exchange, operating revenue grew by 9%.', Position: 450\n",
      "    - Text: 'impact', Context: 'We've talked in recent years about the impact that higher growth capital spending has on the business.', Position: 3856\n",
      "    - Text: 'impact', Context: 'Page 24 highlights the amount of growth capital spending we've had by year, driven from both fleet growth and higher vehicle investment costs per unit, and its impact on cash flow.', Position: 3894\n",
      "    - Text: 'impact', Context: 'This improvement is despite a $0.24 negative impact a from higher tax rate, share count, and negative foreign exchange.', Position: 4080\n",
      "    - Text: 'impact', Context: 'Our approach to the forecast was to assume a significant negative impact in used vehicle sales and a weaker commercial rental environment, as well as some headwinds in new lease sales.', Position: 2226\n",
      "    - Text: 'impact', Context: 'We're assuming foreign exchange rates remain stable at their current levels, which will result in a negative year-over-year impact to both revenue and earnings.', Position: 2347\n",
      "  Cosine Similarity Matches (11):\n",
      "    - Text: 'impacting', Context: 'The restructuring costs during the quarter are related to workforce reductions impacting approximately 250 employees, and to a lesser extent, the pending divestiture of a small logistics operation in Canada.', Score: 0.9353, Position: 386\n",
      "    - Text: 'impacts', Context: 'In addition, however, we are forecasting a negative $0.24 impact from higher tax rate, increased share count, and impacts from foreign exchange.', Score: 0.9164, Position: 3565\n",
      "    - Text: 'impacts', Context: 'In supply chain, we expect revenue growth driven by new sales, partially offset by foreign exchange impacts.', Score: 0.9164, Position: 2768\n",
      "    - Text: 'impacted', Context: 'So that's what impacted fourth quarter, if you look at the sales in the prior fleet conversions we saw during the quarter.', Score: 0.7449, Position: 8004\n",
      "    - Text: 'impacted', Context: 'Comparable results were below our forecast range of $1.72 to $1.82, but were impacted by $0.06 of unusual insurance-related items.', Score: 0.7449, Position: 326\n",
      "    - Text: 'impacted', Context: 'So first, make sure that you're working off the dry revenue number, because the total revenue number is impacted by fuel changes and the price of fuel is down 30%.', Score: 0.7449, Position: 7939\n",
      "    - Text: 'impacted', Context: 'The bankruptcy charge negatively impacted EBT margins by approximately 80 basis points.', Score: 0.7449, Position: 1345\n",
      "    - Text: 'impacted', Context: 'The large medical claim negatively impacted EBT percent by nearly 70 basis points.', Score: 0.7449, Position: 1476\n",
      "    - Text: 'impacted', Context: 'Total revenue increased by 1% and was impacted by lower fuel costs passed through to customers, and foreign exchange.', Score: 0.7449, Position: 466\n",
      "    - Text: 'impacted', Context: 'Free cash flow is favorably impacted by reduced capital expenditures, demonstrating the counter-cyclical nature of our business model.', Score: 0.7449, Position: 3978\n",
      "    - Text: 'impacted', Context: 'Used vehicle results were negatively impacted primarily by lower pricing on tractors.', Score: 0.7449, Position: 1147\n"
     ]
    }
   ],
   "source": [
    "print(matches)"
   ]
  },
  {
   "cell_type": "code",
   "execution_count": null,
   "metadata": {},
   "outputs": [],
   "source": [
    "agent2 = MatchingAgent(\n",
    "    keywords_file=\"data/paper_word_sets/political_words.csv\",\n",
    "    document=load_sample_document(\"data/earnings_calls/ex1.xml\")\n",
    ")"
   ]
  },
  {
   "cell_type": "code",
   "execution_count": null,
   "metadata": {},
   "outputs": [],
   "source": [
    "matches = agent2.cos_similarity(match_type=\"hybrid\")"
   ]
  },
  {
   "cell_type": "code",
   "execution_count": null,
   "metadata": {},
   "outputs": [],
   "source": [
    "print(matches)"
   ]
  }
 ],
 "metadata": {
  "kernelspec": {
   "display_name": "myproject",
   "language": "python",
   "name": "python3"
  },
  "language_info": {
   "codemirror_mode": {
    "name": "ipython",
    "version": 3
   },
   "file_extension": ".py",
   "mimetype": "text/x-python",
   "name": "python",
   "nbconvert_exporter": "python",
   "pygments_lexer": "ipython3",
   "version": "3.13.5"
  }
 },
 "nbformat": 4,
 "nbformat_minor": 2
}
