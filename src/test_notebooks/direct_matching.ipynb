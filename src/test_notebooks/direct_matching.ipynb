{
 "cells": [
  {
   "cell_type": "code",
   "execution_count": 3,
   "metadata": {},
   "outputs": [
    {
     "name": "stdout",
     "output_type": "stream",
     "text": [
      "/Users/efang/Desktop/coding/research/src\n"
     ]
    }
   ],
   "source": [
    "cd .."
   ]
  },
  {
   "cell_type": "code",
   "execution_count": 4,
   "metadata": {},
   "outputs": [],
   "source": [
    "from hardcoded_models import model5v1"
   ]
  },
  {
   "cell_type": "code",
   "execution_count": 5,
   "metadata": {},
   "outputs": [
    {
     "name": "stderr",
     "output_type": "stream",
     "text": [
      "2025-05-31 11:13:43,649 - INFO - Extracting Text...\n",
      "2025-05-31 11:13:43,711 - INFO - Loading Exposure Word List...\n",
      "2025-05-31 11:13:43,712 - INFO - Calculating Exposure...\n",
      "2025-05-31 11:13:43,730 - INFO - Finding Sentiment...\n",
      "/Users/efang/anaconda3/envs/research/lib/python3.10/site-packages/tqdm/auto.py:21: TqdmWarning: IProgress not found. Please update jupyter and ipywidgets. See https://ipywidgets.readthedocs.io/en/stable/user_install.html\n",
      "  from .autonotebook import tqdm as notebook_tqdm\n",
      "Some weights of the model checkpoint at cardiffnlp/twitter-roberta-base-sentiment-latest were not used when initializing RobertaForSequenceClassification: ['roberta.pooler.dense.bias', 'roberta.pooler.dense.weight']\n",
      "- This IS expected if you are initializing RobertaForSequenceClassification from the checkpoint of a model trained on another task or with another architecture (e.g. initializing a BertForSequenceClassification model from a BertForPreTraining model).\n",
      "- This IS NOT expected if you are initializing RobertaForSequenceClassification from the checkpoint of a model that you expect to be exactly identical (initializing a BertForSequenceClassification model from a BertForSequenceClassification model).\n",
      "Device set to use mps:0\n"
     ]
    },
    {
     "name": "stdout",
     "output_type": "stream",
     "text": [
      "{'president': [{'text': 'Quincey The Coca Cola Company President COO Kathy Waller The Coca', 'label': 'neutral', 'score': 0.8671146035194397, 'numeric_score': 0}, {'text': 'Of course starting with our President and Chief Operating Officer James', 'label': 'neutral', 'score': 0.6778861880302429, 'numeric_score': 0}, {'text': 'important announcement last Friday Our President and Chief Operating Officer James', 'label': 'positive', 'score': 0.7676081657409668, 'numeric_score': 0.7676081657409668}, {'text': 'bringing him in as the President and Chief Operating Officer He', 'label': 'neutral', 'score': 0.9109645485877991, 'numeric_score': 0}, {'text': 'Quincey The Coca Cola Company President COO 5 The last time', 'label': 'neutral', 'score': 0.8239302039146423, 'numeric_score': 0}, {'text': 'Quincey The Coca Cola Company President COO 7 No I m', 'label': 'neutral', 'score': 0.8609398603439331, 'numeric_score': 0}, {'text': 'Quincey The Coca Cola Company President COO 10 Look I think', 'label': 'neutral', 'score': 0.8947957158088684, 'numeric_score': 0}, {'text': 'the role of a group president And I think James in', 'label': 'neutral', 'score': 0.9160596132278442, 'numeric_score': 0}, {'text': 'Quincey The Coca Cola Company President COO 13 I think you', 'label': 'neutral', 'score': 0.8818531036376953, 'numeric_score': 0}, {'text': 'Quincey The Coca Cola Company President COO 17 Correct Caroline Levy', 'label': 'neutral', 'score': 0.8923860192298889, 'numeric_score': 0}, {'text': 'Quincey The Coca Cola Company President COO 19 Sure there is', 'label': 'neutral', 'score': 0.7966745495796204, 'numeric_score': 0}, {'text': 'Quincey The Coca Cola Company President COO 21 So I think', 'label': 'neutral', 'score': 0.9036352038383484, 'numeric_score': 0}, {'text': 'Quincey The Coca Cola Company President COO 25 It might not', 'label': 'neutral', 'score': 0.8880050182342529, 'numeric_score': 0}, {'text': 'Quincey The Coca Cola Company President COO 27 Yes look in', 'label': 'neutral', 'score': 0.7972270250320435, 'numeric_score': 0}, {'text': 'Quincey The Coca Cola Company President COO 30 What was the', 'label': 'neutral', 'score': 0.9214648604393005, 'numeric_score': 0}, {'text': 'Quincey The Coca Cola Company President COO 32 So let me', 'label': 'neutral', 'score': 0.8011223077774048, 'numeric_score': 0}, {'text': 'Quincey The Coca Cola Company President COO 35 Certainly by the', 'label': 'neutral', 'score': 0.8606933951377869, 'numeric_score': 0}, {'text': 'Quincey The Coca Cola Company President COO 38 So the answer', 'label': 'neutral', 'score': 0.8423924446105957, 'numeric_score': 0}, {'text': 'Quincey The Coca Cola Company President COO 40 Dunkin Donuts I', 'label': 'neutral', 'score': 0.817076563835144, 'numeric_score': 0}, {'text': 'Quincey The Coca Cola Company President COO 43 Look I m', 'label': 'neutral', 'score': 0.7630132436752319, 'numeric_score': 0}, {'text': 'Quincey The Coca Cola Company President COO 46 Georgia Muhtar Kent', 'label': 'neutral', 'score': 0.9388929009437561, 'numeric_score': 0}, {'text': 'Quincey The Coca Cola Company President COO 51 Are you sure', 'label': 'neutral', 'score': 0.9184587597846985, 'numeric_score': 0}, {'text': 'Quincey The Coca Cola Company President COO 53 Look we have', 'label': 'neutral', 'score': 0.7210005521774292, 'numeric_score': 0}], 'revenue': [{'text': 'a 140 billion 135 billion revenue system Changing hands getting better', 'label': 'positive', 'score': 0.5174338817596436, 'numeric_score': 0.5174338817596436}, {'text': '20 billion 25 billion of revenue and increased our operating margin', 'label': 'positive', 'score': 0.6756805777549744, 'numeric_score': 0.6756805777549744}, {'text': 'mindset We are much more revenue focused now looking at the', 'label': 'neutral', 'score': 0.5370935797691345, 'numeric_score': 0}, {'text': 'Japan Europe United States in revenue growth are actually far exceeding', 'label': 'neutral', 'score': 0.6590403318405151, 'numeric_score': 0}, {'text': 'businesses that have much higher revenue per case much higher revenue', 'label': 'positive', 'score': 0.6196175813674927, 'numeric_score': 0.6196175813674927}, {'text': 'revenue per case much higher revenue per liter are doing much', 'label': 'neutral', 'score': 0.7213072776794434, 'numeric_score': 0}, {'text': 'and if you started counting revenue and other things it would', 'label': 'neutral', 'score': 0.858924925327301, 'numeric_score': 0}, {'text': 'to you about the whole revenue side of sparkling because what', 'label': 'neutral', 'score': 0.7836936116218567, 'numeric_score': 0}, {'text': 'get is how robust the revenue side of sparkling is and', 'label': 'neutral', 'score': 0.5548816323280334, 'numeric_score': 0}, {'text': 'vehicle and it is a revenue generating vehicle So we are', 'label': 'neutral', 'score': 0.5509990453720093, 'numeric_score': 0}, {'text': 'thing is can we generate revenue growth at the topline sustainably', 'label': 'neutral', 'score': 0.7946637272834778, 'numeric_score': 0}, {'text': 'double and triple and quadruple revenue into the future Coke will', 'label': 'positive', 'score': 0.7162294387817383, 'numeric_score': 0.7162294387817383}, {'text': 's what will drive the revenue and that s why we', 'label': 'neutral', 'score': 0.5944288372993469, 'numeric_score': 0}], 'politics': [{'text': 'do anywhere in business in politics anywhere in family is who', 'label': 'neutral', 'score': 0.8494638800621033, 'numeric_score': 0}], 'term': [{'text': 'hard work and a long term work And so this is', 'label': 'neutral', 'score': 0.5735170841217041, 'numeric_score': 0}, {'text': 'on China in the long term but we will have to', 'label': 'neutral', 'score': 0.7389450073242188, 'numeric_score': 0}, {'text': 'in the Coke portfolio long term I know there s a', 'label': 'neutral', 'score': 0.824512779712677, 'numeric_score': 0}], 'power': [{'text': 'the Coca Cola business is power of partnerships those incredible partnerships', 'label': 'positive', 'score': 0.9604535698890686, 'numeric_score': 0.9604535698890686}], 'law': [{'text': 'of the problem is the law of big numbers having an', 'label': 'neutral', 'score': 0.5724058151245117, 'numeric_score': 0}], 'reform': [{'text': 'you think about corporate tax reform and the ability to move', 'label': 'neutral', 'score': 0.8912832140922546, 'numeric_score': 0}, {'text': 'a good shot at tax reform The bad news is nobody', 'label': 'negative', 'score': 0.43756401538848877, 'numeric_score': -0.43756401538848877}, {'text': 'been saying we needed tax reform so it is a positive', 'label': 'positive', 'score': 0.5906375646591187, 'numeric_score': 0.5906375646591187}]}\n"
     ]
    },
    {
     "data": {
      "text/plain": [
       "{'president': [{'text': 'Quincey The Coca Cola Company President COO Kathy Waller The Coca',\n",
       "   'label': 'neutral',\n",
       "   'score': 0.8671146035194397,\n",
       "   'numeric_score': 0},\n",
       "  {'text': 'Of course starting with our President and Chief Operating Officer James',\n",
       "   'label': 'neutral',\n",
       "   'score': 0.6778861880302429,\n",
       "   'numeric_score': 0},\n",
       "  {'text': 'important announcement last Friday Our President and Chief Operating Officer James',\n",
       "   'label': 'positive',\n",
       "   'score': 0.7676081657409668,\n",
       "   'numeric_score': 0.7676081657409668},\n",
       "  {'text': 'bringing him in as the President and Chief Operating Officer He',\n",
       "   'label': 'neutral',\n",
       "   'score': 0.9109645485877991,\n",
       "   'numeric_score': 0},\n",
       "  {'text': 'Quincey The Coca Cola Company President COO 5 The last time',\n",
       "   'label': 'neutral',\n",
       "   'score': 0.8239302039146423,\n",
       "   'numeric_score': 0},\n",
       "  {'text': 'Quincey The Coca Cola Company President COO 7 No I m',\n",
       "   'label': 'neutral',\n",
       "   'score': 0.8609398603439331,\n",
       "   'numeric_score': 0},\n",
       "  {'text': 'Quincey The Coca Cola Company President COO 10 Look I think',\n",
       "   'label': 'neutral',\n",
       "   'score': 0.8947957158088684,\n",
       "   'numeric_score': 0},\n",
       "  {'text': 'the role of a group president And I think James in',\n",
       "   'label': 'neutral',\n",
       "   'score': 0.9160596132278442,\n",
       "   'numeric_score': 0},\n",
       "  {'text': 'Quincey The Coca Cola Company President COO 13 I think you',\n",
       "   'label': 'neutral',\n",
       "   'score': 0.8818531036376953,\n",
       "   'numeric_score': 0},\n",
       "  {'text': 'Quincey The Coca Cola Company President COO 17 Correct Caroline Levy',\n",
       "   'label': 'neutral',\n",
       "   'score': 0.8923860192298889,\n",
       "   'numeric_score': 0},\n",
       "  {'text': 'Quincey The Coca Cola Company President COO 19 Sure there is',\n",
       "   'label': 'neutral',\n",
       "   'score': 0.7966745495796204,\n",
       "   'numeric_score': 0},\n",
       "  {'text': 'Quincey The Coca Cola Company President COO 21 So I think',\n",
       "   'label': 'neutral',\n",
       "   'score': 0.9036352038383484,\n",
       "   'numeric_score': 0},\n",
       "  {'text': 'Quincey The Coca Cola Company President COO 25 It might not',\n",
       "   'label': 'neutral',\n",
       "   'score': 0.8880050182342529,\n",
       "   'numeric_score': 0},\n",
       "  {'text': 'Quincey The Coca Cola Company President COO 27 Yes look in',\n",
       "   'label': 'neutral',\n",
       "   'score': 0.7972270250320435,\n",
       "   'numeric_score': 0},\n",
       "  {'text': 'Quincey The Coca Cola Company President COO 30 What was the',\n",
       "   'label': 'neutral',\n",
       "   'score': 0.9214648604393005,\n",
       "   'numeric_score': 0},\n",
       "  {'text': 'Quincey The Coca Cola Company President COO 32 So let me',\n",
       "   'label': 'neutral',\n",
       "   'score': 0.8011223077774048,\n",
       "   'numeric_score': 0},\n",
       "  {'text': 'Quincey The Coca Cola Company President COO 35 Certainly by the',\n",
       "   'label': 'neutral',\n",
       "   'score': 0.8606933951377869,\n",
       "   'numeric_score': 0},\n",
       "  {'text': 'Quincey The Coca Cola Company President COO 38 So the answer',\n",
       "   'label': 'neutral',\n",
       "   'score': 0.8423924446105957,\n",
       "   'numeric_score': 0},\n",
       "  {'text': 'Quincey The Coca Cola Company President COO 40 Dunkin Donuts I',\n",
       "   'label': 'neutral',\n",
       "   'score': 0.817076563835144,\n",
       "   'numeric_score': 0},\n",
       "  {'text': 'Quincey The Coca Cola Company President COO 43 Look I m',\n",
       "   'label': 'neutral',\n",
       "   'score': 0.7630132436752319,\n",
       "   'numeric_score': 0},\n",
       "  {'text': 'Quincey The Coca Cola Company President COO 46 Georgia Muhtar Kent',\n",
       "   'label': 'neutral',\n",
       "   'score': 0.9388929009437561,\n",
       "   'numeric_score': 0},\n",
       "  {'text': 'Quincey The Coca Cola Company President COO 51 Are you sure',\n",
       "   'label': 'neutral',\n",
       "   'score': 0.9184587597846985,\n",
       "   'numeric_score': 0},\n",
       "  {'text': 'Quincey The Coca Cola Company President COO 53 Look we have',\n",
       "   'label': 'neutral',\n",
       "   'score': 0.7210005521774292,\n",
       "   'numeric_score': 0}],\n",
       " 'revenue': [{'text': 'a 140 billion 135 billion revenue system Changing hands getting better',\n",
       "   'label': 'positive',\n",
       "   'score': 0.5174338817596436,\n",
       "   'numeric_score': 0.5174338817596436},\n",
       "  {'text': '20 billion 25 billion of revenue and increased our operating margin',\n",
       "   'label': 'positive',\n",
       "   'score': 0.6756805777549744,\n",
       "   'numeric_score': 0.6756805777549744},\n",
       "  {'text': 'mindset We are much more revenue focused now looking at the',\n",
       "   'label': 'neutral',\n",
       "   'score': 0.5370935797691345,\n",
       "   'numeric_score': 0},\n",
       "  {'text': 'Japan Europe United States in revenue growth are actually far exceeding',\n",
       "   'label': 'neutral',\n",
       "   'score': 0.6590403318405151,\n",
       "   'numeric_score': 0},\n",
       "  {'text': 'businesses that have much higher revenue per case much higher revenue',\n",
       "   'label': 'positive',\n",
       "   'score': 0.6196175813674927,\n",
       "   'numeric_score': 0.6196175813674927},\n",
       "  {'text': 'revenue per case much higher revenue per liter are doing much',\n",
       "   'label': 'neutral',\n",
       "   'score': 0.7213072776794434,\n",
       "   'numeric_score': 0},\n",
       "  {'text': 'and if you started counting revenue and other things it would',\n",
       "   'label': 'neutral',\n",
       "   'score': 0.858924925327301,\n",
       "   'numeric_score': 0},\n",
       "  {'text': 'to you about the whole revenue side of sparkling because what',\n",
       "   'label': 'neutral',\n",
       "   'score': 0.7836936116218567,\n",
       "   'numeric_score': 0},\n",
       "  {'text': 'get is how robust the revenue side of sparkling is and',\n",
       "   'label': 'neutral',\n",
       "   'score': 0.5548816323280334,\n",
       "   'numeric_score': 0},\n",
       "  {'text': 'vehicle and it is a revenue generating vehicle So we are',\n",
       "   'label': 'neutral',\n",
       "   'score': 0.5509990453720093,\n",
       "   'numeric_score': 0},\n",
       "  {'text': 'thing is can we generate revenue growth at the topline sustainably',\n",
       "   'label': 'neutral',\n",
       "   'score': 0.7946637272834778,\n",
       "   'numeric_score': 0},\n",
       "  {'text': 'double and triple and quadruple revenue into the future Coke will',\n",
       "   'label': 'positive',\n",
       "   'score': 0.7162294387817383,\n",
       "   'numeric_score': 0.7162294387817383},\n",
       "  {'text': 's what will drive the revenue and that s why we',\n",
       "   'label': 'neutral',\n",
       "   'score': 0.5944288372993469,\n",
       "   'numeric_score': 0}],\n",
       " 'politics': [{'text': 'do anywhere in business in politics anywhere in family is who',\n",
       "   'label': 'neutral',\n",
       "   'score': 0.8494638800621033,\n",
       "   'numeric_score': 0}],\n",
       " 'term': [{'text': 'hard work and a long term work And so this is',\n",
       "   'label': 'neutral',\n",
       "   'score': 0.5735170841217041,\n",
       "   'numeric_score': 0},\n",
       "  {'text': 'on China in the long term but we will have to',\n",
       "   'label': 'neutral',\n",
       "   'score': 0.7389450073242188,\n",
       "   'numeric_score': 0},\n",
       "  {'text': 'in the Coke portfolio long term I know there s a',\n",
       "   'label': 'neutral',\n",
       "   'score': 0.824512779712677,\n",
       "   'numeric_score': 0}],\n",
       " 'power': [{'text': 'the Coca Cola business is power of partnerships those incredible partnerships',\n",
       "   'label': 'positive',\n",
       "   'score': 0.9604535698890686,\n",
       "   'numeric_score': 0.9604535698890686}],\n",
       " 'law': [{'text': 'of the problem is the law of big numbers having an',\n",
       "   'label': 'neutral',\n",
       "   'score': 0.5724058151245117,\n",
       "   'numeric_score': 0}],\n",
       " 'reform': [{'text': 'you think about corporate tax reform and the ability to move',\n",
       "   'label': 'neutral',\n",
       "   'score': 0.8912832140922546,\n",
       "   'numeric_score': 0},\n",
       "  {'text': 'a good shot at tax reform The bad news is nobody',\n",
       "   'label': 'negative',\n",
       "   'score': 0.43756401538848877,\n",
       "   'numeric_score': -0.43756401538848877},\n",
       "  {'text': 'been saying we needed tax reform so it is a positive',\n",
       "   'label': 'positive',\n",
       "   'score': 0.5906375646591187,\n",
       "   'numeric_score': 0.5906375646591187}]}"
      ]
     },
     "execution_count": 5,
     "metadata": {},
     "output_type": "execute_result"
    }
   ],
   "source": [
    "model5v1(\"/Users/efang/Desktop/coding/research/src/data/earnings_calls/2016/7307951_T.xml\", \"/Users/efang/Desktop/coding/research/src/data/paper_word_sets/political_words_extended.csv\", 5)"
   ]
  },
  {
   "cell_type": "code",
   "execution_count": 11,
   "metadata": {},
   "outputs": [],
   "source": [
    "from pathlib import Path\n",
    "from typing import List, Union\n",
    "\n",
    "def list_file_paths(folder: Union[str, Path]) -> List[Path]:\n",
    "    \"\"\"\n",
    "    Return a list of full paths for every file inside `folder`\n",
    "    (recursing through sub‑directories).\n",
    "\n",
    "    Parameters\n",
    "    ----------\n",
    "    folder : str | pathlib.Path\n",
    "        The root directory you want to scan.\n",
    "\n",
    "    Returns\n",
    "    -------\n",
    "    List[pathlib.Path]\n",
    "        All file paths found beneath `folder`.\n",
    "    \"\"\"\n",
    "    root = Path(folder).expanduser().resolve()\n",
    "    if not root.is_dir():\n",
    "        raise NotADirectoryError(f\"{root} is not a directory\")\n",
    "\n",
    "    # rglob('*') walks the tree and yields every file and directory;\n",
    "    # we keep only the files (is_file()).\n",
    "    return [p for p in root.rglob('*') if p.is_file()]\n",
    "\n"
   ]
  },
  {
   "cell_type": "code",
   "execution_count": 8,
   "metadata": {},
   "outputs": [
    {
     "name": "stderr",
     "output_type": "stream",
     "text": [
      "2025-05-27 19:17:00,461 - INFO - Extracting Text...\n",
      "2025-05-27 19:17:00,476 - INFO - Loading Exposure Word List...\n",
      "2025-05-27 19:17:00,478 - INFO - Calculating Exposure...\n",
      "2025-05-27 19:17:00,485 - INFO - Finding Sentiment...\n"
     ]
    },
    {
     "name": "stdout",
     "output_type": "stream",
     "text": [
      "Processing 7331107_T.xml\n"
     ]
    },
    {
     "name": "stderr",
     "output_type": "stream",
     "text": [
      "Some weights of the model checkpoint at cardiffnlp/twitter-roberta-base-sentiment-latest were not used when initializing RobertaForSequenceClassification: ['roberta.pooler.dense.bias', 'roberta.pooler.dense.weight']\n",
      "- This IS expected if you are initializing RobertaForSequenceClassification from the checkpoint of a model trained on another task or with another architecture (e.g. initializing a BertForSequenceClassification model from a BertForPreTraining model).\n",
      "- This IS NOT expected if you are initializing RobertaForSequenceClassification from the checkpoint of a model that you expect to be exactly identical (initializing a BertForSequenceClassification model from a BertForSequenceClassification model).\n",
      "Device set to use mps:0\n",
      "2025-05-27 19:17:02,011 - INFO - Extracting Text...\n",
      "2025-05-27 19:17:02,048 - INFO - Loading Exposure Word List...\n",
      "2025-05-27 19:17:02,049 - INFO - Calculating Exposure...\n",
      "2025-05-27 19:17:02,068 - INFO - Finding Sentiment...\n"
     ]
    },
    {
     "name": "stdout",
     "output_type": "stream",
     "text": [
      "{'president': [{'text': 'Participants Shigenao Ishiguro TDK Corp President amp CEO Presentation Shigenao Ishiguro', 'label': 'neutral', 'score': 0.8957082629203796, 'numeric_score': 0}, {'text': 'Presentation Shigenao Ishiguro TDK Corp President amp CEO 1 Hello everybody', 'label': 'neutral', 'score': 0.8467056751251221, 'numeric_score': 0}], 'resolution': [{'text': 'Board meeting actually had a resolution to acquire the stocks of', 'label': 'neutral', 'score': 0.896876871585846, 'numeric_score': 0}], 'approval': [{'text': 'also inaudible InvenSense initially received approval from the shareholders meeting as', 'label': 'neutral', 'score': 0.8820444345474243, 'numeric_score': 0}], 'term': [{'text': 'have a three year mid term plan by the end of', 'label': 'neutral', 'score': 0.8380110859870911, 'numeric_score': 0}], 'power': [{'text': 'passive components the batteries contactless power transfer sensor MEMS and also', 'label': 'neutral', 'score': 0.8725839257240295, 'numeric_score': 0}], 'platform': [{'text': 'able to exercise the customer platform of OEM and Tier 1', 'label': 'neutral', 'score': 0.7832912802696228, 'numeric_score': 0}, {'text': 'red part shows the customer platform that we are able to', 'label': 'neutral', 'score': 0.5764240026473999, 'numeric_score': 0}, {'text': 'able to expand our business platform in ICT As you can', 'label': 'positive', 'score': 0.5036212801933289, 'numeric_score': 0.5036212801933289}, {'text': 'number one with our customer platform and also with the collaboration', 'label': 'neutral', 'score': 0.5336546301841736, 'numeric_score': 0}, {'text': 'of Qualcomm the InvenSense business platform will expand in the ICT', 'label': 'neutral', 'score': 0.681831419467926, 'numeric_score': 0}]}\n",
      "Processing 7307951_T.xml\n"
     ]
    },
    {
     "name": "stderr",
     "output_type": "stream",
     "text": [
      "Some weights of the model checkpoint at cardiffnlp/twitter-roberta-base-sentiment-latest were not used when initializing RobertaForSequenceClassification: ['roberta.pooler.dense.bias', 'roberta.pooler.dense.weight']\n",
      "- This IS expected if you are initializing RobertaForSequenceClassification from the checkpoint of a model trained on another task or with another architecture (e.g. initializing a BertForSequenceClassification model from a BertForPreTraining model).\n",
      "- This IS NOT expected if you are initializing RobertaForSequenceClassification from the checkpoint of a model that you expect to be exactly identical (initializing a BertForSequenceClassification model from a BertForSequenceClassification model).\n",
      "Device set to use mps:0\n",
      "2025-05-27 19:17:03,309 - INFO - Extracting Text...\n",
      "2025-05-27 19:17:03,336 - INFO - Loading Exposure Word List...\n",
      "2025-05-27 19:17:03,337 - INFO - Calculating Exposure...\n",
      "2025-05-27 19:17:03,351 - INFO - Finding Sentiment...\n"
     ]
    },
    {
     "name": "stdout",
     "output_type": "stream",
     "text": [
      "{'president': [{'text': 'Quincey The Coca Cola Company President COO Kathy Waller The Coca', 'label': 'neutral', 'score': 0.8671146035194397, 'numeric_score': 0}, {'text': 'Of course starting with our President and Chief Operating Officer James', 'label': 'neutral', 'score': 0.6778861880302429, 'numeric_score': 0}, {'text': 'important announcement last Friday Our President and Chief Operating Officer James', 'label': 'positive', 'score': 0.7676081657409668, 'numeric_score': 0.7676081657409668}, {'text': 'bringing him in as the President and Chief Operating Officer He', 'label': 'neutral', 'score': 0.9109645485877991, 'numeric_score': 0}, {'text': 'Quincey The Coca Cola Company President COO 5 The last time', 'label': 'neutral', 'score': 0.8239302039146423, 'numeric_score': 0}, {'text': 'Quincey The Coca Cola Company President COO 7 No I m', 'label': 'neutral', 'score': 0.8609398603439331, 'numeric_score': 0}, {'text': 'Quincey The Coca Cola Company President COO 10 Look I think', 'label': 'neutral', 'score': 0.8947957158088684, 'numeric_score': 0}, {'text': 'the role of a group president And I think James in', 'label': 'neutral', 'score': 0.9160596132278442, 'numeric_score': 0}, {'text': 'Quincey The Coca Cola Company President COO 13 I think you', 'label': 'neutral', 'score': 0.8818531036376953, 'numeric_score': 0}, {'text': 'Quincey The Coca Cola Company President COO 17 Correct Caroline Levy', 'label': 'neutral', 'score': 0.8923860192298889, 'numeric_score': 0}, {'text': 'Quincey The Coca Cola Company President COO 19 Sure there is', 'label': 'neutral', 'score': 0.7966745495796204, 'numeric_score': 0}, {'text': 'Quincey The Coca Cola Company President COO 21 So I think', 'label': 'neutral', 'score': 0.9036352038383484, 'numeric_score': 0}, {'text': 'Quincey The Coca Cola Company President COO 25 It might not', 'label': 'neutral', 'score': 0.8880050182342529, 'numeric_score': 0}, {'text': 'Quincey The Coca Cola Company President COO 27 Yes look in', 'label': 'neutral', 'score': 0.7972270250320435, 'numeric_score': 0}, {'text': 'Quincey The Coca Cola Company President COO 30 What was the', 'label': 'neutral', 'score': 0.9214648604393005, 'numeric_score': 0}, {'text': 'Quincey The Coca Cola Company President COO 32 So let me', 'label': 'neutral', 'score': 0.8011223077774048, 'numeric_score': 0}, {'text': 'Quincey The Coca Cola Company President COO 35 Certainly by the', 'label': 'neutral', 'score': 0.8606933951377869, 'numeric_score': 0}, {'text': 'Quincey The Coca Cola Company President COO 38 So the answer', 'label': 'neutral', 'score': 0.8423924446105957, 'numeric_score': 0}, {'text': 'Quincey The Coca Cola Company President COO 40 Dunkin Donuts I', 'label': 'neutral', 'score': 0.817076563835144, 'numeric_score': 0}, {'text': 'Quincey The Coca Cola Company President COO 43 Look I m', 'label': 'neutral', 'score': 0.7630132436752319, 'numeric_score': 0}, {'text': 'Quincey The Coca Cola Company President COO 46 Georgia Muhtar Kent', 'label': 'neutral', 'score': 0.9388929009437561, 'numeric_score': 0}, {'text': 'Quincey The Coca Cola Company President COO 51 Are you sure', 'label': 'neutral', 'score': 0.9184587597846985, 'numeric_score': 0}, {'text': 'Quincey The Coca Cola Company President COO 53 Look we have', 'label': 'neutral', 'score': 0.7210005521774292, 'numeric_score': 0}], 'revenue': [{'text': 'a 140 billion 135 billion revenue system Changing hands getting better', 'label': 'positive', 'score': 0.5174338817596436, 'numeric_score': 0.5174338817596436}, {'text': '20 billion 25 billion of revenue and increased our operating margin', 'label': 'positive', 'score': 0.6756805777549744, 'numeric_score': 0.6756805777549744}, {'text': 'mindset We are much more revenue focused now looking at the', 'label': 'neutral', 'score': 0.5370935797691345, 'numeric_score': 0}, {'text': 'Japan Europe United States in revenue growth are actually far exceeding', 'label': 'neutral', 'score': 0.6590403318405151, 'numeric_score': 0}, {'text': 'businesses that have much higher revenue per case much higher revenue', 'label': 'positive', 'score': 0.6196175813674927, 'numeric_score': 0.6196175813674927}, {'text': 'revenue per case much higher revenue per liter are doing much', 'label': 'neutral', 'score': 0.7213072776794434, 'numeric_score': 0}, {'text': 'and if you started counting revenue and other things it would', 'label': 'neutral', 'score': 0.858924925327301, 'numeric_score': 0}, {'text': 'to you about the whole revenue side of sparkling because what', 'label': 'neutral', 'score': 0.7836936116218567, 'numeric_score': 0}, {'text': 'get is how robust the revenue side of sparkling is and', 'label': 'neutral', 'score': 0.5548816323280334, 'numeric_score': 0}, {'text': 'vehicle and it is a revenue generating vehicle So we are', 'label': 'neutral', 'score': 0.5509990453720093, 'numeric_score': 0}, {'text': 'thing is can we generate revenue growth at the topline sustainably', 'label': 'neutral', 'score': 0.7946637272834778, 'numeric_score': 0}, {'text': 'double and triple and quadruple revenue into the future Coke will', 'label': 'positive', 'score': 0.7162294387817383, 'numeric_score': 0.7162294387817383}, {'text': 's what will drive the revenue and that s why we', 'label': 'neutral', 'score': 0.5944288372993469, 'numeric_score': 0}], 'politics': [{'text': 'do anywhere in business in politics anywhere in family is who', 'label': 'neutral', 'score': 0.8494638800621033, 'numeric_score': 0}], 'term': [{'text': 'hard work and a long term work And so this is', 'label': 'neutral', 'score': 0.5735170841217041, 'numeric_score': 0}, {'text': 'on China in the long term but we will have to', 'label': 'neutral', 'score': 0.7389450073242188, 'numeric_score': 0}, {'text': 'in the Coke portfolio long term I know there s a', 'label': 'neutral', 'score': 0.824512779712677, 'numeric_score': 0}], 'power': [{'text': 'the Coca Cola business is power of partnerships those incredible partnerships', 'label': 'positive', 'score': 0.9604535698890686, 'numeric_score': 0.9604535698890686}], 'law': [{'text': 'of the problem is the law of big numbers having an', 'label': 'neutral', 'score': 0.5724058151245117, 'numeric_score': 0}], 'reform': [{'text': 'you think about corporate tax reform and the ability to move', 'label': 'neutral', 'score': 0.8912832140922546, 'numeric_score': 0}, {'text': 'a good shot at tax reform The bad news is nobody', 'label': 'negative', 'score': 0.43756401538848877, 'numeric_score': -0.43756401538848877}, {'text': 'been saying we needed tax reform so it is a positive', 'label': 'positive', 'score': 0.5906375646591187, 'numeric_score': 0.5906375646591187}]}\n",
      "Processing 7330709_T.xml\n"
     ]
    },
    {
     "name": "stderr",
     "output_type": "stream",
     "text": [
      "Some weights of the model checkpoint at cardiffnlp/twitter-roberta-base-sentiment-latest were not used when initializing RobertaForSequenceClassification: ['roberta.pooler.dense.bias', 'roberta.pooler.dense.weight']\n",
      "- This IS expected if you are initializing RobertaForSequenceClassification from the checkpoint of a model trained on another task or with another architecture (e.g. initializing a BertForSequenceClassification model from a BertForPreTraining model).\n",
      "- This IS NOT expected if you are initializing RobertaForSequenceClassification from the checkpoint of a model that you expect to be exactly identical (initializing a BertForSequenceClassification model from a BertForSequenceClassification model).\n",
      "Device set to use mps:0\n",
      "2025-05-27 19:17:04,521 - INFO - Extracting Text...\n",
      "2025-05-27 19:17:04,539 - INFO - Loading Exposure Word List...\n",
      "2025-05-27 19:17:04,540 - INFO - Calculating Exposure...\n",
      "2025-05-27 19:17:04,550 - INFO - Finding Sentiment...\n"
     ]
    },
    {
     "name": "stdout",
     "output_type": "stream",
     "text": [
      "{'president': [{'text': 'Communications Sean Nolan AveXis Inc President and CEO Suku Nagendran AveXis', 'label': 'neutral', 'score': 0.9411511421203613, 'numeric_score': 0}, {'text': 'introduce Mr Jim Goff Vice President of Investor Relations and Communications', 'label': 'neutral', 'score': 0.8689014911651611, 'numeric_score': 0}, {'text': 'us today are Sean Nolan President and Chief Executive Officer Dr', 'label': 'neutral', 'score': 0.9073657393455505, 'numeric_score': 0}, {'text': 'the call over to AveXis President and Chief Executive Officer Sean', 'label': 'neutral', 'score': 0.9317053556442261, 'numeric_score': 0}, {'text': 'Sean Sean Nolan AveXis Inc President and CEO 3 Thank you', 'label': 'positive', 'score': 0.5608111023902893, 'numeric_score': 0.5608111023902893}, {'text': 'Thanks Sean Nolan AveXis Inc President and CEO 3 Tom great', 'label': 'positive', 'score': 0.9463706016540527, 'numeric_score': 0.9463706016540527}, {'text': 'conclusion Sean Nolan AveXis Inc President and CEO 6 So basically', 'label': 'neutral', 'score': 0.9178783893585205, 'numeric_score': 0}, {'text': 'meeting Sean Nolan AveXis Inc President and CEO 8 There s', 'label': 'neutral', 'score': 0.9036069512367249, 'numeric_score': 0}, {'text': 'indication Sean Nolan AveXis Inc President and CEO 10 Can you', 'label': 'neutral', 'score': 0.902335524559021, 'numeric_score': 0}, {'text': '2017 Sean Nolan AveXis Inc President and CEO 12 I think', 'label': 'neutral', 'score': 0.9273260235786438, 'numeric_score': 0}, {'text': 'patients Sean Nolan AveXis Inc President and CEO 15 So Ian', 'label': 'neutral', 'score': 0.920891523361206, 'numeric_score': 0}, {'text': 'far Sean Nolan AveXis Inc President and CEO 17 Well I', 'label': 'neutral', 'score': 0.8993620276451111, 'numeric_score': 0}, {'text': 'now Sean Nolan AveXis Inc President and CEO 19 Well I', 'label': 'neutral', 'score': 0.8880437612533569, 'numeric_score': 0}, {'text': 'outcomes Sean Nolan AveXis Inc President and CEO 22 So Gbola', 'label': 'neutral', 'score': 0.8450343012809753, 'numeric_score': 0}, {'text': 'example Sean Nolan AveXis Inc President and CEO 24 Sure I', 'label': 'neutral', 'score': 0.8174350261688232, 'numeric_score': 0}, {'text': 'previously Sean Nolan AveXis Inc President and CEO 26 I would', 'label': 'neutral', 'score': 0.9157755970954895, 'numeric_score': 0}, {'text': 'Thanks Sean Nolan AveXis Inc President and CEO 30 You re', 'label': 'positive', 'score': 0.8113163709640503, 'numeric_score': 0.8113163709640503}, {'text': 'Thanks Sean Nolan AveXis Inc President and CEO 34 Yes so', 'label': 'positive', 'score': 0.859887957572937, 'numeric_score': 0.859887957572937}, {'text': 'study Sean Nolan AveXis Inc President and CEO 37 Well as', 'label': 'neutral', 'score': 0.8905524015426636, 'numeric_score': 0}, {'text': 'range Sean Nolan AveXis Inc President and CEO 39 Well I', 'label': 'neutral', 'score': 0.8751318454742432, 'numeric_score': 0}, {'text': 'correct Sean Nolan AveXis Inc President and CEO 41 So the', 'label': 'neutral', 'score': 0.9298924207687378, 'numeric_score': 0}, {'text': 'volume Sean Nolan AveXis Inc President and CEO 43 Now the', 'label': 'neutral', 'score': 0.930195152759552, 'numeric_score': 0}, {'text': 'comments Sean Nolan AveXis Inc President and CEO 45 Thank you', 'label': 'neutral', 'score': 0.5345842242240906, 'numeric_score': 0}], 'executive': [{'text': 'Sean Nolan President and Chief Executive Officer Dr Suku Nagendran our', 'label': 'neutral', 'score': 0.9259538054466248, 'numeric_score': 0}, {'text': 'to AveXis President and Chief Executive Officer Sean Nolan Sean Sean', 'label': 'neutral', 'score': 0.9130470752716064, 'numeric_score': 0}], 'media': [{'text': 'go to the investors and media section of our website at', 'label': 'neutral', 'score': 0.9215890765190125, 'numeric_score': 0}, {'text': 'found within the Investors and Media section at Avexis com We', 'label': 'neutral', 'score': 0.9303339123725891, 'numeric_score': 0}], 'reform': [{'text': 'of the Private Securities Litigation Reform Act I caution listeners that', 'label': 'neutral', 'score': 0.7308563590049744, 'numeric_score': 0}], 'act': [{'text': 'the Private Securities Litigation Reform Act I caution listeners that the', 'label': 'neutral', 'score': 0.769993245601654, 'numeric_score': 0}], 'law': [{'text': 'call except as required by law This afternoon we issued a', 'label': 'neutral', 'score': 0.9417132139205933, 'numeric_score': 0}], 'candidate': [{'text': '101 is our gene therapy candidate currently being studied in an', 'label': 'neutral', 'score': 0.9206375479698181, 'numeric_score': 0}, {'text': 'of our proprietary gene therapy candidate AVXS 101 including the planned', 'label': 'neutral', 'score': 0.9206843972206116, 'numeric_score': 0}], 'primary': [{'text': 'replacing the loss or defective primary SMN1 gene with a fully', 'label': 'negative', 'score': 0.5122304558753967, 'numeric_score': -0.5122304558753967}, {'text': 'spinal cord So again our primary cell target within the central', 'label': 'neutral', 'score': 0.9028438329696655, 'numeric_score': 0}], 'approval': [{'text': 'overall faster path to potential approval for the Type 2 program', 'label': 'positive', 'score': 0.5884130001068115, 'numeric_score': 0.5884130001068115}, {'text': 'discussion around a potential accelerated approval path That s where again', 'label': 'neutral', 'score': 0.8956997394561768, 'numeric_score': 0}, {'text': 'be talking about an accelerated approval there or there could be', 'label': 'neutral', 'score': 0.9087522029876709, 'numeric_score': 0}], 'party': [{'text': 'HEK293 cells to a third party manufacture Second in parallel with', 'label': 'neutral', 'score': 0.9041135907173157, 'numeric_score': 0}, {'text': 'from NCH to a third party manufacturer which is HYPERStack which', 'label': 'neutral', 'score': 0.8918474912643433, 'numeric_score': 0}, {'text': 'will be made at third party manufacturers but also in the', 'label': 'neutral', 'score': 0.912083625793457, 'numeric_score': 0}], 'campaign': [{'text': 'recently initiated our GMP manufacturing campaign This recent progress was a', 'label': 'neutral', 'score': 0.6156123876571655, 'numeric_score': 0}], 'transparency': [{'text': 'in an effort for continued transparency that we wanted to provide', 'label': 'neutral', 'score': 0.6710916757583618, 'numeric_score': 0}], 'poll': [{'text': 'to your questions Operator please poll for questions Questions and Answers', 'label': 'neutral', 'score': 0.9153690934181213, 'numeric_score': 0}], 'liberty': [{'text': 'that you have at your liberty bill facility is that correct', 'label': 'neutral', 'score': 0.9232255220413208, 'numeric_score': 0}]}\n",
      "Processing 7331098_T.xml\n"
     ]
    },
    {
     "name": "stderr",
     "output_type": "stream",
     "text": [
      "Some weights of the model checkpoint at cardiffnlp/twitter-roberta-base-sentiment-latest were not used when initializing RobertaForSequenceClassification: ['roberta.pooler.dense.bias', 'roberta.pooler.dense.weight']\n",
      "- This IS expected if you are initializing RobertaForSequenceClassification from the checkpoint of a model trained on another task or with another architecture (e.g. initializing a BertForSequenceClassification model from a BertForPreTraining model).\n",
      "- This IS NOT expected if you are initializing RobertaForSequenceClassification from the checkpoint of a model that you expect to be exactly identical (initializing a BertForSequenceClassification model from a BertForSequenceClassification model).\n",
      "Device set to use mps:0\n",
      "2025-05-27 19:17:05,770 - INFO - Extracting Text...\n",
      "2025-05-27 19:17:05,815 - INFO - Loading Exposure Word List...\n",
      "2025-05-27 19:17:05,816 - INFO - Calculating Exposure...\n",
      "2025-05-27 19:17:05,844 - INFO - Finding Sentiment...\n"
     ]
    },
    {
     "name": "stdout",
     "output_type": "stream",
     "text": [
      "{'speaker': [{'text': 'conference over to your first speaker today Miss Jessica Li Please', 'label': 'neutral', 'score': 0.8252397179603577, 'numeric_score': 0}], 'secretary': [{'text': 'and Miss Leanne Li Board Secretary And now I would like', 'label': 'neutral', 'score': 0.5376664400100708, 'numeric_score': 0}], 'graft': [{'text': 'specializes in developing innovative stent graft medical devices to treat patients', 'label': 'neutral', 'score': 0.5315020680427551, 'numeric_score': 0}, {'text': 'Lombard s two EVAR stent graft systems Altura and Aorfix treat', 'label': 'neutral', 'score': 0.8531383275985718, 'numeric_score': 0}, {'text': 'AAA anatomy This Altura stent graft system is CE marked is', 'label': 'neutral', 'score': 0.9033466577529907, 'numeric_score': 0}, {'text': 'November 2016 the Altura stent graft was featured in a scientific', 'label': 'neutral', 'score': 0.911993145942688, 'numeric_score': 0}, {'text': 'is no evidence of stent graft migration In addition to this', 'label': 'neutral', 'score': 0.5165156722068787, 'numeric_score': 0}, {'text': 'This compares to competitor stent graft systems that have upwards of', 'label': 'neutral', 'score': 0.8313793540000916, 'numeric_score': 0}, {'text': 'with using the Altura stent graft in those countries As for', 'label': 'neutral', 'score': 0.9058284163475037, 'numeric_score': 0}, {'text': 'discuss Aorfix the second stent graft system from Lombard For patients', 'label': 'neutral', 'score': 0.9247194528579712, 'numeric_score': 0}, {'text': 'marked and FDA approved stent graft system that is specifically indicated', 'label': 'neutral', 'score': 0.8715338110923767, 'numeric_score': 0}, {'text': 'the China market additional stent graft systems that can treat difficult', 'label': 'neutral', 'score': 0.8515841364860535, 'numeric_score': 0}, {'text': 'and also offer a stent graft system that could potentially allow', 'label': 'neutral', 'score': 0.6048866510391235, 'numeric_score': 0}, {'text': 'Aorfix is the only stent graft to hold global approval for', 'label': 'neutral', 'score': 0.7144744396209717, 'numeric_score': 0}], 'term': [{'text': 'interest payment in kind The term of the convertible bond is', 'label': 'neutral', 'score': 0.9199581742286682, 'numeric_score': 0}, {'text': 'normal risk patients This long term data has been accepted for', 'label': 'neutral', 'score': 0.7085012197494507, 'numeric_score': 0}, {'text': 'AAA procedures without sacrificing long term patient safety These are both', 'label': 'neutral', 'score': 0.6540276408195496, 'numeric_score': 0}, {'text': 'in Shanghai In the near term MicroPort endovascular will produce lower', 'label': 'neutral', 'score': 0.8773797750473022, 'numeric_score': 0}, {'text': 'Aorfix systems In the long term MicroPort endovascular will have the', 'label': 'neutral', 'score': 0.8239263892173767, 'numeric_score': 0}, {'text': 'paramount importance in the near term to reduce the manufacturing costs', 'label': 'neutral', 'score': 0.8282672762870789, 'numeric_score': 0}], 'rights': [{'text': 'First China distribution and manufacturing rights to Lombard s two key', 'label': 'neutral', 'score': 0.879719614982605, 'numeric_score': 0}, {'text': 'be granted exclusive commercial manufacturing rights for these two products for', 'label': 'neutral', 'score': 0.876171886920929, 'numeric_score': 0}, {'text': 'obtained Brazilian registration and distribution rights for Altura and Aorfix MicroPort', 'label': 'neutral', 'score': 0.929608941078186, 'numeric_score': 0}, {'text': 'business by securing the distribution rights for Altura and Aorfix for', 'label': 'neutral', 'score': 0.8676981329917908, 'numeric_score': 0}, {'text': 'will have the China manufacturing rights to support the commercialization of', 'label': 'neutral', 'score': 0.8726783990859985, 'numeric_score': 0}, {'text': 'markets by securing the commercial rights of Aorfix and Altura for', 'label': 'neutral', 'score': 0.859748125076294, 'numeric_score': 0}], 'approval': [{'text': 'products upon receipt of regulatory approval The parties have agreed to', 'label': 'neutral', 'score': 0.8441550731658936, 'numeric_score': 0}, {'text': 'those countries As for US approval Lombard anticipates IDE approval in', 'label': 'neutral', 'score': 0.9345853328704834, 'numeric_score': 0}, {'text': 'US approval Lombard anticipates IDE approval in 2017 The company has', 'label': 'neutral', 'score': 0.8928059935569763, 'numeric_score': 0}, {'text': 'of 2017 with potential FDA approval sometime in 2020 Next I', 'label': 'neutral', 'score': 0.7138408422470093, 'numeric_score': 0}, {'text': 'The company received CE Mark approval for IntelliFlex in mid 2016', 'label': 'neutral', 'score': 0.7542948722839355, 'numeric_score': 0}, {'text': 'for IntelliFlex to gain FDA approval and expects to do so', 'label': 'neutral', 'score': 0.7393329739570618, 'numeric_score': 0}, {'text': 'we would expect that CFDA approval for these devices to be', 'label': 'neutral', 'score': 0.9013541340827942, 'numeric_score': 0}, {'text': 'stent graft to hold global approval for the uniquely treat AAA', 'label': 'neutral', 'score': 0.8090749979019165, 'numeric_score': 0}, {'text': 'they still have to get approval for Altura and so I', 'label': 'neutral', 'score': 0.8329076766967773, 'numeric_score': 0}], 'freedom': [{'text': 'Technical success was 100 with freedom from type 1 or type', 'label': 'positive', 'score': 0.5717629194259644, 'numeric_score': 0.5717629194259644}, {'text': 'line with other stents and freedom from aneurysm related mortality in', 'label': 'neutral', 'score': 0.8594009280204773, 'numeric_score': 0}], 'economy': [{'text': 'Brazil is an emerging market economy that offers growth potential in', 'label': 'positive', 'score': 0.8842687010765076, 'numeric_score': 0.8842687010765076}], 'infrastructure': [{'text': 'have a quite small international infrastructure like in European and in', 'label': 'neutral', 'score': 0.8582072854042053, 'numeric_score': 0}]}\n",
      "Processing 7328508_T.xml\n"
     ]
    },
    {
     "name": "stderr",
     "output_type": "stream",
     "text": [
      "Some weights of the model checkpoint at cardiffnlp/twitter-roberta-base-sentiment-latest were not used when initializing RobertaForSequenceClassification: ['roberta.pooler.dense.bias', 'roberta.pooler.dense.weight']\n",
      "- This IS expected if you are initializing RobertaForSequenceClassification from the checkpoint of a model trained on another task or with another architecture (e.g. initializing a BertForSequenceClassification model from a BertForPreTraining model).\n",
      "- This IS NOT expected if you are initializing RobertaForSequenceClassification from the checkpoint of a model that you expect to be exactly identical (initializing a BertForSequenceClassification model from a BertForSequenceClassification model).\n",
      "Device set to use mps:0\n",
      "2025-05-27 19:17:07,346 - INFO - Extracting Text...\n",
      "2025-05-27 19:17:07,358 - INFO - Loading Exposure Word List...\n",
      "2025-05-27 19:17:07,359 - INFO - Calculating Exposure...\n",
      "2025-05-27 19:17:07,364 - INFO - Finding Sentiment...\n"
     ]
    },
    {
     "name": "stdout",
     "output_type": "stream",
     "text": [
      "{'president': [{'text': 'Lonnel Coats Lexicon Pharmaceuticals Inc President and CEO Pablo Lapuerta Lexicon', 'label': 'neutral', 'score': 0.9115233421325684, 'numeric_score': 0}, {'text': 'are Lonnel Coats Lexicon s President and Chief Executive Officer Dr', 'label': 'neutral', 'score': 0.953464686870575, 'numeric_score': 0}, {'text': 'Lapuerta Lexicon s Executive Vice President and Chief Medical Officer Dr', 'label': 'neutral', 'score': 0.9254950881004333, 'numeric_score': 0}, {'text': 'Tyle Lexicon s Executive Vice President of Research and Development and', 'label': 'neutral', 'score': 0.9551259875297546, 'numeric_score': 0}, {'text': 'Wade Lexicon s Executive Vice President of Corporate and Administrative Affairs', 'label': 'neutral', 'score': 0.9420986175537109, 'numeric_score': 0}, {'text': 'Lonnel Coats Lexicon Pharmaceuticals Inc President and CEO 3 Well good', 'label': 'positive', 'score': 0.7922444939613342, 'numeric_score': 0.7922444939613342}, {'text': 'Lonnel Coats Lexicon Pharmaceuticals Inc President and CEO 5 Thanks Dr', 'label': 'positive', 'score': 0.6934345960617065, 'numeric_score': 0.6934345960617065}, {'text': 'Lonnel Coats Lexicon Pharmaceuticals Inc President and CEO 3 Liana I', 'label': 'neutral', 'score': 0.9159184694290161, 'numeric_score': 0}, {'text': 'Lonnel Coats Lexicon Pharmaceuticals Inc President and CEO 6 Yes what', 'label': 'neutral', 'score': 0.8132819533348083, 'numeric_score': 0}, {'text': 'Lonnel Coats Lexicon Pharmaceuticals Inc President and CEO 8 2017 yes', 'label': 'neutral', 'score': 0.8722536563873291, 'numeric_score': 0}, {'text': 'Lonnel Coats Lexicon Pharmaceuticals Inc President and CEO 11 Yes Liana', 'label': 'neutral', 'score': 0.7161301374435425, 'numeric_score': 0}, {'text': 'Lonnel Coats Lexicon Pharmaceuticals Inc President and CEO 19 Great question', 'label': 'positive', 'score': 0.7401642203330994, 'numeric_score': 0.7401642203330994}, {'text': 'Lonnel Coats Lexicon Pharmaceuticals Inc President and CEO 22 I will', 'label': 'neutral', 'score': 0.7420576214790344, 'numeric_score': 0}, {'text': 'Lonnel Coats Lexicon Pharmaceuticals Inc President and CEO 24 Yes Jessica', 'label': 'neutral', 'score': 0.767245888710022, 'numeric_score': 0}, {'text': 'Lonnel Coats Lexicon Pharmaceuticals Inc President and CEO 32 I will', 'label': 'neutral', 'score': 0.7931951284408569, 'numeric_score': 0}, {'text': 'Lonnel Coats Lexicon Pharmaceuticals Inc President and CEO 34 But I', 'label': 'neutral', 'score': 0.8987452983856201, 'numeric_score': 0}, {'text': 'Lonnel Coats Lexicon Pharmaceuticals Inc President and CEO 37 Dr Tyle', 'label': 'neutral', 'score': 0.8925979733467102, 'numeric_score': 0}, {'text': 'Lonnel Coats Lexicon Pharmaceuticals Inc President and CEO 42 I will', 'label': 'neutral', 'score': 0.7452080845832825, 'numeric_score': 0}, {'text': 'Lonnel Coats Lexicon Pharmaceuticals Inc President and CEO 50 So one', 'label': 'neutral', 'score': 0.9066948294639587, 'numeric_score': 0}, {'text': 'Lonnel Coats Lexicon Pharmaceuticals Inc President and CEO 54 Yes Yigal', 'label': 'neutral', 'score': 0.7828628420829773, 'numeric_score': 0}, {'text': 'Lonnel Coats Lexicon Pharmaceuticals Inc President and CEO 56 Yigal that', 'label': 'neutral', 'score': 0.9333194494247437, 'numeric_score': 0}, {'text': 'Lonnel Coats Lexicon Pharmaceuticals Inc President and CEO 58 Yes we', 'label': 'neutral', 'score': 0.6960753798484802, 'numeric_score': 0}, {'text': 'Lonnel Coats Lexicon Pharmaceuticals Inc President and CEO 60 That s', 'label': 'neutral', 'score': 0.8720120191574097, 'numeric_score': 0}, {'text': 'Lonnel Coats Lexicon Pharmaceuticals Inc President and CEO 64 Dr Lapuerta', 'label': 'neutral', 'score': 0.9157748222351074, 'numeric_score': 0}, {'text': 'Lonnel Coats Lexicon Pharmaceuticals Inc President and CEO 71 Actually Steve', 'label': 'neutral', 'score': 0.8755994439125061, 'numeric_score': 0}, {'text': 'Lonnel Coats Lexicon Pharmaceuticals Inc President and CEO 73 I think', 'label': 'neutral', 'score': 0.9135387539863586, 'numeric_score': 0}, {'text': 'Lonnel Coats Lexicon Pharmaceuticals Inc President and CEO 74 Yes I', 'label': 'neutral', 'score': 0.6603827476501465, 'numeric_score': 0}, {'text': 'Lonnel Coats Lexicon Pharmaceuticals Inc President and CEO 79 Liana great', 'label': 'positive', 'score': 0.9127361178398132, 'numeric_score': 0.9127361178398132}, {'text': 'Lonnel Coats Lexicon Pharmaceuticals Inc President and CEO 83 Thank you', 'label': 'positive', 'score': 0.814688503742218, 'numeric_score': 0.814688503742218}, {'text': 'Lonnel Coats Lexicon Pharmaceuticals Inc President and CEO 85 Dr Lapuerta', 'label': 'neutral', 'score': 0.9048341512680054, 'numeric_score': 0}, {'text': 'Lonnel Coats Lexicon Pharmaceuticals Inc President and CEO 87 Thanks Dr', 'label': 'positive', 'score': 0.8456742167472839, 'numeric_score': 0.8456742167472839}, {'text': 'Lonnel Coats Lexicon Pharmaceuticals Inc President and CEO 89 Thank you', 'label': 'positive', 'score': 0.7583116888999939, 'numeric_score': 0.7583116888999939}, {'text': 'Lonnel Coats Lexicon Pharmaceuticals Inc President and CEO 91 Thank you', 'label': 'positive', 'score': 0.7512607574462891, 'numeric_score': 0.7512607574462891}, {'text': 'Lonnel Coats Lexicon Pharmaceuticals Inc President and CEO 93 Well I', 'label': 'neutral', 'score': 0.7901192307472229, 'numeric_score': 0}], 'executive': [{'text': 'Lexicon s President and Chief Executive Officer Dr Pablo Lapuerta Lexicon', 'label': 'neutral', 'score': 0.8656865358352661, 'numeric_score': 0}, {'text': 'Dr Pablo Lapuerta Lexicon s Executive Vice President and Chief Medical', 'label': 'neutral', 'score': 0.906320333480835, 'numeric_score': 0}, {'text': 'Dr Praveen Tyle Lexicon s Executive Vice President of Research and', 'label': 'neutral', 'score': 0.9170903563499451, 'numeric_score': 0}, {'text': 'and Jeff Wade Lexicon s Executive Vice President of Corporate and', 'label': 'neutral', 'score': 0.9475619792938232, 'numeric_score': 0}], 'state': [{'text': 'begin I would like to state that we will be making', 'label': 'neutral', 'score': 0.8467555046081543, 'numeric_score': 0}], 'funding': [{'text': 'and the requirements of substantial funding to conduct our drug development', 'label': 'neutral', 'score': 0.8762814998626709, 'numeric_score': 0}], 'primary': [{'text': 'of inTandem2 with the same primary endpoint of focus on A1C', 'label': 'neutral', 'score': 0.9161877036094666, 'numeric_score': 0}, {'text': 'from Europe and Israel The primary endpoint is the change in', 'label': 'neutral', 'score': 0.9049015045166016, 'numeric_score': 0}, {'text': 'reporting today the 24 week primary endpoint Patients continued double blinded', 'label': 'neutral', 'score': 0.8420568108558655, 'numeric_score': 0}, {'text': 'have the statistics around the primary endpoint The primary endpoint was', 'label': 'neutral', 'score': 0.9215632677078247, 'numeric_score': 0}, {'text': 'around the primary endpoint The primary endpoint was meant successfully These', 'label': 'neutral', 'score': 0.7568809390068054, 'numeric_score': 0}, {'text': 'In summary inTandem2 met its primary endpoint Sotagliflozin significantly reduced A1C', 'label': 'neutral', 'score': 0.588446319103241, 'numeric_score': 0}, {'text': 'a full 52 weeks the primary endpoints have been met The', 'label': 'neutral', 'score': 0.7177278399467468, 'numeric_score': 0}, {'text': 'pivotal studies both meeting the primary endpoint and demonstrating what we', 'label': 'neutral', 'score': 0.843332052230835, 'numeric_score': 0}, {'text': 'other secondary endpoints besides the primary endpoint we reported today are', 'label': 'neutral', 'score': 0.925449550151825, 'numeric_score': 0}, {'text': 'is Praveen You know the primary goal of doing inTandem3 study', 'label': 'neutral', 'score': 0.8679246306419373, 'numeric_score': 0}, {'text': 'more safety data Actually our primary endpoint is not even reduction', 'label': 'neutral', 'score': 0.550934910774231, 'numeric_score': 0}], 'majority': [{'text': 'mass index was 28 The majority of patients were receiving multiple', 'label': 'neutral', 'score': 0.8859401941299438, 'numeric_score': 0}], 'term': [{'text': 'midyear and finishing inTandem2 long term extension and then meeting with', 'label': 'neutral', 'score': 0.9020949602127075, 'numeric_score': 0}, {'text': 'say in the very near term here about that program that', 'label': 'neutral', 'score': 0.9191039204597473, 'numeric_score': 0}, {'text': 'you could present the longer term data Lonnel Coats Lexicon Pharmaceuticals', 'label': 'neutral', 'score': 0.9314626455307007, 'numeric_score': 0}]}\n",
      "Processing 7325241_T.xml\n"
     ]
    },
    {
     "name": "stderr",
     "output_type": "stream",
     "text": [
      "Some weights of the model checkpoint at cardiffnlp/twitter-roberta-base-sentiment-latest were not used when initializing RobertaForSequenceClassification: ['roberta.pooler.dense.bias', 'roberta.pooler.dense.weight']\n",
      "- This IS expected if you are initializing RobertaForSequenceClassification from the checkpoint of a model trained on another task or with another architecture (e.g. initializing a BertForSequenceClassification model from a BertForPreTraining model).\n",
      "- This IS NOT expected if you are initializing RobertaForSequenceClassification from the checkpoint of a model that you expect to be exactly identical (initializing a BertForSequenceClassification model from a BertForSequenceClassification model).\n",
      "Device set to use mps:0\n",
      "2025-05-27 19:17:08,125 - INFO - Extracting Text...\n",
      "2025-05-27 19:17:08,152 - INFO - Loading Exposure Word List...\n",
      "2025-05-27 19:17:08,153 - INFO - Calculating Exposure...\n",
      "2025-05-27 19:17:08,166 - INFO - Finding Sentiment...\n"
     ]
    },
    {
     "name": "stdout",
     "output_type": "stream",
     "text": [
      "{'security': [{'text': 'Holding AG To Acquire Mechanical Security Businesses From Stanley Black Decker', 'label': 'neutral', 'score': 0.9428878426551819, 'numeric_score': 0}], 'revenue': [{'text': 'times EBITDA multiple post expected revenue and cost synergies as well', 'label': 'neutral', 'score': 0.8546494841575623, 'numeric_score': 0}, {'text': 'tax benefits With regard to revenue synergies we expect cross selling', 'label': 'neutral', 'score': 0.6235731840133667, 'numeric_score': 0}, {'text': 'synergies from the cost and revenue synergy side we expect 50', 'label': 'neutral', 'score': 0.8056827783584595, 'numeric_score': 0}, {'text': 'multiple So 50 comes from revenue and cost synergies while the', 'label': 'neutral', 'score': 0.8552789688110352, 'numeric_score': 0}, {'text': 'tax benefits Within cost and revenue synergies we expect two third', 'label': 'neutral', 'score': 0.6931918263435364, 'numeric_score': 0}, {'text': 'third to come from the revenue side At the same time', 'label': 'neutral', 'score': 0.8748486638069153, 'numeric_score': 0}, {'text': 'neutral from closing and on revenue as well as on EBITDA', 'label': 'neutral', 'score': 0.7752342224121094, 'numeric_score': 0}], 'platform': [{'text': 'using our shared service function platform In addition we have tax', 'label': 'neutral', 'score': 0.8312538862228394, 'numeric_score': 0}], 'majority': [{'text': 'structure It s basically the majority is an asset deal structure', 'label': 'neutral', 'score': 0.8956416249275208, 'numeric_score': 0}, {'text': 'of four years with the majority to apply in the year', 'label': 'neutral', 'score': 0.8675531148910522, 'numeric_score': 0}], 'government': [{'text': 'second multi housing and third government With that acquisition here from', 'label': 'neutral', 'score': 0.9190000891685486, 'numeric_score': 0}], 'power': [{'text': 'of indirect go to market power as part of our Company', 'label': 'neutral', 'score': 0.8986563086509705, 'numeric_score': 0}]}\n",
      "Processing 7332866_T.xml\n"
     ]
    },
    {
     "name": "stderr",
     "output_type": "stream",
     "text": [
      "Some weights of the model checkpoint at cardiffnlp/twitter-roberta-base-sentiment-latest were not used when initializing RobertaForSequenceClassification: ['roberta.pooler.dense.bias', 'roberta.pooler.dense.weight']\n",
      "- This IS expected if you are initializing RobertaForSequenceClassification from the checkpoint of a model trained on another task or with another architecture (e.g. initializing a BertForSequenceClassification model from a BertForPreTraining model).\n",
      "- This IS NOT expected if you are initializing RobertaForSequenceClassification from the checkpoint of a model that you expect to be exactly identical (initializing a BertForSequenceClassification model from a BertForSequenceClassification model).\n",
      "Device set to use mps:0\n",
      "2025-05-27 19:17:09,354 - INFO - Extracting Text...\n",
      "2025-05-27 19:17:09,365 - INFO - Loading Exposure Word List...\n",
      "2025-05-27 19:17:09,366 - INFO - Calculating Exposure...\n",
      "2025-05-27 19:17:09,375 - INFO - Finding Sentiment...\n"
     ]
    },
    {
     "name": "stdout",
     "output_type": "stream",
     "text": [
      "{'revenue': [{'text': 'firstly incremental EBITDA derived from revenue related synergies such as being', 'label': 'neutral', 'score': 0.7645893096923828, 'numeric_score': 0}, {'text': 'rate of around 24 to revenue In addition we will also', 'label': 'neutral', 'score': 0.735839307308197, 'numeric_score': 0}, {'text': 'mentioned earlier and indeed 50 revenue driven 50 costs And then', 'label': 'neutral', 'score': 0.8602051734924316, 'numeric_score': 0}, {'text': 'CFO 15 Yes so the revenue has been declining due to', 'label': 'negative', 'score': 0.5937446355819702, 'numeric_score': -0.5937446355819702}, {'text': 'footprint So we do see revenue synergies as we mentioned earlier', 'label': 'positive', 'score': 0.5589555501937866, 'numeric_score': 0.5589555501937866}, {'text': 'be somewhat in decline the revenue But then as of 2018', 'label': 'neutral', 'score': 0.7980443239212036, 'numeric_score': 0}, {'text': '2018 we project to have revenue growth and substantial revenue growth', 'label': 'positive', 'score': 0.8776271939277649, 'numeric_score': 0.8776271939277649}, {'text': 'have revenue growth and substantial revenue growth and also synergies kicking', 'label': 'positive', 'score': 0.6958087086677551, 'numeric_score': 0.6958087086677551}, {'text': 't have it s more revenue synergies so it s more', 'label': 'neutral', 'score': 0.6968176960945129, 'numeric_score': 0}, {'text': 'see some very strong potential revenue upside in putting the fixed', 'label': 'positive', 'score': 0.9207361340522766, 'numeric_score': 0.9207361340522766}, {'text': 'bit of upside in the revenue and that we re going', 'label': 'positive', 'score': 0.7640048265457153, 'numeric_score': 0.7640048265457153}], 'government': [{'text': 'is where most of the government activity large enterprise but also', 'label': 'neutral', 'score': 0.8636517524719238, 'numeric_score': 0}], 'conservative': [{'text': 'some B2B I think very conservative B2B revenues in the synergy', 'label': 'neutral', 'score': 0.5807398557662964, 'numeric_score': 0}, {'text': 'think we ve been very conservative in terms of what we', 'label': 'neutral', 'score': 0.8336939811706543, 'numeric_score': 0}], 'infrastructure': [{'text': 'you mentioned maybe the fixed infrastructure wasn t compatible to the', 'label': 'neutral', 'score': 0.5542488098144531, 'numeric_score': 0}], 'rights': [{'text': 'effectively to match your content rights that you currently have and', 'label': 'neutral', 'score': 0.9078063368797302, 'numeric_score': 0}], 'policy': [{'text': 'in line with our accounting policy so we already I had', 'label': 'neutral', 'score': 0.828090250492096, 'numeric_score': 0}], 'regulation': [{'text': 'just maybe quickly just on regulation You mentioned in the release', 'label': 'neutral', 'score': 0.9002524614334106, 'numeric_score': 0}], 'precedent': [{'text': 'I think there s massive precedent in Europe for and in', 'label': 'neutral', 'score': 0.7843621373176575, 'numeric_score': 0}, {'text': 'UPC comes to mind The precedent is all in our favor', 'label': 'positive', 'score': 0.7960355877876282, 'numeric_score': 0.7960355877876282}], 'authority': [{'text': 'they are complementary receiving competition authority approval Big Ziggo UPC comes', 'label': 'neutral', 'score': 0.710651159286499, 'numeric_score': 0}], 'approval': [{'text': 'are complementary receiving competition authority approval Big Ziggo UPC comes to', 'label': 'neutral', 'score': 0.9313068985939026, 'numeric_score': 0}], 'political': [{'text': 'morning and there s real political support for this transaction Because', 'label': 'neutral', 'score': 0.7923851013183594, 'numeric_score': 0}, {'text': 'we got a lot of political support behind this transaction as', 'label': 'neutral', 'score': 0.6983670592308044, 'numeric_score': 0}], 'primary': [{'text': 'Holding NV CEO 41 The primary we have a transition the', 'label': 'neutral', 'score': 0.9263662695884705, 'numeric_score': 0}], 'term': [{'text': 'the synergies in the longer term probably the best EBITDA you', 'label': 'positive', 'score': 0.8672230839729309, 'numeric_score': 0.8672230839729309}]}\n",
      "Processing 7330148_T.xml\n"
     ]
    },
    {
     "name": "stderr",
     "output_type": "stream",
     "text": [
      "Some weights of the model checkpoint at cardiffnlp/twitter-roberta-base-sentiment-latest were not used when initializing RobertaForSequenceClassification: ['roberta.pooler.dense.bias', 'roberta.pooler.dense.weight']\n",
      "- This IS expected if you are initializing RobertaForSequenceClassification from the checkpoint of a model trained on another task or with another architecture (e.g. initializing a BertForSequenceClassification model from a BertForPreTraining model).\n",
      "- This IS NOT expected if you are initializing RobertaForSequenceClassification from the checkpoint of a model that you expect to be exactly identical (initializing a BertForSequenceClassification model from a BertForSequenceClassification model).\n",
      "Device set to use mps:0\n",
      "2025-05-27 19:17:10,889 - INFO - Extracting Text...\n",
      "2025-05-27 19:17:10,924 - INFO - Loading Exposure Word List...\n",
      "2025-05-27 19:17:10,926 - INFO - Calculating Exposure...\n",
      "2025-05-27 19:17:10,947 - INFO - Finding Sentiment...\n"
     ]
    },
    {
     "name": "stdout",
     "output_type": "stream",
     "text": [
      "{'president': [{'text': 'Restoration Hardware Holdings Inc Co President Chief Financial and Administrative Officer', 'label': 'neutral', 'score': 0.8871001601219177, 'numeric_score': 0}, {'text': 'Sodikoff has joined us as President of RH Hospitality Brendan has', 'label': 'neutral', 'score': 0.909057080745697, 'numeric_score': 0}, {'text': 'chain Under leadership of Co President Chief Operating Service and Values', 'label': 'neutral', 'score': 0.8594021201133728, 'numeric_score': 0}, {'text': 'Amazon Tom Kirtz Senior Vice President Customer Experience who joins us', 'label': 'neutral', 'score': 0.7632595300674438, 'numeric_score': 0}, {'text': 'Amazon Dave Newman Senior Vice President Supply Chain Operations and Technology', 'label': 'neutral', 'score': 0.8442276120185852, 'numeric_score': 0}, {'text': 'Restoration Hardware Holdings Inc Co President Chief Financial and Administrative Officer', 'label': 'neutral', 'score': 0.8871001601219177, 'numeric_score': 0}], 'term': [{'text': 'I am sure our short term results will be misinterpreted by', 'label': 'negative', 'score': 0.6217668652534485, 'numeric_score': -0.6217668652534485}, {'text': 'expected to endure some short term pain in exchange for long', 'label': 'neutral', 'score': 0.5744422078132629, 'numeric_score': 0}, {'text': 'pain in exchange for long term gain we are nearly through', 'label': 'neutral', 'score': 0.5253856182098389, 'numeric_score': 0}, {'text': 'forward to sharing the longer term view of the opportunity with', 'label': 'positive', 'score': 0.6954749822616577, 'numeric_score': 0.6954749822616577}, {'text': 'clearly disappointed with our short term results we have demonstrated an', 'label': 'negative', 'score': 0.9035871624946594, 'numeric_score': -0.9035871624946594}, {'text': 'the right ones driving long term sustainable growth and shareholder value', 'label': 'positive', 'score': 0.7701625823974609, 'numeric_score': 0.7701625823974609}, {'text': 'and our platform for long term sustainable growth We see a', 'label': 'positive', 'score': 0.8557583689689636, 'numeric_score': 0.8557583689689636}, {'text': 'to be in the long term Second we are taking a', 'label': 'neutral', 'score': 0.8529895544052124, 'numeric_score': 0}, {'text': '2016 and for the long term which include our supply chain', 'label': 'neutral', 'score': 0.8073426485061646, 'numeric_score': 0}, {'text': 'our business for the long term and for higher growth and', 'label': 'positive', 'score': 0.7884297370910645, 'numeric_score': 0.7884297370910645}, {'text': 'While we have experienced short term margin pressure associated with the', 'label': 'neutral', 'score': 0.6394798159599304, 'numeric_score': 0}, {'text': 'our brand in the long term As we enter 2017 and', 'label': 'neutral', 'score': 0.8446170091629028, 'numeric_score': 0}, {'text': 'our business in the short term our long term growth strategies', 'label': 'positive', 'score': 0.5238626599311829, 'numeric_score': 0.5238626599311829}, {'text': 'the short term our long term growth strategies remain firmly intact', 'label': 'positive', 'score': 0.7800126075744629, 'numeric_score': 0.7800126075744629}, {'text': 'our shareholders over the long term We wish you our team', 'label': 'positive', 'score': 0.5871421694755554, 'numeric_score': 0.5871421694755554}], 'platform': [{'text': 'expansion of our brand and platform Our plan is to aggressively', 'label': 'positive', 'score': 0.7585250735282898, 'numeric_score': 0.7585250735282898}, {'text': 'position our brand and our platform for long term sustainable growth', 'label': 'positive', 'score': 0.7889404892921448, 'numeric_score': 0.7889404892921448}], 'infrastructure': [{'text': 'experience and optimize our operational infrastructure DeMonty has added several new', 'label': 'positive', 'score': 0.5845372080802917, 'numeric_score': 0.5845372080802917}], 'majority': [{'text': 'sourcebooks in September the vast majority of the circulation is just', 'label': 'neutral', 'score': 0.6448397636413574, 'numeric_score': 0}], 'election': [{'text': 'we attribute to the presidential election and lower holiday sales than', 'label': 'neutral', 'score': 0.6025601625442505, 'numeric_score': 0}], 'revenue': [{'text': 'holiday sales than expected total revenue is expected to be in', 'label': 'neutral', 'score': 0.8304224014282227, 'numeric_score': 0}, {'text': 'are lowering our fiscal 2016 revenue growth outlook to flat to', 'label': 'neutral', 'score': 0.7504538893699646, 'numeric_score': 0}, {'text': 'impact related to deferred membership revenue which will not be recognized', 'label': 'negative', 'score': 0.5071197152137756, 'numeric_score': -0.5071197152137756}, {'text': 'drove higher than expected net revenue growth during the period In', 'label': 'neutral', 'score': 0.5857319235801697, 'numeric_score': 0}, {'text': 'the third quarter Comparable brand revenue declined 6 during the quarter', 'label': 'neutral', 'score': 0.5467647314071655, 'numeric_score': 0}, {'text': 'from both the deferred membership revenue and the renewal of current', 'label': 'neutral', 'score': 0.8746067881584167, 'numeric_score': 0}]}\n",
      "Processing 7325240_T.xml\n"
     ]
    },
    {
     "name": "stderr",
     "output_type": "stream",
     "text": [
      "Some weights of the model checkpoint at cardiffnlp/twitter-roberta-base-sentiment-latest were not used when initializing RobertaForSequenceClassification: ['roberta.pooler.dense.bias', 'roberta.pooler.dense.weight']\n",
      "- This IS expected if you are initializing RobertaForSequenceClassification from the checkpoint of a model trained on another task or with another architecture (e.g. initializing a BertForSequenceClassification model from a BertForPreTraining model).\n",
      "- This IS NOT expected if you are initializing RobertaForSequenceClassification from the checkpoint of a model that you expect to be exactly identical (initializing a BertForSequenceClassification model from a BertForSequenceClassification model).\n",
      "Device set to use mps:0\n",
      "2025-05-27 19:17:12,051 - INFO - Extracting Text...\n",
      "2025-05-27 19:17:12,074 - INFO - Loading Exposure Word List...\n",
      "2025-05-27 19:17:12,075 - INFO - Calculating Exposure...\n",
      "2025-05-27 19:17:12,085 - INFO - Finding Sentiment...\n"
     ]
    },
    {
     "name": "stdout",
     "output_type": "stream",
     "text": [
      "{'approval': [{'text': 'you all know by the approval of ivacaftor this is a', 'label': 'neutral', 'score': 0.79219651222229, 'numeric_score': 0}], 'moderate': [{'text': 'adverse events were mild to moderate and the most common adverse', 'label': 'neutral', 'score': 0.7804037928581238, 'numeric_score': 0}], 'power': [{'text': 'not performing at the full power Piet Wigerinck Galapagos NV Chief', 'label': 'neutral', 'score': 0.6594296097755432, 'numeric_score': 0}]}\n",
      "Processing 7328416_T.xml\n"
     ]
    },
    {
     "name": "stderr",
     "output_type": "stream",
     "text": [
      "Some weights of the model checkpoint at cardiffnlp/twitter-roberta-base-sentiment-latest were not used when initializing RobertaForSequenceClassification: ['roberta.pooler.dense.bias', 'roberta.pooler.dense.weight']\n",
      "- This IS expected if you are initializing RobertaForSequenceClassification from the checkpoint of a model trained on another task or with another architecture (e.g. initializing a BertForSequenceClassification model from a BertForPreTraining model).\n",
      "- This IS NOT expected if you are initializing RobertaForSequenceClassification from the checkpoint of a model that you expect to be exactly identical (initializing a BertForSequenceClassification model from a BertForSequenceClassification model).\n",
      "Device set to use mps:0\n",
      "2025-05-27 19:17:13,155 - INFO - Extracting Text...\n",
      "2025-05-27 19:17:13,188 - INFO - Loading Exposure Word List...\n",
      "2025-05-27 19:17:13,189 - INFO - Calculating Exposure...\n",
      "2025-05-27 19:17:13,208 - INFO - Finding Sentiment...\n"
     ]
    },
    {
     "name": "stdout",
     "output_type": "stream",
     "text": [
      "{'executive': [{'text': 'Ton Logtenberg Merus s Chief Executive Officer Hui Liu Chief Business', 'label': 'neutral', 'score': 0.9325926899909973, 'numeric_score': 0}, {'text': 'over to Merus s Chief Executive Officer Dr Ton Logtenberg Ton', 'label': 'neutral', 'score': 0.9196780323982239, 'numeric_score': 0}], 'platform': [{'text': 'Merus s proprietary Biclonics technology platform Biclonics are capable of binding', 'label': 'neutral', 'score': 0.6672407984733582, 'numeric_score': 0}, {'text': 'Merus to enter into a platform collaboration as it further exploits', 'label': 'neutral', 'score': 0.7587563395500183, 'numeric_score': 0}, {'text': 'the potential of our Biclonics platform Today we have succeeded in', 'label': 'positive', 'score': 0.96677166223526, 'numeric_score': 0.96677166223526}, {'text': 'the rights to its technology platform as well as its clinical', 'label': 'neutral', 'score': 0.8895401358604431, 'numeric_score': 0}, {'text': 'future programs emerging from Merus platform that are outside the scope', 'label': 'neutral', 'score': 0.8117901086807251, 'numeric_score': 0}, {'text': 'the advantages of the bispecific platform that we have And we', 'label': 'positive', 'score': 0.8473504185676575, 'numeric_score': 0.8473504185676575}, {'text': 'stated this is entirely preclinical platform based and we re not', 'label': 'neutral', 'score': 0.7902840375900269, 'numeric_score': 0}, {'text': 'makes this a very clean platform based collaboration agreement With regard', 'label': 'positive', 'score': 0.8733526468276978, 'numeric_score': 0.8733526468276978}, {'text': 'bispecific antibodies and using our platform Tony Butler Guggenheim Partners Analyst', 'label': 'neutral', 'score': 0.886417806148529, 'numeric_score': 0}, {'text': 'full rights to its technology platform and gives rights where needed', 'label': 'neutral', 'score': 0.7086066007614136, 'numeric_score': 0}], 'funding': [{'text': 'Furthermore this agreement provides substantial funding to the Company both in', 'label': 'positive', 'score': 0.7792854905128479, 'numeric_score': 0.7792854905128479}, {'text': 'the clinic with the additional funding Thanks John Crowley Merus N', 'label': 'positive', 'score': 0.5189943313598633, 'numeric_score': 0.5189943313598633}], 'term': [{'text': 'milestones or royalties over the term of the agreement which John', 'label': 'neutral', 'score': 0.9104449152946472, 'numeric_score': 0}, {'text': 'diseases This is a long term collaboration that provides Incyte with', 'label': 'neutral', 'score': 0.5112762451171875, 'numeric_score': 0}, {'text': 'this is clearly a long term collaboration encompassing the discovery and', 'label': 'positive', 'score': 0.565173327922821, 'numeric_score': 0.565173327922821}], 'rights': [{'text': 'that provides Incyte with the rights to up to 11 programs', 'label': 'neutral', 'score': 0.8652746677398682, 'numeric_score': 0}, {'text': 'retain US development and commercial rights to one program In addition', 'label': 'neutral', 'score': 0.9192751049995422, 'numeric_score': 0}, {'text': 'programs Merus will retain the rights to its technology platform as', 'label': 'neutral', 'score': 0.8964369893074036, 'numeric_score': 0}, {'text': 'one where you retain US rights and where you have the', 'label': 'neutral', 'score': 0.8094505667686462, 'numeric_score': 0}, {'text': 'the profit share or US rights There was one program where', 'label': 'neutral', 'score': 0.8874257802963257, 'numeric_score': 0}, {'text': 'program where we have US rights where we share the development', 'label': 'neutral', 'score': 0.8634685277938843, 'numeric_score': 0}, {'text': 'does Incyte have any first rights of refusal or anything like', 'label': 'neutral', 'score': 0.9364530444145203, 'numeric_score': 0}, {'text': 'antibodies Who has the manufacturing rights or where would the antibodies', 'label': 'neutral', 'score': 0.8782936334609985, 'numeric_score': 0}, {'text': 'ex US development and commercialization rights In the agreement Merus will', 'label': 'neutral', 'score': 0.820063054561615, 'numeric_score': 0}, {'text': 'course Merus retains the full rights to its technology platform and', 'label': 'neutral', 'score': 0.8123577833175659, 'numeric_score': 0}, {'text': 'its technology platform and gives rights where needed for product development', 'label': 'positive', 'score': 0.7032116055488586, 'numeric_score': 0.7032116055488586}, {'text': 'the collaboration provides for product rights assigned to Merus That s', 'label': 'neutral', 'score': 0.9128972291946411, 'numeric_score': 0}], 'candidate': [{'text': 'MCLA 117 the pre clinical candidate MCLA 158 and any future', 'label': 'neutral', 'score': 0.9103976488113403, 'numeric_score': 0}], 'act': [{'text': 'under the Hart Scott Rodino Act and customary closing conditions This', 'label': 'neutral', 'score': 0.9450977444648743, 'numeric_score': 0}], 'freedom': [{'text': 'yes we have absolutely full freedom to interact with other partners', 'label': 'positive', 'score': 0.6997683048248291, 'numeric_score': 0.6997683048248291}]}\n",
      "Processing 7308156_T.xml\n"
     ]
    },
    {
     "name": "stderr",
     "output_type": "stream",
     "text": [
      "Some weights of the model checkpoint at cardiffnlp/twitter-roberta-base-sentiment-latest were not used when initializing RobertaForSequenceClassification: ['roberta.pooler.dense.bias', 'roberta.pooler.dense.weight']\n",
      "- This IS expected if you are initializing RobertaForSequenceClassification from the checkpoint of a model trained on another task or with another architecture (e.g. initializing a BertForSequenceClassification model from a BertForPreTraining model).\n",
      "- This IS NOT expected if you are initializing RobertaForSequenceClassification from the checkpoint of a model that you expect to be exactly identical (initializing a BertForSequenceClassification model from a BertForSequenceClassification model).\n",
      "Device set to use mps:0\n",
      "2025-05-27 19:17:14,770 - INFO - Extracting Text...\n",
      "2025-05-27 19:17:14,793 - INFO - Loading Exposure Word List...\n",
      "2025-05-27 19:17:14,794 - INFO - Calculating Exposure...\n",
      "2025-05-27 19:17:14,804 - INFO - Finding Sentiment...\n"
     ]
    },
    {
     "name": "stdout",
     "output_type": "stream",
     "text": [
      "{'justice': [{'text': 'to Discuss the Department of Justice Approval of the Carmike Cinemas', 'label': 'neutral', 'score': 0.9498375654220581, 'numeric_score': 0}, {'text': 'this morning the Department of Justice completed its review of our', 'label': 'neutral', 'score': 0.9411102533340454, 'numeric_score': 0}, {'text': 'AMC and the Department of Justice have in fact reach a', 'label': 'neutral', 'score': 0.8479626774787903, 'numeric_score': 0}, {'text': 'agreement with the Department of Justice we were quite pleased to', 'label': 'positive', 'score': 0.9437173008918762, 'numeric_score': 0.9437173008918762}, {'text': 'primary components both reflecting the Justice Department s desire to preserve', 'label': 'neutral', 'score': 0.8568225502967834, 'numeric_score': 0}, {'text': 'executives at the Department of Justice for their diligence and thoughtfulness', 'label': 'positive', 'score': 0.7073444128036499, 'numeric_score': 0.7073444128036499}, {'text': 'whole process the Department of Justice has been very interested in', 'label': 'positive', 'score': 0.5413458943367004, 'numeric_score': 0.5413458943367004}, {'text': 'done much longer than the Justice Department often gives us or', 'label': 'neutral', 'score': 0.8331912755966187, 'numeric_score': 0}, {'text': 'spend eight months with the Justice Department of the United States', 'label': 'neutral', 'score': 0.8935164213180542, 'numeric_score': 0}, {'text': 'Screenvision and the Department of Justice So I think at the', 'label': 'neutral', 'score': 0.9498894810676575, 'numeric_score': 0}], 'approval': [{'text': 'Discuss the Department of Justice Approval of the Carmike Cinemas Inc', 'label': 'neutral', 'score': 0.9350174069404602, 'numeric_score': 0}, {'text': 'welcome to the AMC DOJ approval conference call Operator Instructions As', 'label': 'neutral', 'score': 0.766071617603302, 'numeric_score': 0}, {'text': 'to discuss the DOJ s approval of AMC s acquisition of', 'label': 'neutral', 'score': 0.9365361928939819, 'numeric_score': 0}, {'text': 'of the transaction The DOJ approval today was the last remaining', 'label': 'neutral', 'score': 0.8976300954818726, 'numeric_score': 0}, {'text': 'As part of the DOJ approval process and as expected AMC', 'label': 'neutral', 'score': 0.8889527320861816, 'numeric_score': 0}, {'text': 'our opinion the DOJ s approval supports that belief As we', 'label': 'neutral', 'score': 0.872273862361908, 'numeric_score': 0}, {'text': 've received the final regulatory approval needed to complete the acquisition', 'label': 'neutral', 'score': 0.7916542887687683, 'numeric_score': 0}], 'president': [{'text': 'Aron AMC Entertainment Holdings Inc President amp CEO Craig Ramsey AMC', 'label': 'neutral', 'score': 0.9139561653137207, 'numeric_score': 0}, {'text': 'your host John Merriwether Vice President Investor Relations Thank you Mr', 'label': 'positive', 'score': 0.7913219928741455, 'numeric_score': 0.7913219928741455}, {'text': 'are Adam Aron CEO and President and Craig Ramsay Chief Financial', 'label': 'neutral', 'score': 0.9575555324554443, 'numeric_score': 0}, {'text': 'Aron AMC Entertainment Holdings Inc President amp CEO 3 Thank you', 'label': 'positive', 'score': 0.6760389804840088, 'numeric_score': 0.6760389804840088}, {'text': 'Aron AMC Entertainment Holdings Inc President amp CEO 3 Eric I', 'label': 'neutral', 'score': 0.9108845591545105, 'numeric_score': 0}, {'text': 'Aron AMC Entertainment Holdings Inc President amp CEO 9 And Ben', 'label': 'neutral', 'score': 0.8936073184013367, 'numeric_score': 0}, {'text': 'Aron AMC Entertainment Holdings Inc President amp CEO 11 Why don', 'label': 'neutral', 'score': 0.9193515777587891, 'numeric_score': 0}, {'text': 'Aron AMC Entertainment Holdings Inc President amp CEO 15 Thank you', 'label': 'positive', 'score': 0.650664746761322, 'numeric_score': 0.650664746761322}, {'text': 'Aron AMC Entertainment Holdings Inc President amp CEO 19 Specifically we', 'label': 'neutral', 'score': 0.9285624623298645, 'numeric_score': 0}, {'text': 'Aron AMC Entertainment Holdings Inc President amp CEO 23 2037 Craig', 'label': 'neutral', 'score': 0.9060959219932556, 'numeric_score': 0}, {'text': 'Aron AMC Entertainment Holdings Inc President amp CEO 25 Yes I', 'label': 'neutral', 'score': 0.7159252762794495, 'numeric_score': 0}, {'text': 'Aron AMC Entertainment Holdings Inc President amp CEO 27 You know', 'label': 'neutral', 'score': 0.8706362247467041, 'numeric_score': 0}, {'text': 'Aron AMC Entertainment Holdings Inc President amp CEO 29 Remember that', 'label': 'neutral', 'score': 0.8345086574554443, 'numeric_score': 0}, {'text': 'Aron AMC Entertainment Holdings Inc President amp CEO 33 The only', 'label': 'neutral', 'score': 0.746708333492279, 'numeric_score': 0}, {'text': 'Aron AMC Entertainment Holdings Inc President amp CEO 37 I think', 'label': 'neutral', 'score': 0.9063287973403931, 'numeric_score': 0}, {'text': 'Aron AMC Entertainment Holdings Inc President amp CEO 39 The contract', 'label': 'neutral', 'score': 0.9261854290962219, 'numeric_score': 0}, {'text': 'Aron AMC Entertainment Holdings Inc President amp CEO 41 I love', 'label': 'positive', 'score': 0.9320973753929138, 'numeric_score': 0.9320973753929138}, {'text': 'Aron AMC Entertainment Holdings Inc President amp CEO 47 I did', 'label': 'neutral', 'score': 0.8561617732048035, 'numeric_score': 0}, {'text': 'Aron AMC Entertainment Holdings Inc President amp CEO 50 Thank you', 'label': 'positive', 'score': 0.7416200637817383, 'numeric_score': 0.7416200637817383}], 'act': [{'text': 'Section 27A of the Securities Act of 1933 as amended and', 'label': 'neutral', 'score': 0.8856155276298523, 'numeric_score': 0}, {'text': '21E of the Securities Exchange Act of 1934 as amended Statements', 'label': 'neutral', 'score': 0.896687924861908, 'numeric_score': 0}], 'primary': [{'text': 'move forward There are two primary areas of focus theater divestitures', 'label': 'neutral', 'score': 0.8982290029525757, 'numeric_score': 0}, {'text': 'DOJ settlement There are two primary components both reflecting the Justice', 'label': 'neutral', 'score': 0.9072403311729431, 'numeric_score': 0}], 'term': [{'text': 'greatly appreciate our solid long term working relationship with NCM which', 'label': 'positive', 'score': 0.975392758846283, 'numeric_score': 0.975392758846283}, {'text': 'do not expect the near term tax implications to be significant', 'label': 'negative', 'score': 0.4917612373828888, 'numeric_score': -0.4917612373828888}, {'text': 'Board protection given our long term multi decade contractual relationship which', 'label': 'neutral', 'score': 0.7232615947723389, 'numeric_score': 0}], 'rights': [{'text': 'be waiving founding member governance rights but this is of not', 'label': 'neutral', 'score': 0.6406046748161316, 'numeric_score': 0}], 'government': [{'text': 'National CineMedia or did the government specifically want you to reduce', 'label': 'neutral', 'score': 0.8628884553909302, 'numeric_score': 0}], 'majority': [{'text': 'it but the vast vast majority if not all the Carmike', 'label': 'neutral', 'score': 0.7831361293792725, 'numeric_score': 0}], 'election': [{'text': 'the question was about the election of cash or shares There', 'label': 'neutral', 'score': 0.9051874279975891, 'numeric_score': 0}, {'text': 'Carmike attendance That is our election and if we would like', 'label': 'neutral', 'score': 0.8310340642929077, 'numeric_score': 0}, {'text': 'prior mergers Then the second election is on the part of', 'label': 'neutral', 'score': 0.9190434813499451, 'numeric_score': 0}, {'text': 'may get because of the election for the Carmike transaction If', 'label': 'neutral', 'score': 0.9122488498687744, 'numeric_score': 0}, {'text': 'about and back to this election whether we elect to take', 'label': 'neutral', 'score': 0.8927290439605713, 'numeric_score': 0}, {'text': 'was the 14th was an election deadline for Carmike shareholders to', 'label': 'neutral', 'score': 0.9399212002754211, 'numeric_score': 0}], 'trade': [{'text': 'opinion that our shares will trade better and their shares will', 'label': 'positive', 'score': 0.6090754270553589, 'numeric_score': 0.6090754270553589}, {'text': 'better and their shares will trade better when institutional investors know', 'label': 'positive', 'score': 0.6677499413490295, 'numeric_score': 0.6677499413490295}], 'diplomacy': [{'text': 'be had but I think diplomacy requires that my comments and', 'label': 'neutral', 'score': 0.8369365930557251, 'numeric_score': 0}], 'decree': [{'text': 'the subject of a consent decree of December 2015 that we', 'label': 'neutral', 'score': 0.9379919171333313, 'numeric_score': 0}], 'precedent': [{'text': 'I think there s a precedent in the agreement for make', 'label': 'neutral', 'score': 0.8593996167182922, 'numeric_score': 0}], 'platform': [{'text': 'and financial resources to each platform Adam Aron AMC Entertainment Holdings', 'label': 'neutral', 'score': 0.8559616208076477, 'numeric_score': 0}]}\n",
      "Processing 7325242_T.xml\n"
     ]
    },
    {
     "name": "stderr",
     "output_type": "stream",
     "text": [
      "Some weights of the model checkpoint at cardiffnlp/twitter-roberta-base-sentiment-latest were not used when initializing RobertaForSequenceClassification: ['roberta.pooler.dense.bias', 'roberta.pooler.dense.weight']\n",
      "- This IS expected if you are initializing RobertaForSequenceClassification from the checkpoint of a model trained on another task or with another architecture (e.g. initializing a BertForSequenceClassification model from a BertForPreTraining model).\n",
      "- This IS NOT expected if you are initializing RobertaForSequenceClassification from the checkpoint of a model that you expect to be exactly identical (initializing a BertForSequenceClassification model from a BertForSequenceClassification model).\n",
      "Device set to use mps:0\n",
      "2025-05-27 19:17:15,746 - INFO - Extracting Text...\n",
      "2025-05-27 19:17:15,786 - INFO - Loading Exposure Word List...\n",
      "2025-05-27 19:17:15,787 - INFO - Calculating Exposure...\n",
      "2025-05-27 19:17:15,806 - INFO - Finding Sentiment...\n"
     ]
    },
    {
     "name": "stdout",
     "output_type": "stream",
     "text": [
      "{'security': [{'text': 'Holding AG To Acquire Mechanical Security Businesses From Stanley Black Decker', 'label': 'neutral', 'score': 0.9428878426551819, 'numeric_score': 0}, {'text': 'majority of the Stanley Mechanical Security businesses we re talking about', 'label': 'neutral', 'score': 0.8896328806877136, 'numeric_score': 0}, {'text': 'a strategic evaluation of this security mechanical business They experienced I', 'label': 'neutral', 'score': 0.8814214468002319, 'numeric_score': 0}, {'text': 'they retain their commercial electronics security business as well their automatic', 'label': 'neutral', 'score': 0.8724419474601746, 'numeric_score': 0}], 'majority': [{'text': 'are going to acquire the majority of the Stanley Mechanical Security', 'label': 'neutral', 'score': 0.9003411531448364, 'numeric_score': 0}, {'text': 'this transaction is to a majority extent an asset transaction and', 'label': 'neutral', 'score': 0.8910245895385742, 'numeric_score': 0}, {'text': 'over four years with the majority to apply in year one', 'label': 'neutral', 'score': 0.8547419905662537, 'numeric_score': 0}, {'text': 'the first two years the majority of the implementation costs But', 'label': 'neutral', 'score': 0.7161698937416077, 'numeric_score': 0}], 'revenue': [{'text': 'and we take into consideration revenue and cost synergies which we', 'label': 'neutral', 'score': 0.845660924911499, 'numeric_score': 0}, {'text': 'be neutral from closing on revenue growth and EBITDA margin but', 'label': 'neutral', 'score': 0.803360641002655, 'numeric_score': 0}, {'text': 'on the one hand side revenue synergies because this opportunity gives', 'label': 'positive', 'score': 0.8402417302131653, 'numeric_score': 0.8402417302131653}, {'text': 'how we want to generate revenue synergies In addition we are', 'label': 'neutral', 'score': 0.651251494884491, 'numeric_score': 0}, {'text': 'to identify the split of revenue and cost synergies those two', 'label': 'neutral', 'score': 0.901488184928894, 'numeric_score': 0}, {'text': 'basically represented by cost and revenue synergies Within cost and revenue', 'label': 'neutral', 'score': 0.8982744812965393, 'numeric_score': 0}, {'text': 'revenue synergies Within cost and revenue synergies the cost synergies basically', 'label': 'neutral', 'score': 0.8259254693984985, 'numeric_score': 0}, {'text': 'from year 1 on while revenue and cost synergies will be', 'label': 'neutral', 'score': 0.7524606585502625, 'numeric_score': 0}, {'text': 'cost synergies as well as revenue synergies and tax benefits You', 'label': 'neutral', 'score': 0.7531911730766296, 'numeric_score': 0}, {'text': 'is also with cost and revenue synergies Within that area we', 'label': 'neutral', 'score': 0.8331719040870667, 'numeric_score': 0}, {'text': 'third to come from the revenue side driven by what has', 'label': 'neutral', 'score': 0.8846005797386169, 'numeric_score': 0}], 'economy': [{'text': 'North America is the biggest economy in the world and North', 'label': 'positive', 'score': 0.6640564203262329, 'numeric_score': 0.6640564203262329}], 'power': [{'text': 'is founded on global brand power and sustainability How does our', 'label': 'neutral', 'score': 0.792167067527771, 'numeric_score': 0}], 'rights': [{'text': 'in fact get attractive IP rights and R amp D development', 'label': 'positive', 'score': 0.6616496443748474, 'numeric_score': 0.6616496443748474}], 'minority': [{'text': 'to the North American market Minority goes into commercial hardware of', 'label': 'neutral', 'score': 0.8760244846343994, 'numeric_score': 0}], 'government': [{'text': 'hotels or multi housing or government With this deal we are', 'label': 'neutral', 'score': 0.764523446559906, 'numeric_score': 0}]}\n",
      "Processing 7307299_T.xml\n"
     ]
    },
    {
     "name": "stderr",
     "output_type": "stream",
     "text": [
      "Some weights of the model checkpoint at cardiffnlp/twitter-roberta-base-sentiment-latest were not used when initializing RobertaForSequenceClassification: ['roberta.pooler.dense.bias', 'roberta.pooler.dense.weight']\n",
      "- This IS expected if you are initializing RobertaForSequenceClassification from the checkpoint of a model trained on another task or with another architecture (e.g. initializing a BertForSequenceClassification model from a BertForPreTraining model).\n",
      "- This IS NOT expected if you are initializing RobertaForSequenceClassification from the checkpoint of a model that you expect to be exactly identical (initializing a BertForSequenceClassification model from a BertForSequenceClassification model).\n",
      "Device set to use mps:0\n"
     ]
    },
    {
     "name": "stdout",
     "output_type": "stream",
     "text": [
      "{'executive': [{'text': 'Banking Group plc Group Chief Executive George Culmer Lloyds Banking Group', 'label': 'neutral', 'score': 0.9268960952758789, 'numeric_score': 0}, {'text': 'Banking Group plc Group Chief Executive 2 Good morning everybody and', 'label': 'positive', 'score': 0.7963594198226929, 'numeric_score': 0.7963594198226929}, {'text': 'Banking Group plc Group Chief Executive 25 No risk to Lloyds', 'label': 'neutral', 'score': 0.7284876108169556, 'numeric_score': 0}, {'text': 'Banking Group plc Group Chief Executive 27 And we will keep', 'label': 'neutral', 'score': 0.7722547054290771, 'numeric_score': 0}, {'text': 'Banking Group plc Group Chief Executive 31 Right Look I ll', 'label': 'neutral', 'score': 0.9148005843162537, 'numeric_score': 0}, {'text': 'Banking Group plc Group Chief Executive 33 It is included in', 'label': 'neutral', 'score': 0.9157435894012451, 'numeric_score': 0}, {'text': 'Banking Group plc Group Chief Executive 36 That s correct yes', 'label': 'positive', 'score': 0.5063280463218689, 'numeric_score': 0.5063280463218689}, {'text': 'Banking Group plc Group Chief Executive 40 Right Tom I ll', 'label': 'neutral', 'score': 0.9284691214561462, 'numeric_score': 0}, {'text': 'Banking Group plc Group Chief Executive 43 On the interest rate', 'label': 'neutral', 'score': 0.9005601406097412, 'numeric_score': 0}, {'text': 'Banking Group plc Group Chief Executive 45 I understand And George', 'label': 'neutral', 'score': 0.809354305267334, 'numeric_score': 0}, {'text': 'Banking Group plc Group Chief Executive 62 I think on your', 'label': 'neutral', 'score': 0.9187887907028198, 'numeric_score': 0}, {'text': 'Banking Group plc Group Chief Executive 65 A small number and', 'label': 'neutral', 'score': 0.9115476012229919, 'numeric_score': 0}, {'text': 'Banking Group plc Group Chief Executive 71 That s correct Peter', 'label': 'neutral', 'score': 0.7130368947982788, 'numeric_score': 0}, {'text': 'Banking Group plc Group Chief Executive 74 And we also like', 'label': 'positive', 'score': 0.7085179090499878, 'numeric_score': 0.7085179090499878}, {'text': 'Banking Group plc Group Chief Executive 78 Yes It s Antonio', 'label': 'neutral', 'score': 0.7822545170783997, 'numeric_score': 0}, {'text': 'Banking Group plc Group Chief Executive 80 Sorry we lost you', 'label': 'negative', 'score': 0.6483336687088013, 'numeric_score': -0.6483336687088013}], 'term': [{'text': 'our confidence in the long term economic prospects for the UK', 'label': 'positive', 'score': 0.5708454251289368, 'numeric_score': 0.5708454251289368}, {'text': 'sustainable earnings over the medium term In line with our policy', 'label': 'positive', 'score': 0.5521050691604614, 'numeric_score': 0.5521050691604614}, {'text': 'In terms of the short term in dividends nothing has changed', 'label': 'neutral', 'score': 0.7236472964286804, 'numeric_score': 0}, {'text': 'not be affected by short term movements from interest rates We', 'label': 'neutral', 'score': 0.8474332690238953, 'numeric_score': 0}], 'unemployment': [{'text': '2016 PRA stress scenario with unemployment peaking at 9 5 the', 'label': 'neutral', 'score': 0.5876007080078125, 'numeric_score': 0}, {'text': 'looked stressing up to an unemployment rate of 9 5 I', 'label': 'neutral', 'score': 0.5440353751182556, 'numeric_score': 0}, {'text': 'think it was down 10 unemployment and the thing remained profitable', 'label': 'neutral', 'score': 0.6664665341377258, 'numeric_score': 0}], 'revenue': [{'text': 'also be the potential for revenue synergies although these are not', 'label': 'neutral', 'score': 0.7015222907066345, 'numeric_score': 0}, {'text': 'revenues this year which suggests revenue headwinds However the part on', 'label': 'neutral', 'score': 0.7606809139251709, 'numeric_score': 0}, {'text': 'wondering whether that GBP650 million revenue is a net of loan', 'label': 'neutral', 'score': 0.8411508202552795, 'numeric_score': 0}], 'infrastructure': [{'text': 'through the consolidation of IT infrastructure marketing property consolidation and operational', 'label': 'neutral', 'score': 0.9073638916015625, 'numeric_score': 0}], 'policy': [{'text': 'And the Group s dividend policy remains unchanged and we re', 'label': 'neutral', 'score': 0.9254251718521118, 'numeric_score': 0}, {'text': 'term In line with our policy the Group s approach to', 'label': 'neutral', 'score': 0.8613272905349731, 'numeric_score': 0}, {'text': 'nothing has changed from our policy in terms of our confidence', 'label': 'neutral', 'score': 0.6828259229660034, 'numeric_score': 0}, {'text': 'in line with our normal policy the Board meets at the', 'label': 'neutral', 'score': 0.9245137572288513, 'numeric_score': 0}], 'funding': [{'text': 'I may Are there any funding synergies here I believe that', 'label': 'neutral', 'score': 0.6353952884674072, 'numeric_score': 0}, {'text': 'absolutely right our cost of funding is quite low lower than', 'label': 'neutral', 'score': 0.6383844017982483, 'numeric_score': 0}, {'text': 'going to use it in funding this business and therefore that', 'label': 'neutral', 'score': 0.8677582740783691, 'numeric_score': 0}, {'text': 'business this still is matched funding in terms of funding and', 'label': 'neutral', 'score': 0.8104097247123718, 'numeric_score': 0}, {'text': 'matched funding in terms of funding and therefore it will not', 'label': 'neutral', 'score': 0.57974773645401, 'numeric_score': 0}, {'text': 'in in terms of matched funding Tom Rayner Exane BNP Paribas', 'label': 'neutral', 'score': 0.9217095971107483, 'numeric_score': 0}], 'approval': [{'text': 'the deal is the competition approval but I think we are', 'label': 'neutral', 'score': 0.8033350110054016, 'numeric_score': 0}, {'text': 'are confident of receiving that approval In terms of capital then', 'label': 'neutral', 'score': 0.8458165526390076, 'numeric_score': 0}, {'text': 'going to get the competition approval for this But just wondered', 'label': 'neutral', 'score': 0.8738084435462952, 'numeric_score': 0}]}\n",
      "Saved results for 13 files to earnings_calls_results.json\n"
     ]
    }
   ],
   "source": [
    "import json\n",
    "import os\n",
    "\n",
    "# where to look for files and word-list\n",
    "data_dir = \"/Users/efang/Desktop/coding/research/src/data/earnings_calls/2016\"\n",
    "csv_path = \"/Users/efang/Desktop/coding/research/src/data/paper_word_sets/political_words_extended.csv\"\n",
    "\n",
    "results = {}\n",
    "\n",
    "for fp in list_file_paths(data_dir):\n",
    "    filename = os.path.basename(fp)                      # e.g. \"call1.xml\"\n",
    "    key = os.path.splitext(filename)[0]                  # strips \".xml\", gives \"call1\"\n",
    "    print(f\"Processing {filename}\")\n",
    "    results[key] = model5v1(fp, csv_path, 5)\n",
    "\n",
    "# write out to JSON\n",
    "output_path = \"earnings_calls_results.json\"\n",
    "with open(output_path, \"w\") as f:\n",
    "    json.dump(results, f, indent=2)\n",
    "\n",
    "print(f\"Saved results for {len(results)} files to {output_path}\")\n"
   ]
  },
  {
   "cell_type": "code",
   "execution_count": 12,
   "metadata": {},
   "outputs": [],
   "source": [
    "import json\n",
    "import os\n",
    "\n",
    "data_dir = \"/Users/efang/Desktop/coding/research/src/data/earnings_calls/2016\"\n",
    "csv_path = \"/Users/efang/Desktop/coding/research/src/data/paper_word_sets/political_words_extended.csv\"\n",
    "\n",
    "def model5v1_f(transcript_directory, exposure_word_path, save_directory):\n",
    "    results = {}\n",
    "\n",
    "    for fp in list_file_paths(transcript_directory):\n",
    "        filename = os.path.basename(fp)                      # e.g. \"call1.xml\"\n",
    "        key = os.path.splitext(filename)[0]                  # strips \".xml\", gives \"call1\"\n",
    "        print(f\"Processing {filename}\")\n",
    "        results[key] = model5v1(fp, exposure_word_path, 5)\n",
    "\n",
    "    # write out to JSON\n",
    "    with open(save_directory, \"w\") as f:\n",
    "        json.dump(results, f, indent=2)\n",
    "\n",
    "    print(f\"Saved results for {len(results)} files to save_directory\")\n"
   ]
  },
  {
   "cell_type": "code",
   "execution_count": 13,
   "metadata": {},
   "outputs": [
    {
     "name": "stderr",
     "output_type": "stream",
     "text": [
      "2025-05-31 11:17:23,163 - INFO - Extracting Text...\n",
      "2025-05-31 11:17:23,180 - INFO - Loading Exposure Word List...\n",
      "2025-05-31 11:17:23,181 - INFO - Calculating Exposure...\n",
      "2025-05-31 11:17:23,189 - INFO - Finding Sentiment...\n"
     ]
    },
    {
     "name": "stdout",
     "output_type": "stream",
     "text": [
      "Processing 7331107_T.xml\n"
     ]
    },
    {
     "name": "stderr",
     "output_type": "stream",
     "text": [
      "Some weights of the model checkpoint at cardiffnlp/twitter-roberta-base-sentiment-latest were not used when initializing RobertaForSequenceClassification: ['roberta.pooler.dense.bias', 'roberta.pooler.dense.weight']\n",
      "- This IS expected if you are initializing RobertaForSequenceClassification from the checkpoint of a model trained on another task or with another architecture (e.g. initializing a BertForSequenceClassification model from a BertForPreTraining model).\n",
      "- This IS NOT expected if you are initializing RobertaForSequenceClassification from the checkpoint of a model that you expect to be exactly identical (initializing a BertForSequenceClassification model from a BertForSequenceClassification model).\n",
      "Device set to use mps:0\n",
      "2025-05-31 11:17:24,576 - INFO - Extracting Text...\n",
      "2025-05-31 11:17:24,611 - INFO - Loading Exposure Word List...\n",
      "2025-05-31 11:17:24,612 - INFO - Calculating Exposure...\n",
      "2025-05-31 11:17:24,631 - INFO - Finding Sentiment...\n"
     ]
    },
    {
     "name": "stdout",
     "output_type": "stream",
     "text": [
      "{'president': [{'text': 'Participants Shigenao Ishiguro TDK Corp President amp CEO Presentation Shigenao Ishiguro', 'label': 'neutral', 'score': 0.8957082629203796, 'numeric_score': 0}, {'text': 'Presentation Shigenao Ishiguro TDK Corp President amp CEO 1 Hello everybody', 'label': 'neutral', 'score': 0.8467056751251221, 'numeric_score': 0}], 'resolution': [{'text': 'Board meeting actually had a resolution to acquire the stocks of', 'label': 'neutral', 'score': 0.896876871585846, 'numeric_score': 0}], 'approval': [{'text': 'also inaudible InvenSense initially received approval from the shareholders meeting as', 'label': 'neutral', 'score': 0.8820444345474243, 'numeric_score': 0}], 'term': [{'text': 'have a three year mid term plan by the end of', 'label': 'neutral', 'score': 0.8380110859870911, 'numeric_score': 0}], 'power': [{'text': 'passive components the batteries contactless power transfer sensor MEMS and also', 'label': 'neutral', 'score': 0.8725839257240295, 'numeric_score': 0}], 'platform': [{'text': 'able to exercise the customer platform of OEM and Tier 1', 'label': 'neutral', 'score': 0.7832912802696228, 'numeric_score': 0}, {'text': 'red part shows the customer platform that we are able to', 'label': 'neutral', 'score': 0.5764240026473999, 'numeric_score': 0}, {'text': 'able to expand our business platform in ICT As you can', 'label': 'positive', 'score': 0.5036212801933289, 'numeric_score': 0.5036212801933289}, {'text': 'number one with our customer platform and also with the collaboration', 'label': 'neutral', 'score': 0.5336546301841736, 'numeric_score': 0}, {'text': 'of Qualcomm the InvenSense business platform will expand in the ICT', 'label': 'neutral', 'score': 0.681831419467926, 'numeric_score': 0}]}\n",
      "Processing 7307951_T.xml\n"
     ]
    },
    {
     "name": "stderr",
     "output_type": "stream",
     "text": [
      "Some weights of the model checkpoint at cardiffnlp/twitter-roberta-base-sentiment-latest were not used when initializing RobertaForSequenceClassification: ['roberta.pooler.dense.bias', 'roberta.pooler.dense.weight']\n",
      "- This IS expected if you are initializing RobertaForSequenceClassification from the checkpoint of a model trained on another task or with another architecture (e.g. initializing a BertForSequenceClassification model from a BertForPreTraining model).\n",
      "- This IS NOT expected if you are initializing RobertaForSequenceClassification from the checkpoint of a model that you expect to be exactly identical (initializing a BertForSequenceClassification model from a BertForSequenceClassification model).\n",
      "Device set to use mps:0\n",
      "2025-05-31 11:17:26,278 - INFO - Extracting Text...\n",
      "2025-05-31 11:17:26,314 - INFO - Loading Exposure Word List...\n",
      "2025-05-31 11:17:26,315 - INFO - Calculating Exposure...\n",
      "2025-05-31 11:17:26,331 - INFO - Finding Sentiment...\n"
     ]
    },
    {
     "name": "stdout",
     "output_type": "stream",
     "text": [
      "{'president': [{'text': 'Quincey The Coca Cola Company President COO Kathy Waller The Coca', 'label': 'neutral', 'score': 0.8671146035194397, 'numeric_score': 0}, {'text': 'Of course starting with our President and Chief Operating Officer James', 'label': 'neutral', 'score': 0.6778861880302429, 'numeric_score': 0}, {'text': 'important announcement last Friday Our President and Chief Operating Officer James', 'label': 'positive', 'score': 0.7676081657409668, 'numeric_score': 0.7676081657409668}, {'text': 'bringing him in as the President and Chief Operating Officer He', 'label': 'neutral', 'score': 0.9109645485877991, 'numeric_score': 0}, {'text': 'Quincey The Coca Cola Company President COO 5 The last time', 'label': 'neutral', 'score': 0.8239302039146423, 'numeric_score': 0}, {'text': 'Quincey The Coca Cola Company President COO 7 No I m', 'label': 'neutral', 'score': 0.8609398603439331, 'numeric_score': 0}, {'text': 'Quincey The Coca Cola Company President COO 10 Look I think', 'label': 'neutral', 'score': 0.8947957158088684, 'numeric_score': 0}, {'text': 'the role of a group president And I think James in', 'label': 'neutral', 'score': 0.9160596132278442, 'numeric_score': 0}, {'text': 'Quincey The Coca Cola Company President COO 13 I think you', 'label': 'neutral', 'score': 0.8818531036376953, 'numeric_score': 0}, {'text': 'Quincey The Coca Cola Company President COO 17 Correct Caroline Levy', 'label': 'neutral', 'score': 0.8923860192298889, 'numeric_score': 0}, {'text': 'Quincey The Coca Cola Company President COO 19 Sure there is', 'label': 'neutral', 'score': 0.7966745495796204, 'numeric_score': 0}, {'text': 'Quincey The Coca Cola Company President COO 21 So I think', 'label': 'neutral', 'score': 0.9036352038383484, 'numeric_score': 0}, {'text': 'Quincey The Coca Cola Company President COO 25 It might not', 'label': 'neutral', 'score': 0.8880050182342529, 'numeric_score': 0}, {'text': 'Quincey The Coca Cola Company President COO 27 Yes look in', 'label': 'neutral', 'score': 0.7972270250320435, 'numeric_score': 0}, {'text': 'Quincey The Coca Cola Company President COO 30 What was the', 'label': 'neutral', 'score': 0.9214648604393005, 'numeric_score': 0}, {'text': 'Quincey The Coca Cola Company President COO 32 So let me', 'label': 'neutral', 'score': 0.8011223077774048, 'numeric_score': 0}, {'text': 'Quincey The Coca Cola Company President COO 35 Certainly by the', 'label': 'neutral', 'score': 0.8606933951377869, 'numeric_score': 0}, {'text': 'Quincey The Coca Cola Company President COO 38 So the answer', 'label': 'neutral', 'score': 0.8423924446105957, 'numeric_score': 0}, {'text': 'Quincey The Coca Cola Company President COO 40 Dunkin Donuts I', 'label': 'neutral', 'score': 0.817076563835144, 'numeric_score': 0}, {'text': 'Quincey The Coca Cola Company President COO 43 Look I m', 'label': 'neutral', 'score': 0.7630132436752319, 'numeric_score': 0}, {'text': 'Quincey The Coca Cola Company President COO 46 Georgia Muhtar Kent', 'label': 'neutral', 'score': 0.9388929009437561, 'numeric_score': 0}, {'text': 'Quincey The Coca Cola Company President COO 51 Are you sure', 'label': 'neutral', 'score': 0.9184587597846985, 'numeric_score': 0}, {'text': 'Quincey The Coca Cola Company President COO 53 Look we have', 'label': 'neutral', 'score': 0.7210005521774292, 'numeric_score': 0}], 'revenue': [{'text': 'a 140 billion 135 billion revenue system Changing hands getting better', 'label': 'positive', 'score': 0.5174338817596436, 'numeric_score': 0.5174338817596436}, {'text': '20 billion 25 billion of revenue and increased our operating margin', 'label': 'positive', 'score': 0.6756805777549744, 'numeric_score': 0.6756805777549744}, {'text': 'mindset We are much more revenue focused now looking at the', 'label': 'neutral', 'score': 0.5370935797691345, 'numeric_score': 0}, {'text': 'Japan Europe United States in revenue growth are actually far exceeding', 'label': 'neutral', 'score': 0.6590403318405151, 'numeric_score': 0}, {'text': 'businesses that have much higher revenue per case much higher revenue', 'label': 'positive', 'score': 0.6196175813674927, 'numeric_score': 0.6196175813674927}, {'text': 'revenue per case much higher revenue per liter are doing much', 'label': 'neutral', 'score': 0.7213072776794434, 'numeric_score': 0}, {'text': 'and if you started counting revenue and other things it would', 'label': 'neutral', 'score': 0.858924925327301, 'numeric_score': 0}, {'text': 'to you about the whole revenue side of sparkling because what', 'label': 'neutral', 'score': 0.7836936116218567, 'numeric_score': 0}, {'text': 'get is how robust the revenue side of sparkling is and', 'label': 'neutral', 'score': 0.5548816323280334, 'numeric_score': 0}, {'text': 'vehicle and it is a revenue generating vehicle So we are', 'label': 'neutral', 'score': 0.5509990453720093, 'numeric_score': 0}, {'text': 'thing is can we generate revenue growth at the topline sustainably', 'label': 'neutral', 'score': 0.7946637272834778, 'numeric_score': 0}, {'text': 'double and triple and quadruple revenue into the future Coke will', 'label': 'positive', 'score': 0.7162294387817383, 'numeric_score': 0.7162294387817383}, {'text': 's what will drive the revenue and that s why we', 'label': 'neutral', 'score': 0.5944288372993469, 'numeric_score': 0}], 'politics': [{'text': 'do anywhere in business in politics anywhere in family is who', 'label': 'neutral', 'score': 0.8494638800621033, 'numeric_score': 0}], 'term': [{'text': 'hard work and a long term work And so this is', 'label': 'neutral', 'score': 0.5735170841217041, 'numeric_score': 0}, {'text': 'on China in the long term but we will have to', 'label': 'neutral', 'score': 0.7389450073242188, 'numeric_score': 0}, {'text': 'in the Coke portfolio long term I know there s a', 'label': 'neutral', 'score': 0.824512779712677, 'numeric_score': 0}], 'power': [{'text': 'the Coca Cola business is power of partnerships those incredible partnerships', 'label': 'positive', 'score': 0.9604535698890686, 'numeric_score': 0.9604535698890686}], 'law': [{'text': 'of the problem is the law of big numbers having an', 'label': 'neutral', 'score': 0.5724058151245117, 'numeric_score': 0}], 'reform': [{'text': 'you think about corporate tax reform and the ability to move', 'label': 'neutral', 'score': 0.8912832140922546, 'numeric_score': 0}, {'text': 'a good shot at tax reform The bad news is nobody', 'label': 'negative', 'score': 0.43756401538848877, 'numeric_score': -0.43756401538848877}, {'text': 'been saying we needed tax reform so it is a positive', 'label': 'positive', 'score': 0.5906375646591187, 'numeric_score': 0.5906375646591187}]}\n",
      "Processing 7330709_T.xml\n"
     ]
    },
    {
     "name": "stderr",
     "output_type": "stream",
     "text": [
      "Some weights of the model checkpoint at cardiffnlp/twitter-roberta-base-sentiment-latest were not used when initializing RobertaForSequenceClassification: ['roberta.pooler.dense.bias', 'roberta.pooler.dense.weight']\n",
      "- This IS expected if you are initializing RobertaForSequenceClassification from the checkpoint of a model trained on another task or with another architecture (e.g. initializing a BertForSequenceClassification model from a BertForPreTraining model).\n",
      "- This IS NOT expected if you are initializing RobertaForSequenceClassification from the checkpoint of a model that you expect to be exactly identical (initializing a BertForSequenceClassification model from a BertForSequenceClassification model).\n",
      "Device set to use mps:0\n",
      "2025-05-31 11:17:28,141 - INFO - Extracting Text...\n",
      "2025-05-31 11:17:28,160 - INFO - Loading Exposure Word List...\n",
      "2025-05-31 11:17:28,160 - INFO - Calculating Exposure...\n",
      "2025-05-31 11:17:28,170 - INFO - Finding Sentiment...\n"
     ]
    },
    {
     "name": "stdout",
     "output_type": "stream",
     "text": [
      "{'president': [{'text': 'Communications Sean Nolan AveXis Inc President and CEO Suku Nagendran AveXis', 'label': 'neutral', 'score': 0.9411511421203613, 'numeric_score': 0}, {'text': 'introduce Mr Jim Goff Vice President of Investor Relations and Communications', 'label': 'neutral', 'score': 0.8689014911651611, 'numeric_score': 0}, {'text': 'us today are Sean Nolan President and Chief Executive Officer Dr', 'label': 'neutral', 'score': 0.9073657393455505, 'numeric_score': 0}, {'text': 'the call over to AveXis President and Chief Executive Officer Sean', 'label': 'neutral', 'score': 0.9317053556442261, 'numeric_score': 0}, {'text': 'Sean Sean Nolan AveXis Inc President and CEO 3 Thank you', 'label': 'positive', 'score': 0.5608111023902893, 'numeric_score': 0.5608111023902893}, {'text': 'Thanks Sean Nolan AveXis Inc President and CEO 3 Tom great', 'label': 'positive', 'score': 0.9463706016540527, 'numeric_score': 0.9463706016540527}, {'text': 'conclusion Sean Nolan AveXis Inc President and CEO 6 So basically', 'label': 'neutral', 'score': 0.9178783893585205, 'numeric_score': 0}, {'text': 'meeting Sean Nolan AveXis Inc President and CEO 8 There s', 'label': 'neutral', 'score': 0.9036069512367249, 'numeric_score': 0}, {'text': 'indication Sean Nolan AveXis Inc President and CEO 10 Can you', 'label': 'neutral', 'score': 0.902335524559021, 'numeric_score': 0}, {'text': '2017 Sean Nolan AveXis Inc President and CEO 12 I think', 'label': 'neutral', 'score': 0.9273260235786438, 'numeric_score': 0}, {'text': 'patients Sean Nolan AveXis Inc President and CEO 15 So Ian', 'label': 'neutral', 'score': 0.920891523361206, 'numeric_score': 0}, {'text': 'far Sean Nolan AveXis Inc President and CEO 17 Well I', 'label': 'neutral', 'score': 0.8993620276451111, 'numeric_score': 0}, {'text': 'now Sean Nolan AveXis Inc President and CEO 19 Well I', 'label': 'neutral', 'score': 0.8880437612533569, 'numeric_score': 0}, {'text': 'outcomes Sean Nolan AveXis Inc President and CEO 22 So Gbola', 'label': 'neutral', 'score': 0.8450343012809753, 'numeric_score': 0}, {'text': 'example Sean Nolan AveXis Inc President and CEO 24 Sure I', 'label': 'neutral', 'score': 0.8174350261688232, 'numeric_score': 0}, {'text': 'previously Sean Nolan AveXis Inc President and CEO 26 I would', 'label': 'neutral', 'score': 0.9157755970954895, 'numeric_score': 0}, {'text': 'Thanks Sean Nolan AveXis Inc President and CEO 30 You re', 'label': 'positive', 'score': 0.8113163709640503, 'numeric_score': 0.8113163709640503}, {'text': 'Thanks Sean Nolan AveXis Inc President and CEO 34 Yes so', 'label': 'positive', 'score': 0.859887957572937, 'numeric_score': 0.859887957572937}, {'text': 'study Sean Nolan AveXis Inc President and CEO 37 Well as', 'label': 'neutral', 'score': 0.8905524015426636, 'numeric_score': 0}, {'text': 'range Sean Nolan AveXis Inc President and CEO 39 Well I', 'label': 'neutral', 'score': 0.8751318454742432, 'numeric_score': 0}, {'text': 'correct Sean Nolan AveXis Inc President and CEO 41 So the', 'label': 'neutral', 'score': 0.9298924207687378, 'numeric_score': 0}, {'text': 'volume Sean Nolan AveXis Inc President and CEO 43 Now the', 'label': 'neutral', 'score': 0.930195152759552, 'numeric_score': 0}, {'text': 'comments Sean Nolan AveXis Inc President and CEO 45 Thank you', 'label': 'neutral', 'score': 0.5345842242240906, 'numeric_score': 0}], 'executive': [{'text': 'Sean Nolan President and Chief Executive Officer Dr Suku Nagendran our', 'label': 'neutral', 'score': 0.9259538054466248, 'numeric_score': 0}, {'text': 'to AveXis President and Chief Executive Officer Sean Nolan Sean Sean', 'label': 'neutral', 'score': 0.9130470752716064, 'numeric_score': 0}], 'media': [{'text': 'go to the investors and media section of our website at', 'label': 'neutral', 'score': 0.9215890765190125, 'numeric_score': 0}, {'text': 'found within the Investors and Media section at Avexis com We', 'label': 'neutral', 'score': 0.9303339123725891, 'numeric_score': 0}], 'reform': [{'text': 'of the Private Securities Litigation Reform Act I caution listeners that', 'label': 'neutral', 'score': 0.7308563590049744, 'numeric_score': 0}], 'act': [{'text': 'the Private Securities Litigation Reform Act I caution listeners that the', 'label': 'neutral', 'score': 0.769993245601654, 'numeric_score': 0}], 'law': [{'text': 'call except as required by law This afternoon we issued a', 'label': 'neutral', 'score': 0.9417132139205933, 'numeric_score': 0}], 'candidate': [{'text': '101 is our gene therapy candidate currently being studied in an', 'label': 'neutral', 'score': 0.9206375479698181, 'numeric_score': 0}, {'text': 'of our proprietary gene therapy candidate AVXS 101 including the planned', 'label': 'neutral', 'score': 0.9206843972206116, 'numeric_score': 0}], 'primary': [{'text': 'replacing the loss or defective primary SMN1 gene with a fully', 'label': 'negative', 'score': 0.5122304558753967, 'numeric_score': -0.5122304558753967}, {'text': 'spinal cord So again our primary cell target within the central', 'label': 'neutral', 'score': 0.9028438329696655, 'numeric_score': 0}], 'approval': [{'text': 'overall faster path to potential approval for the Type 2 program', 'label': 'positive', 'score': 0.5884130001068115, 'numeric_score': 0.5884130001068115}, {'text': 'discussion around a potential accelerated approval path That s where again', 'label': 'neutral', 'score': 0.8956997394561768, 'numeric_score': 0}, {'text': 'be talking about an accelerated approval there or there could be', 'label': 'neutral', 'score': 0.9087522029876709, 'numeric_score': 0}], 'party': [{'text': 'HEK293 cells to a third party manufacture Second in parallel with', 'label': 'neutral', 'score': 0.9041135907173157, 'numeric_score': 0}, {'text': 'from NCH to a third party manufacturer which is HYPERStack which', 'label': 'neutral', 'score': 0.8918474912643433, 'numeric_score': 0}, {'text': 'will be made at third party manufacturers but also in the', 'label': 'neutral', 'score': 0.912083625793457, 'numeric_score': 0}], 'campaign': [{'text': 'recently initiated our GMP manufacturing campaign This recent progress was a', 'label': 'neutral', 'score': 0.6156123876571655, 'numeric_score': 0}], 'transparency': [{'text': 'in an effort for continued transparency that we wanted to provide', 'label': 'neutral', 'score': 0.6710916757583618, 'numeric_score': 0}], 'poll': [{'text': 'to your questions Operator please poll for questions Questions and Answers', 'label': 'neutral', 'score': 0.9153690934181213, 'numeric_score': 0}], 'liberty': [{'text': 'that you have at your liberty bill facility is that correct', 'label': 'neutral', 'score': 0.9232255220413208, 'numeric_score': 0}]}\n",
      "Processing 7331098_T.xml\n"
     ]
    },
    {
     "name": "stderr",
     "output_type": "stream",
     "text": [
      "Some weights of the model checkpoint at cardiffnlp/twitter-roberta-base-sentiment-latest were not used when initializing RobertaForSequenceClassification: ['roberta.pooler.dense.bias', 'roberta.pooler.dense.weight']\n",
      "- This IS expected if you are initializing RobertaForSequenceClassification from the checkpoint of a model trained on another task or with another architecture (e.g. initializing a BertForSequenceClassification model from a BertForPreTraining model).\n",
      "- This IS NOT expected if you are initializing RobertaForSequenceClassification from the checkpoint of a model that you expect to be exactly identical (initializing a BertForSequenceClassification model from a BertForSequenceClassification model).\n",
      "Device set to use mps:0\n",
      "2025-05-31 11:17:29,271 - INFO - Extracting Text...\n",
      "2025-05-31 11:17:29,311 - INFO - Loading Exposure Word List...\n",
      "2025-05-31 11:17:29,312 - INFO - Calculating Exposure...\n",
      "2025-05-31 11:17:29,331 - INFO - Finding Sentiment...\n"
     ]
    },
    {
     "name": "stdout",
     "output_type": "stream",
     "text": [
      "{'speaker': [{'text': 'conference over to your first speaker today Miss Jessica Li Please', 'label': 'neutral', 'score': 0.8252397179603577, 'numeric_score': 0}], 'secretary': [{'text': 'and Miss Leanne Li Board Secretary And now I would like', 'label': 'neutral', 'score': 0.5376664400100708, 'numeric_score': 0}], 'graft': [{'text': 'specializes in developing innovative stent graft medical devices to treat patients', 'label': 'neutral', 'score': 0.5315020680427551, 'numeric_score': 0}, {'text': 'Lombard s two EVAR stent graft systems Altura and Aorfix treat', 'label': 'neutral', 'score': 0.8531383275985718, 'numeric_score': 0}, {'text': 'AAA anatomy This Altura stent graft system is CE marked is', 'label': 'neutral', 'score': 0.9033466577529907, 'numeric_score': 0}, {'text': 'November 2016 the Altura stent graft was featured in a scientific', 'label': 'neutral', 'score': 0.911993145942688, 'numeric_score': 0}, {'text': 'is no evidence of stent graft migration In addition to this', 'label': 'neutral', 'score': 0.5165156722068787, 'numeric_score': 0}, {'text': 'This compares to competitor stent graft systems that have upwards of', 'label': 'neutral', 'score': 0.8313793540000916, 'numeric_score': 0}, {'text': 'with using the Altura stent graft in those countries As for', 'label': 'neutral', 'score': 0.9058284163475037, 'numeric_score': 0}, {'text': 'discuss Aorfix the second stent graft system from Lombard For patients', 'label': 'neutral', 'score': 0.9247194528579712, 'numeric_score': 0}, {'text': 'marked and FDA approved stent graft system that is specifically indicated', 'label': 'neutral', 'score': 0.8715338110923767, 'numeric_score': 0}, {'text': 'the China market additional stent graft systems that can treat difficult', 'label': 'neutral', 'score': 0.8515841364860535, 'numeric_score': 0}, {'text': 'and also offer a stent graft system that could potentially allow', 'label': 'neutral', 'score': 0.6048866510391235, 'numeric_score': 0}, {'text': 'Aorfix is the only stent graft to hold global approval for', 'label': 'neutral', 'score': 0.7144744396209717, 'numeric_score': 0}], 'term': [{'text': 'interest payment in kind The term of the convertible bond is', 'label': 'neutral', 'score': 0.9199581742286682, 'numeric_score': 0}, {'text': 'normal risk patients This long term data has been accepted for', 'label': 'neutral', 'score': 0.7085012197494507, 'numeric_score': 0}, {'text': 'AAA procedures without sacrificing long term patient safety These are both', 'label': 'neutral', 'score': 0.6540276408195496, 'numeric_score': 0}, {'text': 'in Shanghai In the near term MicroPort endovascular will produce lower', 'label': 'neutral', 'score': 0.8773797750473022, 'numeric_score': 0}, {'text': 'Aorfix systems In the long term MicroPort endovascular will have the', 'label': 'neutral', 'score': 0.8239263892173767, 'numeric_score': 0}, {'text': 'paramount importance in the near term to reduce the manufacturing costs', 'label': 'neutral', 'score': 0.8282672762870789, 'numeric_score': 0}], 'rights': [{'text': 'First China distribution and manufacturing rights to Lombard s two key', 'label': 'neutral', 'score': 0.879719614982605, 'numeric_score': 0}, {'text': 'be granted exclusive commercial manufacturing rights for these two products for', 'label': 'neutral', 'score': 0.876171886920929, 'numeric_score': 0}, {'text': 'obtained Brazilian registration and distribution rights for Altura and Aorfix MicroPort', 'label': 'neutral', 'score': 0.929608941078186, 'numeric_score': 0}, {'text': 'business by securing the distribution rights for Altura and Aorfix for', 'label': 'neutral', 'score': 0.8676981329917908, 'numeric_score': 0}, {'text': 'will have the China manufacturing rights to support the commercialization of', 'label': 'neutral', 'score': 0.8726783990859985, 'numeric_score': 0}, {'text': 'markets by securing the commercial rights of Aorfix and Altura for', 'label': 'neutral', 'score': 0.859748125076294, 'numeric_score': 0}], 'approval': [{'text': 'products upon receipt of regulatory approval The parties have agreed to', 'label': 'neutral', 'score': 0.8441550731658936, 'numeric_score': 0}, {'text': 'those countries As for US approval Lombard anticipates IDE approval in', 'label': 'neutral', 'score': 0.9345853328704834, 'numeric_score': 0}, {'text': 'US approval Lombard anticipates IDE approval in 2017 The company has', 'label': 'neutral', 'score': 0.8928059935569763, 'numeric_score': 0}, {'text': 'of 2017 with potential FDA approval sometime in 2020 Next I', 'label': 'neutral', 'score': 0.7138408422470093, 'numeric_score': 0}, {'text': 'The company received CE Mark approval for IntelliFlex in mid 2016', 'label': 'neutral', 'score': 0.7542948722839355, 'numeric_score': 0}, {'text': 'for IntelliFlex to gain FDA approval and expects to do so', 'label': 'neutral', 'score': 0.7393329739570618, 'numeric_score': 0}, {'text': 'we would expect that CFDA approval for these devices to be', 'label': 'neutral', 'score': 0.9013541340827942, 'numeric_score': 0}, {'text': 'stent graft to hold global approval for the uniquely treat AAA', 'label': 'neutral', 'score': 0.8090749979019165, 'numeric_score': 0}, {'text': 'they still have to get approval for Altura and so I', 'label': 'neutral', 'score': 0.8329076766967773, 'numeric_score': 0}], 'freedom': [{'text': 'Technical success was 100 with freedom from type 1 or type', 'label': 'positive', 'score': 0.5717629194259644, 'numeric_score': 0.5717629194259644}, {'text': 'line with other stents and freedom from aneurysm related mortality in', 'label': 'neutral', 'score': 0.8594009280204773, 'numeric_score': 0}], 'economy': [{'text': 'Brazil is an emerging market economy that offers growth potential in', 'label': 'positive', 'score': 0.8842687010765076, 'numeric_score': 0.8842687010765076}], 'infrastructure': [{'text': 'have a quite small international infrastructure like in European and in', 'label': 'neutral', 'score': 0.8582072854042053, 'numeric_score': 0}]}\n",
      "Processing 7328508_T.xml\n"
     ]
    },
    {
     "name": "stderr",
     "output_type": "stream",
     "text": [
      "Some weights of the model checkpoint at cardiffnlp/twitter-roberta-base-sentiment-latest were not used when initializing RobertaForSequenceClassification: ['roberta.pooler.dense.bias', 'roberta.pooler.dense.weight']\n",
      "- This IS expected if you are initializing RobertaForSequenceClassification from the checkpoint of a model trained on another task or with another architecture (e.g. initializing a BertForSequenceClassification model from a BertForPreTraining model).\n",
      "- This IS NOT expected if you are initializing RobertaForSequenceClassification from the checkpoint of a model that you expect to be exactly identical (initializing a BertForSequenceClassification model from a BertForSequenceClassification model).\n",
      "Device set to use mps:0\n",
      "2025-05-31 11:17:30,736 - INFO - Extracting Text...\n",
      "2025-05-31 11:17:30,745 - INFO - Loading Exposure Word List...\n",
      "2025-05-31 11:17:30,746 - INFO - Calculating Exposure...\n",
      "2025-05-31 11:17:30,749 - INFO - Finding Sentiment...\n"
     ]
    },
    {
     "name": "stdout",
     "output_type": "stream",
     "text": [
      "{'president': [{'text': 'Lonnel Coats Lexicon Pharmaceuticals Inc President and CEO Pablo Lapuerta Lexicon', 'label': 'neutral', 'score': 0.9115233421325684, 'numeric_score': 0}, {'text': 'are Lonnel Coats Lexicon s President and Chief Executive Officer Dr', 'label': 'neutral', 'score': 0.953464686870575, 'numeric_score': 0}, {'text': 'Lapuerta Lexicon s Executive Vice President and Chief Medical Officer Dr', 'label': 'neutral', 'score': 0.9254950881004333, 'numeric_score': 0}, {'text': 'Tyle Lexicon s Executive Vice President of Research and Development and', 'label': 'neutral', 'score': 0.9551259875297546, 'numeric_score': 0}, {'text': 'Wade Lexicon s Executive Vice President of Corporate and Administrative Affairs', 'label': 'neutral', 'score': 0.9420986175537109, 'numeric_score': 0}, {'text': 'Lonnel Coats Lexicon Pharmaceuticals Inc President and CEO 3 Well good', 'label': 'positive', 'score': 0.7922444939613342, 'numeric_score': 0.7922444939613342}, {'text': 'Lonnel Coats Lexicon Pharmaceuticals Inc President and CEO 5 Thanks Dr', 'label': 'positive', 'score': 0.6934345960617065, 'numeric_score': 0.6934345960617065}, {'text': 'Lonnel Coats Lexicon Pharmaceuticals Inc President and CEO 3 Liana I', 'label': 'neutral', 'score': 0.9159184694290161, 'numeric_score': 0}, {'text': 'Lonnel Coats Lexicon Pharmaceuticals Inc President and CEO 6 Yes what', 'label': 'neutral', 'score': 0.8132819533348083, 'numeric_score': 0}, {'text': 'Lonnel Coats Lexicon Pharmaceuticals Inc President and CEO 8 2017 yes', 'label': 'neutral', 'score': 0.8722536563873291, 'numeric_score': 0}, {'text': 'Lonnel Coats Lexicon Pharmaceuticals Inc President and CEO 11 Yes Liana', 'label': 'neutral', 'score': 0.7161301374435425, 'numeric_score': 0}, {'text': 'Lonnel Coats Lexicon Pharmaceuticals Inc President and CEO 19 Great question', 'label': 'positive', 'score': 0.7401642203330994, 'numeric_score': 0.7401642203330994}, {'text': 'Lonnel Coats Lexicon Pharmaceuticals Inc President and CEO 22 I will', 'label': 'neutral', 'score': 0.7420576214790344, 'numeric_score': 0}, {'text': 'Lonnel Coats Lexicon Pharmaceuticals Inc President and CEO 24 Yes Jessica', 'label': 'neutral', 'score': 0.767245888710022, 'numeric_score': 0}, {'text': 'Lonnel Coats Lexicon Pharmaceuticals Inc President and CEO 32 I will', 'label': 'neutral', 'score': 0.7931951284408569, 'numeric_score': 0}, {'text': 'Lonnel Coats Lexicon Pharmaceuticals Inc President and CEO 34 But I', 'label': 'neutral', 'score': 0.8987452983856201, 'numeric_score': 0}, {'text': 'Lonnel Coats Lexicon Pharmaceuticals Inc President and CEO 37 Dr Tyle', 'label': 'neutral', 'score': 0.8925979733467102, 'numeric_score': 0}, {'text': 'Lonnel Coats Lexicon Pharmaceuticals Inc President and CEO 42 I will', 'label': 'neutral', 'score': 0.7452080845832825, 'numeric_score': 0}, {'text': 'Lonnel Coats Lexicon Pharmaceuticals Inc President and CEO 50 So one', 'label': 'neutral', 'score': 0.9066948294639587, 'numeric_score': 0}, {'text': 'Lonnel Coats Lexicon Pharmaceuticals Inc President and CEO 54 Yes Yigal', 'label': 'neutral', 'score': 0.7828628420829773, 'numeric_score': 0}, {'text': 'Lonnel Coats Lexicon Pharmaceuticals Inc President and CEO 56 Yigal that', 'label': 'neutral', 'score': 0.9333194494247437, 'numeric_score': 0}, {'text': 'Lonnel Coats Lexicon Pharmaceuticals Inc President and CEO 58 Yes we', 'label': 'neutral', 'score': 0.6960753798484802, 'numeric_score': 0}, {'text': 'Lonnel Coats Lexicon Pharmaceuticals Inc President and CEO 60 That s', 'label': 'neutral', 'score': 0.8720120191574097, 'numeric_score': 0}, {'text': 'Lonnel Coats Lexicon Pharmaceuticals Inc President and CEO 64 Dr Lapuerta', 'label': 'neutral', 'score': 0.9157748222351074, 'numeric_score': 0}, {'text': 'Lonnel Coats Lexicon Pharmaceuticals Inc President and CEO 71 Actually Steve', 'label': 'neutral', 'score': 0.8755994439125061, 'numeric_score': 0}, {'text': 'Lonnel Coats Lexicon Pharmaceuticals Inc President and CEO 73 I think', 'label': 'neutral', 'score': 0.9135387539863586, 'numeric_score': 0}, {'text': 'Lonnel Coats Lexicon Pharmaceuticals Inc President and CEO 74 Yes I', 'label': 'neutral', 'score': 0.6603827476501465, 'numeric_score': 0}, {'text': 'Lonnel Coats Lexicon Pharmaceuticals Inc President and CEO 79 Liana great', 'label': 'positive', 'score': 0.9127361178398132, 'numeric_score': 0.9127361178398132}, {'text': 'Lonnel Coats Lexicon Pharmaceuticals Inc President and CEO 83 Thank you', 'label': 'positive', 'score': 0.814688503742218, 'numeric_score': 0.814688503742218}, {'text': 'Lonnel Coats Lexicon Pharmaceuticals Inc President and CEO 85 Dr Lapuerta', 'label': 'neutral', 'score': 0.9048341512680054, 'numeric_score': 0}, {'text': 'Lonnel Coats Lexicon Pharmaceuticals Inc President and CEO 87 Thanks Dr', 'label': 'positive', 'score': 0.8456742167472839, 'numeric_score': 0.8456742167472839}, {'text': 'Lonnel Coats Lexicon Pharmaceuticals Inc President and CEO 89 Thank you', 'label': 'positive', 'score': 0.7583116888999939, 'numeric_score': 0.7583116888999939}, {'text': 'Lonnel Coats Lexicon Pharmaceuticals Inc President and CEO 91 Thank you', 'label': 'positive', 'score': 0.7512607574462891, 'numeric_score': 0.7512607574462891}, {'text': 'Lonnel Coats Lexicon Pharmaceuticals Inc President and CEO 93 Well I', 'label': 'neutral', 'score': 0.7901192307472229, 'numeric_score': 0}], 'executive': [{'text': 'Lexicon s President and Chief Executive Officer Dr Pablo Lapuerta Lexicon', 'label': 'neutral', 'score': 0.8656865358352661, 'numeric_score': 0}, {'text': 'Dr Pablo Lapuerta Lexicon s Executive Vice President and Chief Medical', 'label': 'neutral', 'score': 0.906320333480835, 'numeric_score': 0}, {'text': 'Dr Praveen Tyle Lexicon s Executive Vice President of Research and', 'label': 'neutral', 'score': 0.9170903563499451, 'numeric_score': 0}, {'text': 'and Jeff Wade Lexicon s Executive Vice President of Corporate and', 'label': 'neutral', 'score': 0.9475619792938232, 'numeric_score': 0}], 'state': [{'text': 'begin I would like to state that we will be making', 'label': 'neutral', 'score': 0.8467555046081543, 'numeric_score': 0}], 'funding': [{'text': 'and the requirements of substantial funding to conduct our drug development', 'label': 'neutral', 'score': 0.8762814998626709, 'numeric_score': 0}], 'primary': [{'text': 'of inTandem2 with the same primary endpoint of focus on A1C', 'label': 'neutral', 'score': 0.9161877036094666, 'numeric_score': 0}, {'text': 'from Europe and Israel The primary endpoint is the change in', 'label': 'neutral', 'score': 0.9049015045166016, 'numeric_score': 0}, {'text': 'reporting today the 24 week primary endpoint Patients continued double blinded', 'label': 'neutral', 'score': 0.8420568108558655, 'numeric_score': 0}, {'text': 'have the statistics around the primary endpoint The primary endpoint was', 'label': 'neutral', 'score': 0.9215632677078247, 'numeric_score': 0}, {'text': 'around the primary endpoint The primary endpoint was meant successfully These', 'label': 'neutral', 'score': 0.7568809390068054, 'numeric_score': 0}, {'text': 'In summary inTandem2 met its primary endpoint Sotagliflozin significantly reduced A1C', 'label': 'neutral', 'score': 0.588446319103241, 'numeric_score': 0}, {'text': 'a full 52 weeks the primary endpoints have been met The', 'label': 'neutral', 'score': 0.7177278399467468, 'numeric_score': 0}, {'text': 'pivotal studies both meeting the primary endpoint and demonstrating what we', 'label': 'neutral', 'score': 0.843332052230835, 'numeric_score': 0}, {'text': 'other secondary endpoints besides the primary endpoint we reported today are', 'label': 'neutral', 'score': 0.925449550151825, 'numeric_score': 0}, {'text': 'is Praveen You know the primary goal of doing inTandem3 study', 'label': 'neutral', 'score': 0.8679246306419373, 'numeric_score': 0}, {'text': 'more safety data Actually our primary endpoint is not even reduction', 'label': 'neutral', 'score': 0.550934910774231, 'numeric_score': 0}], 'majority': [{'text': 'mass index was 28 The majority of patients were receiving multiple', 'label': 'neutral', 'score': 0.8859401941299438, 'numeric_score': 0}], 'term': [{'text': 'midyear and finishing inTandem2 long term extension and then meeting with', 'label': 'neutral', 'score': 0.9020949602127075, 'numeric_score': 0}, {'text': 'say in the very near term here about that program that', 'label': 'neutral', 'score': 0.9191039204597473, 'numeric_score': 0}, {'text': 'you could present the longer term data Lonnel Coats Lexicon Pharmaceuticals', 'label': 'neutral', 'score': 0.9314626455307007, 'numeric_score': 0}]}\n",
      "Processing 7325241_T.xml\n"
     ]
    },
    {
     "name": "stderr",
     "output_type": "stream",
     "text": [
      "Some weights of the model checkpoint at cardiffnlp/twitter-roberta-base-sentiment-latest were not used when initializing RobertaForSequenceClassification: ['roberta.pooler.dense.bias', 'roberta.pooler.dense.weight']\n",
      "- This IS expected if you are initializing RobertaForSequenceClassification from the checkpoint of a model trained on another task or with another architecture (e.g. initializing a BertForSequenceClassification model from a BertForPreTraining model).\n",
      "- This IS NOT expected if you are initializing RobertaForSequenceClassification from the checkpoint of a model that you expect to be exactly identical (initializing a BertForSequenceClassification model from a BertForSequenceClassification model).\n",
      "Device set to use mps:0\n",
      "2025-05-31 11:17:31,443 - INFO - Extracting Text...\n",
      "2025-05-31 11:17:31,469 - INFO - Loading Exposure Word List...\n",
      "2025-05-31 11:17:31,471 - INFO - Calculating Exposure...\n",
      "2025-05-31 11:17:31,483 - INFO - Finding Sentiment...\n"
     ]
    },
    {
     "name": "stdout",
     "output_type": "stream",
     "text": [
      "{'security': [{'text': 'Holding AG To Acquire Mechanical Security Businesses From Stanley Black Decker', 'label': 'neutral', 'score': 0.9428878426551819, 'numeric_score': 0}], 'revenue': [{'text': 'times EBITDA multiple post expected revenue and cost synergies as well', 'label': 'neutral', 'score': 0.8546494841575623, 'numeric_score': 0}, {'text': 'tax benefits With regard to revenue synergies we expect cross selling', 'label': 'neutral', 'score': 0.6235731840133667, 'numeric_score': 0}, {'text': 'synergies from the cost and revenue synergy side we expect 50', 'label': 'neutral', 'score': 0.8056827783584595, 'numeric_score': 0}, {'text': 'multiple So 50 comes from revenue and cost synergies while the', 'label': 'neutral', 'score': 0.8552789688110352, 'numeric_score': 0}, {'text': 'tax benefits Within cost and revenue synergies we expect two third', 'label': 'neutral', 'score': 0.6931918263435364, 'numeric_score': 0}, {'text': 'third to come from the revenue side At the same time', 'label': 'neutral', 'score': 0.8748486638069153, 'numeric_score': 0}, {'text': 'neutral from closing and on revenue as well as on EBITDA', 'label': 'neutral', 'score': 0.7752342224121094, 'numeric_score': 0}], 'platform': [{'text': 'using our shared service function platform In addition we have tax', 'label': 'neutral', 'score': 0.8312538862228394, 'numeric_score': 0}], 'majority': [{'text': 'structure It s basically the majority is an asset deal structure', 'label': 'neutral', 'score': 0.8956416249275208, 'numeric_score': 0}, {'text': 'of four years with the majority to apply in the year', 'label': 'neutral', 'score': 0.8675531148910522, 'numeric_score': 0}], 'government': [{'text': 'second multi housing and third government With that acquisition here from', 'label': 'neutral', 'score': 0.9190000891685486, 'numeric_score': 0}], 'power': [{'text': 'of indirect go to market power as part of our Company', 'label': 'neutral', 'score': 0.8986563086509705, 'numeric_score': 0}]}\n",
      "Processing 7332866_T.xml\n"
     ]
    },
    {
     "name": "stderr",
     "output_type": "stream",
     "text": [
      "Some weights of the model checkpoint at cardiffnlp/twitter-roberta-base-sentiment-latest were not used when initializing RobertaForSequenceClassification: ['roberta.pooler.dense.bias', 'roberta.pooler.dense.weight']\n",
      "- This IS expected if you are initializing RobertaForSequenceClassification from the checkpoint of a model trained on another task or with another architecture (e.g. initializing a BertForSequenceClassification model from a BertForPreTraining model).\n",
      "- This IS NOT expected if you are initializing RobertaForSequenceClassification from the checkpoint of a model that you expect to be exactly identical (initializing a BertForSequenceClassification model from a BertForSequenceClassification model).\n",
      "Device set to use mps:0\n",
      "2025-05-31 11:17:32,313 - INFO - Extracting Text...\n",
      "2025-05-31 11:17:32,323 - INFO - Loading Exposure Word List...\n",
      "2025-05-31 11:17:32,324 - INFO - Calculating Exposure...\n",
      "2025-05-31 11:17:32,331 - INFO - Finding Sentiment...\n"
     ]
    },
    {
     "name": "stdout",
     "output_type": "stream",
     "text": [
      "{'revenue': [{'text': 'firstly incremental EBITDA derived from revenue related synergies such as being', 'label': 'neutral', 'score': 0.7645893096923828, 'numeric_score': 0}, {'text': 'rate of around 24 to revenue In addition we will also', 'label': 'neutral', 'score': 0.735839307308197, 'numeric_score': 0}, {'text': 'mentioned earlier and indeed 50 revenue driven 50 costs And then', 'label': 'neutral', 'score': 0.8602051734924316, 'numeric_score': 0}, {'text': 'CFO 15 Yes so the revenue has been declining due to', 'label': 'negative', 'score': 0.5937446355819702, 'numeric_score': -0.5937446355819702}, {'text': 'footprint So we do see revenue synergies as we mentioned earlier', 'label': 'positive', 'score': 0.5589555501937866, 'numeric_score': 0.5589555501937866}, {'text': 'be somewhat in decline the revenue But then as of 2018', 'label': 'neutral', 'score': 0.7980443239212036, 'numeric_score': 0}, {'text': '2018 we project to have revenue growth and substantial revenue growth', 'label': 'positive', 'score': 0.8776271939277649, 'numeric_score': 0.8776271939277649}, {'text': 'have revenue growth and substantial revenue growth and also synergies kicking', 'label': 'positive', 'score': 0.6958087086677551, 'numeric_score': 0.6958087086677551}, {'text': 't have it s more revenue synergies so it s more', 'label': 'neutral', 'score': 0.6968176960945129, 'numeric_score': 0}, {'text': 'see some very strong potential revenue upside in putting the fixed', 'label': 'positive', 'score': 0.9207361340522766, 'numeric_score': 0.9207361340522766}, {'text': 'bit of upside in the revenue and that we re going', 'label': 'positive', 'score': 0.7640048265457153, 'numeric_score': 0.7640048265457153}], 'government': [{'text': 'is where most of the government activity large enterprise but also', 'label': 'neutral', 'score': 0.8636517524719238, 'numeric_score': 0}], 'conservative': [{'text': 'some B2B I think very conservative B2B revenues in the synergy', 'label': 'neutral', 'score': 0.5807398557662964, 'numeric_score': 0}, {'text': 'think we ve been very conservative in terms of what we', 'label': 'neutral', 'score': 0.8336939811706543, 'numeric_score': 0}], 'infrastructure': [{'text': 'you mentioned maybe the fixed infrastructure wasn t compatible to the', 'label': 'neutral', 'score': 0.5542488098144531, 'numeric_score': 0}], 'rights': [{'text': 'effectively to match your content rights that you currently have and', 'label': 'neutral', 'score': 0.9078063368797302, 'numeric_score': 0}], 'policy': [{'text': 'in line with our accounting policy so we already I had', 'label': 'neutral', 'score': 0.828090250492096, 'numeric_score': 0}], 'regulation': [{'text': 'just maybe quickly just on regulation You mentioned in the release', 'label': 'neutral', 'score': 0.9002524614334106, 'numeric_score': 0}], 'precedent': [{'text': 'I think there s massive precedent in Europe for and in', 'label': 'neutral', 'score': 0.7843621373176575, 'numeric_score': 0}, {'text': 'UPC comes to mind The precedent is all in our favor', 'label': 'positive', 'score': 0.7960355877876282, 'numeric_score': 0.7960355877876282}], 'authority': [{'text': 'they are complementary receiving competition authority approval Big Ziggo UPC comes', 'label': 'neutral', 'score': 0.710651159286499, 'numeric_score': 0}], 'approval': [{'text': 'are complementary receiving competition authority approval Big Ziggo UPC comes to', 'label': 'neutral', 'score': 0.9313068985939026, 'numeric_score': 0}], 'political': [{'text': 'morning and there s real political support for this transaction Because', 'label': 'neutral', 'score': 0.7923851013183594, 'numeric_score': 0}, {'text': 'we got a lot of political support behind this transaction as', 'label': 'neutral', 'score': 0.6983670592308044, 'numeric_score': 0}], 'primary': [{'text': 'Holding NV CEO 41 The primary we have a transition the', 'label': 'neutral', 'score': 0.9263662695884705, 'numeric_score': 0}], 'term': [{'text': 'the synergies in the longer term probably the best EBITDA you', 'label': 'positive', 'score': 0.8672230839729309, 'numeric_score': 0.8672230839729309}]}\n",
      "Processing 7330148_T.xml\n"
     ]
    },
    {
     "name": "stderr",
     "output_type": "stream",
     "text": [
      "Some weights of the model checkpoint at cardiffnlp/twitter-roberta-base-sentiment-latest were not used when initializing RobertaForSequenceClassification: ['roberta.pooler.dense.bias', 'roberta.pooler.dense.weight']\n",
      "- This IS expected if you are initializing RobertaForSequenceClassification from the checkpoint of a model trained on another task or with another architecture (e.g. initializing a BertForSequenceClassification model from a BertForPreTraining model).\n",
      "- This IS NOT expected if you are initializing RobertaForSequenceClassification from the checkpoint of a model that you expect to be exactly identical (initializing a BertForSequenceClassification model from a BertForSequenceClassification model).\n",
      "Device set to use mps:0\n",
      "2025-05-31 11:17:33,391 - INFO - Extracting Text...\n",
      "2025-05-31 11:17:33,424 - INFO - Loading Exposure Word List...\n",
      "2025-05-31 11:17:33,425 - INFO - Calculating Exposure...\n",
      "2025-05-31 11:17:33,444 - INFO - Finding Sentiment...\n"
     ]
    },
    {
     "name": "stdout",
     "output_type": "stream",
     "text": [
      "{'president': [{'text': 'Restoration Hardware Holdings Inc Co President Chief Financial and Administrative Officer', 'label': 'neutral', 'score': 0.8871001601219177, 'numeric_score': 0}, {'text': 'Sodikoff has joined us as President of RH Hospitality Brendan has', 'label': 'neutral', 'score': 0.909057080745697, 'numeric_score': 0}, {'text': 'chain Under leadership of Co President Chief Operating Service and Values', 'label': 'neutral', 'score': 0.8594021201133728, 'numeric_score': 0}, {'text': 'Amazon Tom Kirtz Senior Vice President Customer Experience who joins us', 'label': 'neutral', 'score': 0.7632595300674438, 'numeric_score': 0}, {'text': 'Amazon Dave Newman Senior Vice President Supply Chain Operations and Technology', 'label': 'neutral', 'score': 0.8442276120185852, 'numeric_score': 0}, {'text': 'Restoration Hardware Holdings Inc Co President Chief Financial and Administrative Officer', 'label': 'neutral', 'score': 0.8871001601219177, 'numeric_score': 0}], 'term': [{'text': 'I am sure our short term results will be misinterpreted by', 'label': 'negative', 'score': 0.6217668652534485, 'numeric_score': -0.6217668652534485}, {'text': 'expected to endure some short term pain in exchange for long', 'label': 'neutral', 'score': 0.5744422078132629, 'numeric_score': 0}, {'text': 'pain in exchange for long term gain we are nearly through', 'label': 'neutral', 'score': 0.5253856182098389, 'numeric_score': 0}, {'text': 'forward to sharing the longer term view of the opportunity with', 'label': 'positive', 'score': 0.6954749822616577, 'numeric_score': 0.6954749822616577}, {'text': 'clearly disappointed with our short term results we have demonstrated an', 'label': 'negative', 'score': 0.9035871624946594, 'numeric_score': -0.9035871624946594}, {'text': 'the right ones driving long term sustainable growth and shareholder value', 'label': 'positive', 'score': 0.7701625823974609, 'numeric_score': 0.7701625823974609}, {'text': 'and our platform for long term sustainable growth We see a', 'label': 'positive', 'score': 0.8557583689689636, 'numeric_score': 0.8557583689689636}, {'text': 'to be in the long term Second we are taking a', 'label': 'neutral', 'score': 0.8529895544052124, 'numeric_score': 0}, {'text': '2016 and for the long term which include our supply chain', 'label': 'neutral', 'score': 0.8073426485061646, 'numeric_score': 0}, {'text': 'our business for the long term and for higher growth and', 'label': 'positive', 'score': 0.7884297370910645, 'numeric_score': 0.7884297370910645}, {'text': 'While we have experienced short term margin pressure associated with the', 'label': 'neutral', 'score': 0.6394798159599304, 'numeric_score': 0}, {'text': 'our brand in the long term As we enter 2017 and', 'label': 'neutral', 'score': 0.8446170091629028, 'numeric_score': 0}, {'text': 'our business in the short term our long term growth strategies', 'label': 'positive', 'score': 0.5238626599311829, 'numeric_score': 0.5238626599311829}, {'text': 'the short term our long term growth strategies remain firmly intact', 'label': 'positive', 'score': 0.7800126075744629, 'numeric_score': 0.7800126075744629}, {'text': 'our shareholders over the long term We wish you our team', 'label': 'positive', 'score': 0.5871421694755554, 'numeric_score': 0.5871421694755554}], 'platform': [{'text': 'expansion of our brand and platform Our plan is to aggressively', 'label': 'positive', 'score': 0.7585250735282898, 'numeric_score': 0.7585250735282898}, {'text': 'position our brand and our platform for long term sustainable growth', 'label': 'positive', 'score': 0.7889404892921448, 'numeric_score': 0.7889404892921448}], 'infrastructure': [{'text': 'experience and optimize our operational infrastructure DeMonty has added several new', 'label': 'positive', 'score': 0.5845372080802917, 'numeric_score': 0.5845372080802917}], 'majority': [{'text': 'sourcebooks in September the vast majority of the circulation is just', 'label': 'neutral', 'score': 0.6448397636413574, 'numeric_score': 0}], 'election': [{'text': 'we attribute to the presidential election and lower holiday sales than', 'label': 'neutral', 'score': 0.6025601625442505, 'numeric_score': 0}], 'revenue': [{'text': 'holiday sales than expected total revenue is expected to be in', 'label': 'neutral', 'score': 0.8304224014282227, 'numeric_score': 0}, {'text': 'are lowering our fiscal 2016 revenue growth outlook to flat to', 'label': 'neutral', 'score': 0.7504538893699646, 'numeric_score': 0}, {'text': 'impact related to deferred membership revenue which will not be recognized', 'label': 'negative', 'score': 0.5071197152137756, 'numeric_score': -0.5071197152137756}, {'text': 'drove higher than expected net revenue growth during the period In', 'label': 'neutral', 'score': 0.5857319235801697, 'numeric_score': 0}, {'text': 'the third quarter Comparable brand revenue declined 6 during the quarter', 'label': 'neutral', 'score': 0.5467647314071655, 'numeric_score': 0}, {'text': 'from both the deferred membership revenue and the renewal of current', 'label': 'neutral', 'score': 0.8746067881584167, 'numeric_score': 0}]}\n",
      "Processing 7325240_T.xml\n"
     ]
    },
    {
     "name": "stderr",
     "output_type": "stream",
     "text": [
      "Some weights of the model checkpoint at cardiffnlp/twitter-roberta-base-sentiment-latest were not used when initializing RobertaForSequenceClassification: ['roberta.pooler.dense.bias', 'roberta.pooler.dense.weight']\n",
      "- This IS expected if you are initializing RobertaForSequenceClassification from the checkpoint of a model trained on another task or with another architecture (e.g. initializing a BertForSequenceClassification model from a BertForPreTraining model).\n",
      "- This IS NOT expected if you are initializing RobertaForSequenceClassification from the checkpoint of a model that you expect to be exactly identical (initializing a BertForSequenceClassification model from a BertForSequenceClassification model).\n",
      "Device set to use mps:0\n",
      "2025-05-31 11:17:34,125 - INFO - Extracting Text...\n",
      "2025-05-31 11:17:34,148 - INFO - Loading Exposure Word List...\n",
      "2025-05-31 11:17:34,148 - INFO - Calculating Exposure...\n",
      "2025-05-31 11:17:34,158 - INFO - Finding Sentiment...\n"
     ]
    },
    {
     "name": "stdout",
     "output_type": "stream",
     "text": [
      "{'approval': [{'text': 'you all know by the approval of ivacaftor this is a', 'label': 'neutral', 'score': 0.79219651222229, 'numeric_score': 0}], 'moderate': [{'text': 'adverse events were mild to moderate and the most common adverse', 'label': 'neutral', 'score': 0.7804037928581238, 'numeric_score': 0}], 'power': [{'text': 'not performing at the full power Piet Wigerinck Galapagos NV Chief', 'label': 'neutral', 'score': 0.6594296097755432, 'numeric_score': 0}]}\n",
      "Processing 7328416_T.xml\n"
     ]
    },
    {
     "name": "stderr",
     "output_type": "stream",
     "text": [
      "Some weights of the model checkpoint at cardiffnlp/twitter-roberta-base-sentiment-latest were not used when initializing RobertaForSequenceClassification: ['roberta.pooler.dense.bias', 'roberta.pooler.dense.weight']\n",
      "- This IS expected if you are initializing RobertaForSequenceClassification from the checkpoint of a model trained on another task or with another architecture (e.g. initializing a BertForSequenceClassification model from a BertForPreTraining model).\n",
      "- This IS NOT expected if you are initializing RobertaForSequenceClassification from the checkpoint of a model that you expect to be exactly identical (initializing a BertForSequenceClassification model from a BertForSequenceClassification model).\n",
      "Device set to use mps:0\n",
      "2025-05-31 11:17:35,167 - INFO - Extracting Text...\n",
      "2025-05-31 11:17:35,199 - INFO - Loading Exposure Word List...\n",
      "2025-05-31 11:17:35,200 - INFO - Calculating Exposure...\n",
      "2025-05-31 11:17:35,218 - INFO - Finding Sentiment...\n"
     ]
    },
    {
     "name": "stdout",
     "output_type": "stream",
     "text": [
      "{'executive': [{'text': 'Ton Logtenberg Merus s Chief Executive Officer Hui Liu Chief Business', 'label': 'neutral', 'score': 0.9325926899909973, 'numeric_score': 0}, {'text': 'over to Merus s Chief Executive Officer Dr Ton Logtenberg Ton', 'label': 'neutral', 'score': 0.9196780323982239, 'numeric_score': 0}], 'platform': [{'text': 'Merus s proprietary Biclonics technology platform Biclonics are capable of binding', 'label': 'neutral', 'score': 0.6672407984733582, 'numeric_score': 0}, {'text': 'Merus to enter into a platform collaboration as it further exploits', 'label': 'neutral', 'score': 0.7587563395500183, 'numeric_score': 0}, {'text': 'the potential of our Biclonics platform Today we have succeeded in', 'label': 'positive', 'score': 0.96677166223526, 'numeric_score': 0.96677166223526}, {'text': 'the rights to its technology platform as well as its clinical', 'label': 'neutral', 'score': 0.8895401358604431, 'numeric_score': 0}, {'text': 'future programs emerging from Merus platform that are outside the scope', 'label': 'neutral', 'score': 0.8117901086807251, 'numeric_score': 0}, {'text': 'the advantages of the bispecific platform that we have And we', 'label': 'positive', 'score': 0.8473504185676575, 'numeric_score': 0.8473504185676575}, {'text': 'stated this is entirely preclinical platform based and we re not', 'label': 'neutral', 'score': 0.7902840375900269, 'numeric_score': 0}, {'text': 'makes this a very clean platform based collaboration agreement With regard', 'label': 'positive', 'score': 0.8733526468276978, 'numeric_score': 0.8733526468276978}, {'text': 'bispecific antibodies and using our platform Tony Butler Guggenheim Partners Analyst', 'label': 'neutral', 'score': 0.886417806148529, 'numeric_score': 0}, {'text': 'full rights to its technology platform and gives rights where needed', 'label': 'neutral', 'score': 0.7086066007614136, 'numeric_score': 0}], 'funding': [{'text': 'Furthermore this agreement provides substantial funding to the Company both in', 'label': 'positive', 'score': 0.7792854905128479, 'numeric_score': 0.7792854905128479}, {'text': 'the clinic with the additional funding Thanks John Crowley Merus N', 'label': 'positive', 'score': 0.5189943313598633, 'numeric_score': 0.5189943313598633}], 'term': [{'text': 'milestones or royalties over the term of the agreement which John', 'label': 'neutral', 'score': 0.9104449152946472, 'numeric_score': 0}, {'text': 'diseases This is a long term collaboration that provides Incyte with', 'label': 'neutral', 'score': 0.5112762451171875, 'numeric_score': 0}, {'text': 'this is clearly a long term collaboration encompassing the discovery and', 'label': 'positive', 'score': 0.565173327922821, 'numeric_score': 0.565173327922821}], 'rights': [{'text': 'that provides Incyte with the rights to up to 11 programs', 'label': 'neutral', 'score': 0.8652746677398682, 'numeric_score': 0}, {'text': 'retain US development and commercial rights to one program In addition', 'label': 'neutral', 'score': 0.9192751049995422, 'numeric_score': 0}, {'text': 'programs Merus will retain the rights to its technology platform as', 'label': 'neutral', 'score': 0.8964369893074036, 'numeric_score': 0}, {'text': 'one where you retain US rights and where you have the', 'label': 'neutral', 'score': 0.8094505667686462, 'numeric_score': 0}, {'text': 'the profit share or US rights There was one program where', 'label': 'neutral', 'score': 0.8874257802963257, 'numeric_score': 0}, {'text': 'program where we have US rights where we share the development', 'label': 'neutral', 'score': 0.8634685277938843, 'numeric_score': 0}, {'text': 'does Incyte have any first rights of refusal or anything like', 'label': 'neutral', 'score': 0.9364530444145203, 'numeric_score': 0}, {'text': 'antibodies Who has the manufacturing rights or where would the antibodies', 'label': 'neutral', 'score': 0.8782936334609985, 'numeric_score': 0}, {'text': 'ex US development and commercialization rights In the agreement Merus will', 'label': 'neutral', 'score': 0.820063054561615, 'numeric_score': 0}, {'text': 'course Merus retains the full rights to its technology platform and', 'label': 'neutral', 'score': 0.8123577833175659, 'numeric_score': 0}, {'text': 'its technology platform and gives rights where needed for product development', 'label': 'positive', 'score': 0.7032116055488586, 'numeric_score': 0.7032116055488586}, {'text': 'the collaboration provides for product rights assigned to Merus That s', 'label': 'neutral', 'score': 0.9128972291946411, 'numeric_score': 0}], 'candidate': [{'text': 'MCLA 117 the pre clinical candidate MCLA 158 and any future', 'label': 'neutral', 'score': 0.9103976488113403, 'numeric_score': 0}], 'act': [{'text': 'under the Hart Scott Rodino Act and customary closing conditions This', 'label': 'neutral', 'score': 0.9450977444648743, 'numeric_score': 0}], 'freedom': [{'text': 'yes we have absolutely full freedom to interact with other partners', 'label': 'positive', 'score': 0.6997683048248291, 'numeric_score': 0.6997683048248291}]}\n",
      "Processing 7308156_T.xml\n"
     ]
    },
    {
     "name": "stderr",
     "output_type": "stream",
     "text": [
      "Some weights of the model checkpoint at cardiffnlp/twitter-roberta-base-sentiment-latest were not used when initializing RobertaForSequenceClassification: ['roberta.pooler.dense.bias', 'roberta.pooler.dense.weight']\n",
      "- This IS expected if you are initializing RobertaForSequenceClassification from the checkpoint of a model trained on another task or with another architecture (e.g. initializing a BertForSequenceClassification model from a BertForPreTraining model).\n",
      "- This IS NOT expected if you are initializing RobertaForSequenceClassification from the checkpoint of a model that you expect to be exactly identical (initializing a BertForSequenceClassification model from a BertForSequenceClassification model).\n",
      "Device set to use mps:0\n",
      "2025-05-31 11:17:36,496 - INFO - Extracting Text...\n",
      "2025-05-31 11:17:36,517 - INFO - Loading Exposure Word List...\n",
      "2025-05-31 11:17:36,518 - INFO - Calculating Exposure...\n",
      "2025-05-31 11:17:36,528 - INFO - Finding Sentiment...\n"
     ]
    },
    {
     "name": "stdout",
     "output_type": "stream",
     "text": [
      "{'justice': [{'text': 'to Discuss the Department of Justice Approval of the Carmike Cinemas', 'label': 'neutral', 'score': 0.9498375654220581, 'numeric_score': 0}, {'text': 'this morning the Department of Justice completed its review of our', 'label': 'neutral', 'score': 0.9411102533340454, 'numeric_score': 0}, {'text': 'AMC and the Department of Justice have in fact reach a', 'label': 'neutral', 'score': 0.8479626774787903, 'numeric_score': 0}, {'text': 'agreement with the Department of Justice we were quite pleased to', 'label': 'positive', 'score': 0.9437173008918762, 'numeric_score': 0.9437173008918762}, {'text': 'primary components both reflecting the Justice Department s desire to preserve', 'label': 'neutral', 'score': 0.8568225502967834, 'numeric_score': 0}, {'text': 'executives at the Department of Justice for their diligence and thoughtfulness', 'label': 'positive', 'score': 0.7073444128036499, 'numeric_score': 0.7073444128036499}, {'text': 'whole process the Department of Justice has been very interested in', 'label': 'positive', 'score': 0.5413458943367004, 'numeric_score': 0.5413458943367004}, {'text': 'done much longer than the Justice Department often gives us or', 'label': 'neutral', 'score': 0.8331912755966187, 'numeric_score': 0}, {'text': 'spend eight months with the Justice Department of the United States', 'label': 'neutral', 'score': 0.8935164213180542, 'numeric_score': 0}, {'text': 'Screenvision and the Department of Justice So I think at the', 'label': 'neutral', 'score': 0.9498894810676575, 'numeric_score': 0}], 'approval': [{'text': 'Discuss the Department of Justice Approval of the Carmike Cinemas Inc', 'label': 'neutral', 'score': 0.9350174069404602, 'numeric_score': 0}, {'text': 'welcome to the AMC DOJ approval conference call Operator Instructions As', 'label': 'neutral', 'score': 0.766071617603302, 'numeric_score': 0}, {'text': 'to discuss the DOJ s approval of AMC s acquisition of', 'label': 'neutral', 'score': 0.9365361928939819, 'numeric_score': 0}, {'text': 'of the transaction The DOJ approval today was the last remaining', 'label': 'neutral', 'score': 0.8976300954818726, 'numeric_score': 0}, {'text': 'As part of the DOJ approval process and as expected AMC', 'label': 'neutral', 'score': 0.8889527320861816, 'numeric_score': 0}, {'text': 'our opinion the DOJ s approval supports that belief As we', 'label': 'neutral', 'score': 0.872273862361908, 'numeric_score': 0}, {'text': 've received the final regulatory approval needed to complete the acquisition', 'label': 'neutral', 'score': 0.7916542887687683, 'numeric_score': 0}], 'president': [{'text': 'Aron AMC Entertainment Holdings Inc President amp CEO Craig Ramsey AMC', 'label': 'neutral', 'score': 0.9139561653137207, 'numeric_score': 0}, {'text': 'your host John Merriwether Vice President Investor Relations Thank you Mr', 'label': 'positive', 'score': 0.7913219928741455, 'numeric_score': 0.7913219928741455}, {'text': 'are Adam Aron CEO and President and Craig Ramsay Chief Financial', 'label': 'neutral', 'score': 0.9575555324554443, 'numeric_score': 0}, {'text': 'Aron AMC Entertainment Holdings Inc President amp CEO 3 Thank you', 'label': 'positive', 'score': 0.6760389804840088, 'numeric_score': 0.6760389804840088}, {'text': 'Aron AMC Entertainment Holdings Inc President amp CEO 3 Eric I', 'label': 'neutral', 'score': 0.9108845591545105, 'numeric_score': 0}, {'text': 'Aron AMC Entertainment Holdings Inc President amp CEO 9 And Ben', 'label': 'neutral', 'score': 0.8936073184013367, 'numeric_score': 0}, {'text': 'Aron AMC Entertainment Holdings Inc President amp CEO 11 Why don', 'label': 'neutral', 'score': 0.9193515777587891, 'numeric_score': 0}, {'text': 'Aron AMC Entertainment Holdings Inc President amp CEO 15 Thank you', 'label': 'positive', 'score': 0.650664746761322, 'numeric_score': 0.650664746761322}, {'text': 'Aron AMC Entertainment Holdings Inc President amp CEO 19 Specifically we', 'label': 'neutral', 'score': 0.9285624623298645, 'numeric_score': 0}, {'text': 'Aron AMC Entertainment Holdings Inc President amp CEO 23 2037 Craig', 'label': 'neutral', 'score': 0.9060959219932556, 'numeric_score': 0}, {'text': 'Aron AMC Entertainment Holdings Inc President amp CEO 25 Yes I', 'label': 'neutral', 'score': 0.7159252762794495, 'numeric_score': 0}, {'text': 'Aron AMC Entertainment Holdings Inc President amp CEO 27 You know', 'label': 'neutral', 'score': 0.8706362247467041, 'numeric_score': 0}, {'text': 'Aron AMC Entertainment Holdings Inc President amp CEO 29 Remember that', 'label': 'neutral', 'score': 0.8345086574554443, 'numeric_score': 0}, {'text': 'Aron AMC Entertainment Holdings Inc President amp CEO 33 The only', 'label': 'neutral', 'score': 0.746708333492279, 'numeric_score': 0}, {'text': 'Aron AMC Entertainment Holdings Inc President amp CEO 37 I think', 'label': 'neutral', 'score': 0.9063287973403931, 'numeric_score': 0}, {'text': 'Aron AMC Entertainment Holdings Inc President amp CEO 39 The contract', 'label': 'neutral', 'score': 0.9261854290962219, 'numeric_score': 0}, {'text': 'Aron AMC Entertainment Holdings Inc President amp CEO 41 I love', 'label': 'positive', 'score': 0.9320973753929138, 'numeric_score': 0.9320973753929138}, {'text': 'Aron AMC Entertainment Holdings Inc President amp CEO 47 I did', 'label': 'neutral', 'score': 0.8561617732048035, 'numeric_score': 0}, {'text': 'Aron AMC Entertainment Holdings Inc President amp CEO 50 Thank you', 'label': 'positive', 'score': 0.7416200637817383, 'numeric_score': 0.7416200637817383}], 'act': [{'text': 'Section 27A of the Securities Act of 1933 as amended and', 'label': 'neutral', 'score': 0.8856155276298523, 'numeric_score': 0}, {'text': '21E of the Securities Exchange Act of 1934 as amended Statements', 'label': 'neutral', 'score': 0.896687924861908, 'numeric_score': 0}], 'primary': [{'text': 'move forward There are two primary areas of focus theater divestitures', 'label': 'neutral', 'score': 0.8982290029525757, 'numeric_score': 0}, {'text': 'DOJ settlement There are two primary components both reflecting the Justice', 'label': 'neutral', 'score': 0.9072403311729431, 'numeric_score': 0}], 'term': [{'text': 'greatly appreciate our solid long term working relationship with NCM which', 'label': 'positive', 'score': 0.975392758846283, 'numeric_score': 0.975392758846283}, {'text': 'do not expect the near term tax implications to be significant', 'label': 'negative', 'score': 0.4917612373828888, 'numeric_score': -0.4917612373828888}, {'text': 'Board protection given our long term multi decade contractual relationship which', 'label': 'neutral', 'score': 0.7232615947723389, 'numeric_score': 0}], 'rights': [{'text': 'be waiving founding member governance rights but this is of not', 'label': 'neutral', 'score': 0.6406046748161316, 'numeric_score': 0}], 'government': [{'text': 'National CineMedia or did the government specifically want you to reduce', 'label': 'neutral', 'score': 0.8628884553909302, 'numeric_score': 0}], 'majority': [{'text': 'it but the vast vast majority if not all the Carmike', 'label': 'neutral', 'score': 0.7831361293792725, 'numeric_score': 0}], 'election': [{'text': 'the question was about the election of cash or shares There', 'label': 'neutral', 'score': 0.9051874279975891, 'numeric_score': 0}, {'text': 'Carmike attendance That is our election and if we would like', 'label': 'neutral', 'score': 0.8310340642929077, 'numeric_score': 0}, {'text': 'prior mergers Then the second election is on the part of', 'label': 'neutral', 'score': 0.9190434813499451, 'numeric_score': 0}, {'text': 'may get because of the election for the Carmike transaction If', 'label': 'neutral', 'score': 0.9122488498687744, 'numeric_score': 0}, {'text': 'about and back to this election whether we elect to take', 'label': 'neutral', 'score': 0.8927290439605713, 'numeric_score': 0}, {'text': 'was the 14th was an election deadline for Carmike shareholders to', 'label': 'neutral', 'score': 0.9399212002754211, 'numeric_score': 0}], 'trade': [{'text': 'opinion that our shares will trade better and their shares will', 'label': 'positive', 'score': 0.6090754270553589, 'numeric_score': 0.6090754270553589}, {'text': 'better and their shares will trade better when institutional investors know', 'label': 'positive', 'score': 0.6677499413490295, 'numeric_score': 0.6677499413490295}], 'diplomacy': [{'text': 'be had but I think diplomacy requires that my comments and', 'label': 'neutral', 'score': 0.8369365930557251, 'numeric_score': 0}], 'decree': [{'text': 'the subject of a consent decree of December 2015 that we', 'label': 'neutral', 'score': 0.9379919171333313, 'numeric_score': 0}], 'precedent': [{'text': 'I think there s a precedent in the agreement for make', 'label': 'neutral', 'score': 0.8593996167182922, 'numeric_score': 0}], 'platform': [{'text': 'and financial resources to each platform Adam Aron AMC Entertainment Holdings', 'label': 'neutral', 'score': 0.8559616208076477, 'numeric_score': 0}]}\n",
      "Processing 7325242_T.xml\n"
     ]
    },
    {
     "name": "stderr",
     "output_type": "stream",
     "text": [
      "Some weights of the model checkpoint at cardiffnlp/twitter-roberta-base-sentiment-latest were not used when initializing RobertaForSequenceClassification: ['roberta.pooler.dense.bias', 'roberta.pooler.dense.weight']\n",
      "- This IS expected if you are initializing RobertaForSequenceClassification from the checkpoint of a model trained on another task or with another architecture (e.g. initializing a BertForSequenceClassification model from a BertForPreTraining model).\n",
      "- This IS NOT expected if you are initializing RobertaForSequenceClassification from the checkpoint of a model that you expect to be exactly identical (initializing a BertForSequenceClassification model from a BertForSequenceClassification model).\n",
      "Device set to use mps:0\n",
      "2025-05-31 11:17:37,330 - INFO - Extracting Text...\n",
      "2025-05-31 11:17:37,368 - INFO - Loading Exposure Word List...\n",
      "2025-05-31 11:17:37,369 - INFO - Calculating Exposure...\n",
      "2025-05-31 11:17:37,386 - INFO - Finding Sentiment...\n"
     ]
    },
    {
     "name": "stdout",
     "output_type": "stream",
     "text": [
      "{'security': [{'text': 'Holding AG To Acquire Mechanical Security Businesses From Stanley Black Decker', 'label': 'neutral', 'score': 0.9428878426551819, 'numeric_score': 0}, {'text': 'majority of the Stanley Mechanical Security businesses we re talking about', 'label': 'neutral', 'score': 0.8896328806877136, 'numeric_score': 0}, {'text': 'a strategic evaluation of this security mechanical business They experienced I', 'label': 'neutral', 'score': 0.8814214468002319, 'numeric_score': 0}, {'text': 'they retain their commercial electronics security business as well their automatic', 'label': 'neutral', 'score': 0.8724419474601746, 'numeric_score': 0}], 'majority': [{'text': 'are going to acquire the majority of the Stanley Mechanical Security', 'label': 'neutral', 'score': 0.9003411531448364, 'numeric_score': 0}, {'text': 'this transaction is to a majority extent an asset transaction and', 'label': 'neutral', 'score': 0.8910245895385742, 'numeric_score': 0}, {'text': 'over four years with the majority to apply in year one', 'label': 'neutral', 'score': 0.8547419905662537, 'numeric_score': 0}, {'text': 'the first two years the majority of the implementation costs But', 'label': 'neutral', 'score': 0.7161698937416077, 'numeric_score': 0}], 'revenue': [{'text': 'and we take into consideration revenue and cost synergies which we', 'label': 'neutral', 'score': 0.845660924911499, 'numeric_score': 0}, {'text': 'be neutral from closing on revenue growth and EBITDA margin but', 'label': 'neutral', 'score': 0.803360641002655, 'numeric_score': 0}, {'text': 'on the one hand side revenue synergies because this opportunity gives', 'label': 'positive', 'score': 0.8402417302131653, 'numeric_score': 0.8402417302131653}, {'text': 'how we want to generate revenue synergies In addition we are', 'label': 'neutral', 'score': 0.651251494884491, 'numeric_score': 0}, {'text': 'to identify the split of revenue and cost synergies those two', 'label': 'neutral', 'score': 0.901488184928894, 'numeric_score': 0}, {'text': 'basically represented by cost and revenue synergies Within cost and revenue', 'label': 'neutral', 'score': 0.8982744812965393, 'numeric_score': 0}, {'text': 'revenue synergies Within cost and revenue synergies the cost synergies basically', 'label': 'neutral', 'score': 0.8259254693984985, 'numeric_score': 0}, {'text': 'from year 1 on while revenue and cost synergies will be', 'label': 'neutral', 'score': 0.7524606585502625, 'numeric_score': 0}, {'text': 'cost synergies as well as revenue synergies and tax benefits You', 'label': 'neutral', 'score': 0.7531911730766296, 'numeric_score': 0}, {'text': 'is also with cost and revenue synergies Within that area we', 'label': 'neutral', 'score': 0.8331719040870667, 'numeric_score': 0}, {'text': 'third to come from the revenue side driven by what has', 'label': 'neutral', 'score': 0.8846005797386169, 'numeric_score': 0}], 'economy': [{'text': 'North America is the biggest economy in the world and North', 'label': 'positive', 'score': 0.6640564203262329, 'numeric_score': 0.6640564203262329}], 'power': [{'text': 'is founded on global brand power and sustainability How does our', 'label': 'neutral', 'score': 0.792167067527771, 'numeric_score': 0}], 'rights': [{'text': 'in fact get attractive IP rights and R amp D development', 'label': 'positive', 'score': 0.6616496443748474, 'numeric_score': 0.6616496443748474}], 'minority': [{'text': 'to the North American market Minority goes into commercial hardware of', 'label': 'neutral', 'score': 0.8760244846343994, 'numeric_score': 0}], 'government': [{'text': 'hotels or multi housing or government With this deal we are', 'label': 'neutral', 'score': 0.764523446559906, 'numeric_score': 0}]}\n",
      "Processing 7307299_T.xml\n"
     ]
    },
    {
     "name": "stderr",
     "output_type": "stream",
     "text": [
      "Some weights of the model checkpoint at cardiffnlp/twitter-roberta-base-sentiment-latest were not used when initializing RobertaForSequenceClassification: ['roberta.pooler.dense.bias', 'roberta.pooler.dense.weight']\n",
      "- This IS expected if you are initializing RobertaForSequenceClassification from the checkpoint of a model trained on another task or with another architecture (e.g. initializing a BertForSequenceClassification model from a BertForPreTraining model).\n",
      "- This IS NOT expected if you are initializing RobertaForSequenceClassification from the checkpoint of a model that you expect to be exactly identical (initializing a BertForSequenceClassification model from a BertForSequenceClassification model).\n",
      "Device set to use mps:0\n"
     ]
    },
    {
     "name": "stdout",
     "output_type": "stream",
     "text": [
      "{'executive': [{'text': 'Banking Group plc Group Chief Executive George Culmer Lloyds Banking Group', 'label': 'neutral', 'score': 0.9268960952758789, 'numeric_score': 0}, {'text': 'Banking Group plc Group Chief Executive 2 Good morning everybody and', 'label': 'positive', 'score': 0.7963594198226929, 'numeric_score': 0.7963594198226929}, {'text': 'Banking Group plc Group Chief Executive 25 No risk to Lloyds', 'label': 'neutral', 'score': 0.7284876108169556, 'numeric_score': 0}, {'text': 'Banking Group plc Group Chief Executive 27 And we will keep', 'label': 'neutral', 'score': 0.7722547054290771, 'numeric_score': 0}, {'text': 'Banking Group plc Group Chief Executive 31 Right Look I ll', 'label': 'neutral', 'score': 0.9148005843162537, 'numeric_score': 0}, {'text': 'Banking Group plc Group Chief Executive 33 It is included in', 'label': 'neutral', 'score': 0.9157435894012451, 'numeric_score': 0}, {'text': 'Banking Group plc Group Chief Executive 36 That s correct yes', 'label': 'positive', 'score': 0.5063280463218689, 'numeric_score': 0.5063280463218689}, {'text': 'Banking Group plc Group Chief Executive 40 Right Tom I ll', 'label': 'neutral', 'score': 0.9284691214561462, 'numeric_score': 0}, {'text': 'Banking Group plc Group Chief Executive 43 On the interest rate', 'label': 'neutral', 'score': 0.9005601406097412, 'numeric_score': 0}, {'text': 'Banking Group plc Group Chief Executive 45 I understand And George', 'label': 'neutral', 'score': 0.809354305267334, 'numeric_score': 0}, {'text': 'Banking Group plc Group Chief Executive 62 I think on your', 'label': 'neutral', 'score': 0.9187887907028198, 'numeric_score': 0}, {'text': 'Banking Group plc Group Chief Executive 65 A small number and', 'label': 'neutral', 'score': 0.9115476012229919, 'numeric_score': 0}, {'text': 'Banking Group plc Group Chief Executive 71 That s correct Peter', 'label': 'neutral', 'score': 0.7130368947982788, 'numeric_score': 0}, {'text': 'Banking Group plc Group Chief Executive 74 And we also like', 'label': 'positive', 'score': 0.7085179090499878, 'numeric_score': 0.7085179090499878}, {'text': 'Banking Group plc Group Chief Executive 78 Yes It s Antonio', 'label': 'neutral', 'score': 0.7822545170783997, 'numeric_score': 0}, {'text': 'Banking Group plc Group Chief Executive 80 Sorry we lost you', 'label': 'negative', 'score': 0.6483336687088013, 'numeric_score': -0.6483336687088013}], 'term': [{'text': 'our confidence in the long term economic prospects for the UK', 'label': 'positive', 'score': 0.5708454251289368, 'numeric_score': 0.5708454251289368}, {'text': 'sustainable earnings over the medium term In line with our policy', 'label': 'positive', 'score': 0.5521050691604614, 'numeric_score': 0.5521050691604614}, {'text': 'In terms of the short term in dividends nothing has changed', 'label': 'neutral', 'score': 0.7236472964286804, 'numeric_score': 0}, {'text': 'not be affected by short term movements from interest rates We', 'label': 'neutral', 'score': 0.8474332690238953, 'numeric_score': 0}], 'unemployment': [{'text': '2016 PRA stress scenario with unemployment peaking at 9 5 the', 'label': 'neutral', 'score': 0.5876007080078125, 'numeric_score': 0}, {'text': 'looked stressing up to an unemployment rate of 9 5 I', 'label': 'neutral', 'score': 0.5440353751182556, 'numeric_score': 0}, {'text': 'think it was down 10 unemployment and the thing remained profitable', 'label': 'neutral', 'score': 0.6664665341377258, 'numeric_score': 0}], 'revenue': [{'text': 'also be the potential for revenue synergies although these are not', 'label': 'neutral', 'score': 0.7015222907066345, 'numeric_score': 0}, {'text': 'revenues this year which suggests revenue headwinds However the part on', 'label': 'neutral', 'score': 0.7606809139251709, 'numeric_score': 0}, {'text': 'wondering whether that GBP650 million revenue is a net of loan', 'label': 'neutral', 'score': 0.8411508202552795, 'numeric_score': 0}], 'infrastructure': [{'text': 'through the consolidation of IT infrastructure marketing property consolidation and operational', 'label': 'neutral', 'score': 0.9073638916015625, 'numeric_score': 0}], 'policy': [{'text': 'And the Group s dividend policy remains unchanged and we re', 'label': 'neutral', 'score': 0.9254251718521118, 'numeric_score': 0}, {'text': 'term In line with our policy the Group s approach to', 'label': 'neutral', 'score': 0.8613272905349731, 'numeric_score': 0}, {'text': 'nothing has changed from our policy in terms of our confidence', 'label': 'neutral', 'score': 0.6828259229660034, 'numeric_score': 0}, {'text': 'in line with our normal policy the Board meets at the', 'label': 'neutral', 'score': 0.9245137572288513, 'numeric_score': 0}], 'funding': [{'text': 'I may Are there any funding synergies here I believe that', 'label': 'neutral', 'score': 0.6353952884674072, 'numeric_score': 0}, {'text': 'absolutely right our cost of funding is quite low lower than', 'label': 'neutral', 'score': 0.6383844017982483, 'numeric_score': 0}, {'text': 'going to use it in funding this business and therefore that', 'label': 'neutral', 'score': 0.8677582740783691, 'numeric_score': 0}, {'text': 'business this still is matched funding in terms of funding and', 'label': 'neutral', 'score': 0.8104097247123718, 'numeric_score': 0}, {'text': 'matched funding in terms of funding and therefore it will not', 'label': 'neutral', 'score': 0.57974773645401, 'numeric_score': 0}, {'text': 'in in terms of matched funding Tom Rayner Exane BNP Paribas', 'label': 'neutral', 'score': 0.9217095971107483, 'numeric_score': 0}], 'approval': [{'text': 'the deal is the competition approval but I think we are', 'label': 'neutral', 'score': 0.8033350110054016, 'numeric_score': 0}, {'text': 'are confident of receiving that approval In terms of capital then', 'label': 'neutral', 'score': 0.8458165526390076, 'numeric_score': 0}, {'text': 'going to get the competition approval for this But just wondered', 'label': 'neutral', 'score': 0.8738084435462952, 'numeric_score': 0}]}\n",
      "Saved results for 13 files to save_directory\n"
     ]
    }
   ],
   "source": [
    "model5v1_f(data_dir, csv_path, \"test.json\")"
   ]
  }
 ],
 "metadata": {
  "kernelspec": {
   "display_name": "research",
   "language": "python",
   "name": "python3"
  },
  "language_info": {
   "codemirror_mode": {
    "name": "ipython",
    "version": 3
   },
   "file_extension": ".py",
   "mimetype": "text/x-python",
   "name": "python",
   "nbconvert_exporter": "python",
   "pygments_lexer": "ipython3",
   "version": "3.10.16"
  }
 },
 "nbformat": 4,
 "nbformat_minor": 2
}
