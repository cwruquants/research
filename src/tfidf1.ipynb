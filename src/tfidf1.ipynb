{
 "cells": [
  {
   "cell_type": "code",
   "execution_count": null,
   "id": "54fc593d",
   "metadata": {},
   "outputs": [
    {
     "name": "stdout",
     "output_type": "stream",
     "text": [
      "ex1.xml's  CCEExposure^TFIDF = 0.000462\n"
     ]
    },
    {
     "name": "stderr",
     "output_type": "stream",
     "text": [
      "/Library/Frameworks/Python.framework/Versions/3.12/lib/python3.12/site-packages/sklearn/feature_extraction/text.py:1368: UserWarning: Upper case characters found in vocabulary while 'lowercase' is True. These entries will not be matched with any documents\n",
      "  warnings.warn(\n"
     ]
    }
   ],
   "source": [
    "import xml.etree.ElementTree as ET\n",
    "import re\n",
    "from itertools import islice\n",
    "from sklearn.feature_extraction.text import TfidfVectorizer\n",
    "import numpy as np\n",
    "import math\n",
    "\n",
    "\n",
    "def extract_text_from_xml(path):\n",
    "    tree = ET.parse(path)\n",
    "    root = tree.getroot()\n",
    "    texts = []\n",
    "   \n",
    "    for elem in root.iter():\n",
    "        if elem.text:\n",
    "            texts.append(elem.text.strip())\n",
    "    return \" \".join(texts)\n",
    "\n",
    "raw = extract_text_from_xml(\n",
    "\"/Users/diliyayalikun/Downloads/New v copy/src/data/earnings_calls/ex1.xml\")\n",
    "\n",
    "tokens = re.findall(r\"\\w+\", raw.lower())\n",
    "bigrams = [\" \".join(tokens[i:i+2]) for i in range(len(tokens)-1)]\n",
    "\n",
    "\n",
    "transcripts_bigrams = [bigrams]  \n",
    "\n",
    "political_set = {\n",
    "    \"climate change\",\n",
    "    \"global warming\",\n",
    "    \"carbon tax\",\n",
    "    \"Tariff raise\",\n",
    "    \"Trunmp policy\",\n",
    "    \"Stock price\",\n",
    "    \"fossil fuels\",\n",
    "    \"inflation rate\",\n",
    "    \"trade war\",\n",
    "    \"supply chain\",\n",
    "    \"climate policy\",\n",
    "    \"energy deal\",\n",
    "    \"fleet growth\",\n",
    "    \"capital markets\",\n",
    "    \"used vehicle\",\n",
    "    \"operating revenue\",\"\",\"\",\"\",\n",
    "   \n",
    "}\n",
    "\n",
    "\n",
    "def identity_analyzer(doc):\n",
    "    return doc\n",
    "\n",
    "vectorizer = TfidfVectorizer(\n",
    "    analyzer=identity_analyzer,\n",
    "    vocabulary=list(political_set),\n",
    "    use_idf=True,\n",
    "    smooth_idf=True,\n",
    "    binary=True,\n",
    "    norm=None     \n",
    ")\n",
    "\n",
    "tfidf_mat = vectorizer.fit_transform(transcripts_bigrams)  \n",
    "\n",
    "\n",
    "sum_idf = tfidf_mat.sum(axis=1).A.ravel()  \n",
    "B = float(len(bigrams))                    \n",
    "\n",
    "if B > 0:\n",
    "    exposure_tfidf = sum_idf[0] / B\n",
    "else:\n",
    "    exposure_tfidf = 0.0\n",
    "\n",
    "print(f\"ex1.xml's  CCEExposure^TFIDF = {exposure_tfidf:.6f}\")\n"
   ]
  },
  {
   "cell_type": "code",
   "execution_count": null,
   "id": "a0244933",
   "metadata": {},
   "outputs": [],
   "source": [
    "words = {\n",
    "    \"the\": 0.000001,\n",
    "    \"politics\": 0.004,\n",
    "}\n",
    "\n",
    "threshold = 0.0003\n",
    "\n",
    "for key, value in words:\n",
    "    if value < threshold:\n",
    "        # get rid of it\n",
    "        # = 0\n",
    "        pass\n",
    "    "
   ]
  }
 ],
 "metadata": {
  "kernelspec": {
   "display_name": "Python 3",
   "language": "python",
   "name": "python3"
  },
  "language_info": {
   "codemirror_mode": {
    "name": "ipython",
    "version": 3
   },
   "file_extension": ".py",
   "mimetype": "text/x-python",
   "name": "python",
   "nbconvert_exporter": "python",
   "pygments_lexer": "ipython3",
   "version": "3.12.3"
  }
 },
 "nbformat": 4,
 "nbformat_minor": 5
}
