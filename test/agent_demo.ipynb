{
 "cells": [
  {
   "cell_type": "markdown",
   "metadata": {},
   "source": [
    "# Run Instructions\n",
    "\n",
    "1. Make sure conda is installed\n",
    "2. In terminal, run 'conda create -n myproject'\n",
    "3. Activate your environment by running 'conda activate myproject'\n",
    "4. run 'conda install pip'\n",
    "5. to get dependencies, run 'pip install -r requirements.txt'\n",
    "\n",
    "If you are still getting dependency issues, run \n",
    "'pip install word_forms sentence_transformers'\n",
    "\n",
    "After these steps, you should be good to run these! You can select your environment in the upper right hand corner of the jupyter notebook. "
   ]
  },
  {
   "cell_type": "code",
   "execution_count": 1,
   "metadata": {},
   "outputs": [
    {
     "name": "stdout",
     "output_type": "stream",
     "text": [
      "\u001b[34m__pycache__\u001b[m\u001b[m/            matching_agent_test.py  test_keywords.csv\n",
      "agent_demo.ipynb        testAttribute.py\n"
     ]
    }
   ],
   "source": [
    "ls"
   ]
  },
  {
   "cell_type": "code",
   "execution_count": 2,
   "metadata": {},
   "outputs": [
    {
     "name": "stdout",
     "output_type": "stream",
     "text": [
      "/Users/efang/Desktop/coding/research\n"
     ]
    }
   ],
   "source": [
    "%cd ../"
   ]
  },
  {
   "cell_type": "code",
   "execution_count": 5,
   "metadata": {},
   "outputs": [],
   "source": [
    "from src.analysis.match_extraction.matching_agent import MatchingAgent"
   ]
  },
  {
   "cell_type": "code",
   "execution_count": 6,
   "metadata": {},
   "outputs": [
    {
     "name": "stdout",
     "output_type": "stream",
     "text": [
      "Using device: cpu\n"
     ]
    }
   ],
   "source": [
    "agent = MatchingAgent(\n",
    "    keywords_path=\"data/test_sets/politics.csv\",\n",
    ")"
   ]
  },
  {
   "cell_type": "code",
   "execution_count": 8,
   "metadata": {},
   "outputs": [],
   "source": [
    "political_matches = agent.single_processing(document_path=\"/Users/efang/Desktop/coding/research/data/earnings_calls/ex1.xml\",match_type=\"hybrid\", exclude_duplicates=True)\n",
    "# risk_matches = agent2.cos_similarity(match_type=\"hybrid\", exclude_duplicates=True)"
   ]
  },
  {
   "cell_type": "code",
   "execution_count": 10,
   "metadata": {},
   "outputs": [
    {
     "name": "stdout",
     "output_type": "stream",
     "text": [
      "{'metadata': {'keyword_doc_name': 'politics.csv', 'earnings_call_name': 'ex1.xml', 'cosine_threshold': 0.7, 'runtime_seconds': 17.19495701789856, 'total_keywords_searched': 5, 'total_keywords_with_matches': 3, 'total_direct_matches': 0, 'total_cosine_matches': 13, 'total_sentences_in_document': 597, 'total_sentences_with_match': 11, 'percent_sentences_with_match': 1.8425460636515913}, 'matches': {'trade': {'direct_matches': [], 'cosine_matches': [{'matched_text': 'trading', 'context': \"And I guess to that point, given the confidence, given the fact that you have been through a number of cycles, you personally, and the company obviously, and you've seen this before, kind of extending the anti-dilutive share repurchases could generate cash this year, why not be more aggressive as it relates to buybacks, given where the stock is trading relative to history on various valuation metrics?\", 'similarity_score': 0.7527319192886353, 'position': 4636}]}, 'taxes': {'direct_matches': [], 'cosine_matches': [{'matched_text': 'tax', 'context': 'Earnings before tax and FMS increased 1%.', 'similarity_score': 0.9513092041015625, 'position': 1217}, {'matched_text': 'tax', 'context': \"Excluding pension costs and other items, the comparable tax rate was 32.1%, below the prior year's rate of 34.4%, reflecting a $2 million Canadian income tax settlement.\", 'similarity_score': 0.9513092041015625, 'position': 610}, {'matched_text': 'tax', 'context': \"Excluding pension costs and other items, the comparable tax rate was 32.1%, below the prior year's rate of 34.4%, reflecting a $2 million Canadian income tax settlement.\", 'similarity_score': 0.9513092041015625, 'position': 630}, {'matched_text': 'tax', 'context': 'Segment earnings before tax as a percent of operating revenue were 5.9%, down 60 basis points from the prior year.', 'similarity_score': 0.9513092041015625, 'position': 1323}, {'matched_text': 'tax', 'context': 'SCS earnings before tax were up 5% due to operating revenue growth, improved operating performance, and overhead cost improvements, partially offset by a large medical claim of $2.2 million in the quarter.', 'similarity_score': 0.9513092041015625, 'position': 1417}, {'matched_text': 'tax', 'context': \"Finally, we're forecasting an EPS headwind due to a higher tax rate, resulting from increased earnings in higher tax jurisdictions.\", 'similarity_score': 0.9513092041015625, 'position': 2859}, {'matched_text': 'tax', 'context': \"Finally, we're forecasting an EPS headwind due to a higher tax rate, resulting from increased earnings in higher tax jurisdictions.\", 'similarity_score': 0.9513092041015625, 'position': 2867}, {'matched_text': 'tax', 'context': 'Segment earnings before tax as a percent of operating revenue were 7.4% for the quarter, up 10 basis points from the prior year.', 'similarity_score': 0.9513092041015625, 'position': 1450}, {'matched_text': 'tax', 'context': \"We project a comparable tax rate of 36.3%, up from last year's rate of 35.3%.\", 'similarity_score': 0.9513092041015625, 'position': 2968}, {'matched_text': 'tax', 'context': 'In addition, however, we are forecasting a negative $0.24 impact from higher tax rate, increased share count, and impacts from foreign exchange.', 'similarity_score': 0.9513092041015625, 'position': 3559}, {'matched_text': 'tax', 'context': 'This improvement is despite a $0.24 negative impact a from higher tax rate, share count, and negative foreign exchange.', 'similarity_score': 0.9513092041015625, 'position': 4084}]}, 'politics': {'direct_matches': [], 'cosine_matches': [{'matched_text': 'political', 'context': 'Actual results may differ materially from these expectations due to changes in economic, business, competitive, market, political and regulatory factors.', 'similarity_score': 0.921734094619751, 'position': 137}]}}}\n"
     ]
    }
   ],
   "source": [
    "print(political_matches.export_to_dict())"
   ]
  },
  {
   "cell_type": "code",
   "execution_count": null,
   "metadata": {},
   "outputs": [],
   "source": [
    "political_matches.export_to_json(output_dir=\"results\", export_format=\"sentence\")"
   ]
  },
  {
   "cell_type": "code",
   "execution_count": null,
   "metadata": {},
   "outputs": [],
   "source": [
    "risk_matches.export_to_json(output_dir=\"results\", export_format=\"sentence\")"
   ]
  },
  {
   "cell_type": "code",
   "execution_count": null,
   "metadata": {},
   "outputs": [],
   "source": [
    "from src.functions.result_analysis import compare\n",
    "\n",
    "compare(\n",
    "    compare1=\"results/exposure_results_20250804_195223.json\", \n",
    "    compare2=\"results/exposure_results_20250804_195226.json\",\n",
    "    export=True,\n",
    "    output_dir=\"results\",\n",
    ")"
   ]
  }
 ],
 "metadata": {
  "kernelspec": {
   "display_name": "r2",
   "language": "python",
   "name": "python3"
  },
  "language_info": {
   "codemirror_mode": {
    "name": "ipython",
    "version": 3
   },
   "file_extension": ".py",
   "mimetype": "text/x-python",
   "name": "python",
   "nbconvert_exporter": "python",
   "pygments_lexer": "ipython3",
   "version": "3.13.5"
  }
 },
 "nbformat": 4,
 "nbformat_minor": 2
}
