{
 "cells": [
  {
   "cell_type": "markdown",
   "metadata": {},
   "source": [
    "# Test Notebook for Analyst"
   ]
  },
  {
   "cell_type": "code",
   "execution_count": 1,
   "metadata": {},
   "outputs": [
    {
     "name": "stdout",
     "output_type": "stream",
     "text": [
      "/Users/efang/Desktop/coding/research\n"
     ]
    }
   ],
   "source": [
    "cd .."
   ]
  },
  {
   "cell_type": "code",
   "execution_count": null,
   "metadata": {},
   "outputs": [],
   "source": [
    "import os\n",
    "from pathlib import Path\n",
    "from src.analysis.analyst_module import Analyst\n",
    "from src.document.abstract_classes.setup_module import Setup"
   ]
  },
  {
   "cell_type": "code",
   "execution_count": null,
   "metadata": {},
   "outputs": [],
   "source": [
    "# Setup configuration\n",
    "setup = Setup()"
   ]
  },
  {
   "cell_type": "code",
   "execution_count": null,
   "metadata": {},
   "outputs": [],
   "source": [
    "# Create an analyst with keyword path\n",
    "analyst = Analyst(keyword_path=\"data/paper_word_sets/political_words.csv\")\n",
    "\n",
    "# Test with a sample earnings call\n",
    "earnings_call_path = \"data/earnings_calls/ex1.xml\"\n",
    "\n",
    "# Run the analysis - this will create a new directory in results/\n",
    "result = analyst.fit_single_document(\n",
    "    earnings_call_path=earnings_call_path,\n",
    "    similarity=\"cosine\",\n",
    ")\n",
    "\n",
    "print(\"Analysis completed!\")\n",
    "print(f\"Output directory: {result['output_directory']}\")\n",
    "print(f\"TOML file: {result['toml_path']}\")\n",
    "print(f\"Exposure results: {result['exposure_results_path']}\")\n",
    "\n",
    "# Show some summary statistics\n",
    "qa_fit = result['qa_fit']\n",
    "pres_fit = result['pres_fit']\n",
    "exposure_results = result['exposure_results']\n",
    "\n",
    "print(f\"\\nSentiment Analysis Summary:\")\n",
    "print(f\"Q&A Section - Sentiment: {qa_fit.sentiment:.4f}, ML: {qa_fit.ML}, LM: {qa_fit.LM}, HIV4: {qa_fit.HIV4}\")\n",
    "print(f\"Presentation Section - Sentiment: {pres_fit.sentiment:.4f}, ML: {pres_fit.ML}, LM: {pres_fit.LM}, HIV4: {pres_fit.HIV4}\")\n",
    "\n",
    "print(f\"\\nMatching Analysis Summary:\")\n",
    "print(f\"Total keywords searched: {exposure_results.total_keywords_searched}\")\n",
    "print(f\"Total matches found: {exposure_results.total_direct_matches + exposure_results.total_cosine_matches}\")\n",
    "print(f\"Keywords with matches: {exposure_results.total_keywords_with_matches}\")"
   ]
  }
 ],
 "metadata": {
  "kernelspec": {
   "display_name": "r2",
   "language": "python",
   "name": "python3"
  },
  "language_info": {
   "codemirror_mode": {
    "name": "ipython",
    "version": 3
   },
   "file_extension": ".py",
   "mimetype": "text/x-python",
   "name": "python",
   "nbconvert_exporter": "python",
   "pygments_lexer": "ipython3",
   "version": "3.13.5"
  }
 },
 "nbformat": 4,
 "nbformat_minor": 2
}
