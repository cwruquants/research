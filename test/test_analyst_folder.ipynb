{
 "cells": [
  {
   "cell_type": "code",
   "execution_count": 1,
   "metadata": {},
   "outputs": [
    {
     "name": "stdout",
     "output_type": "stream",
     "text": [
      "/Users/efang/Desktop/coding/research\n"
     ]
    }
   ],
   "source": [
    "cd .."
   ]
  },
  {
   "cell_type": "code",
   "execution_count": null,
   "metadata": {},
   "outputs": [],
   "source": [
    "from src.analysis.analyst_module import Analyst\n",
    "\n",
    "# initialize your Analyst (with optional setup and keyword path)\n",
    "analyst = Analyst(\n",
    "    keyword_path=\"data/paper_word_sets/political_words.csv\"\n",
    ")\n",
    "\n",
    "# run the batch process\n",
    "batch_results = analyst.fit_directory(\n",
    "    input_dir=\"data/earnings_calls/2016\",\n",
    ")\n",
    "\n",
    "print(\"Batch outputs saved to:\", batch_results[\"batch_directory\"])\n",
    "print(\"Overall CSV:\", batch_results[\"csv_path\"])\n",
    "print(\"Processed files:\", batch_results[\"num_files_processed\"])\n"
   ]
  }
 ],
 "metadata": {
  "kernelspec": {
   "display_name": "r2",
   "language": "python",
   "name": "python3"
  },
  "language_info": {
   "codemirror_mode": {
    "name": "ipython",
    "version": 3
   },
   "file_extension": ".py",
   "mimetype": "text/x-python",
   "name": "python",
   "nbconvert_exporter": "python",
   "pygments_lexer": "ipython3",
   "version": "3.13.5"
  }
 },
 "nbformat": 4,
 "nbformat_minor": 2
}
