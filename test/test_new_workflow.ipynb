{
 "cells": [
  {
   "cell_type": "markdown",
   "metadata": {},
   "source": [
    "## Setup"
   ]
  },
  {
   "cell_type": "code",
   "execution_count": 1,
   "metadata": {},
   "outputs": [
    {
     "name": "stderr",
     "output_type": "stream",
     "text": [
      "[nltk_data] Downloading package punkt to /Users/efang/nltk_data...\n",
      "[nltk_data]   Package punkt is already up-to-date!\n",
      "/Users/efang/anaconda3/envs/r2/lib/python3.13/site-packages/tqdm/auto.py:21: TqdmWarning: IProgress not found. Please update jupyter and ipywidgets. See https://ipywidgets.readthedocs.io/en/stable/user_install.html\n",
      "  from .autonotebook import tqdm as notebook_tqdm\n"
     ]
    }
   ],
   "source": [
    "import sys\n",
    "from pathlib import Path\n",
    "\n",
    "# Add project root to path\n",
    "project_root = Path.cwd().parent\n",
    "sys.path.insert(0, str(project_root))\n",
    "\n",
    "from src.analysis.analyst_module import Analyst\n",
    "from src.document.abstract_classes.setup_module import Setup\n",
    "import toml"
   ]
  },
  {
   "cell_type": "markdown",
   "metadata": {},
   "source": [
    "## Test 1: Sentiment-Only Batch Processing\n",
    "\n",
    "Run sentiment analysis on all earnings calls without keyword matching."
   ]
  },
  {
   "cell_type": "code",
   "execution_count": null,
   "metadata": {},
   "outputs": [
    {
     "name": "stdout",
     "output_type": "stream",
     "text": [
      "================================================================================\n",
      "TEST 1: Sentiment-only batch processing\n",
      "================================================================================\n"
     ]
    },
    {
     "name": "stderr",
     "output_type": "stream",
     "text": [
      "Some weights of the model checkpoint at cardiffnlp/twitter-roberta-base-sentiment-latest were not used when initializing RobertaForSequenceClassification: ['roberta.pooler.dense.bias', 'roberta.pooler.dense.weight']\n",
      "- This IS expected if you are initializing RobertaForSequenceClassification from the checkpoint of a model trained on another task or with another architecture (e.g. initializing a BertForSequenceClassification model from a BertForPreTraining model).\n",
      "- This IS NOT expected if you are initializing RobertaForSequenceClassification from the checkpoint of a model that you expect to be exactly identical (initializing a BertForSequenceClassification model from a BertForSequenceClassification model).\n",
      "Device set to use cpu\n"
     ]
    }
   ],
   "source": [
    "print(\"=\" * 80)\n",
    "print(\"TEST 1: Sentiment-only batch processing\")\n",
    "print(\"=\" * 80)\n",
    "\n",
    "# Setup configuration for sentiment analysis\n",
    "setup = Setup(\n",
    "    sheet_name_positive='ML_positive_unigram',\n",
    "    sheet_name_negative='ML_negative_unigram',\n",
    "    file_path=str(project_root / \"data\" / \"word_sets\" / \"Garcia_MLWords.xlsx\"),\n",
    "    hf_model='cardiffnlp/twitter-roberta-base-sentiment-latest',\n",
    "    device=-1\n",
    ")\n",
    "\n",
    "# Create analyst (no keyword_path needed for sentiment-only)\n",
    "analyst = Analyst(setup=setup)\n",
    "\n",
    "# Run batch processing without keyword matching\n",
    "result = analyst.fit_directory(\n",
    "    input_dir=str(project_root / \"data\" / \"earnings_calls\" / \"2016\"),\n",
    "    output_dir=str(project_root / \"results\"),\n",
    "    run_matching=False,  # Sentiment analysis only (default behavior)\n",
    ")\n",
    "\n",
    "print(f\"\\n✓ Batch directory created: {result['batch_directory']}\")\n",
    "print(f\"✓ Batch summary CSV: {result['csv_path']}\")\n",
    "print(f\"✓ Files processed: {result['num_files_processed']}\")\n",
    "\n",
    "# Save batch directory for next test, or you can just set the variable of batch directory yourself\n",
    "batch_dir = result['batch_directory']"
   ]
  },
  {
   "cell_type": "markdown",
   "metadata": {},
   "source": [
    "## Keyword Matching on Existing Batch\n",
    "\n"
   ]
  },
  {
   "cell_type": "code",
   "execution_count": null,
   "metadata": {},
   "outputs": [],
   "source": [
    "print(\"=\" * 80)\n",
    "print(\"TEST 2: Keyword matching on existing batch\")\n",
    "print(\"=\" * 80)\n",
    "\n",
    "# Create analyst (no setup needed for matching-only)\n",
    "analyst = Analyst()\n",
    "\n",
    "keyword_path = str(project_root / \"data\" / \"paper_word_sets\" / \"political_words.csv\")\n",
    "\n",
    "# Run keyword matching\n",
    "result1 = analyst.match_existing_batch(\n",
    "    batch_dir=batch_dir,\n",
    "    keyword_path=keyword_path,\n",
    "    similarity=\"cosine\"\n",
    ")\n"
   ]
  }
 ],
 "metadata": {
  "kernelspec": {
   "display_name": "r2",
   "language": "python",
   "name": "python3"
  },
  "language_info": {
   "codemirror_mode": {
    "name": "ipython",
    "version": 3
   },
   "file_extension": ".py",
   "mimetype": "text/x-python",
   "name": "python",
   "nbconvert_exporter": "python",
   "pygments_lexer": "ipython3",
   "version": "3.13.5"
  }
 },
 "nbformat": 4,
 "nbformat_minor": 2
}
